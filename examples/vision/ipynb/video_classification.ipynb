{
  "cells": [
    {
      "cell_type": "markdown",
      "metadata": {
        "id": "view-in-github",
        "colab_type": "text"
      },
      "source": [
        "<a href=\"https://colab.research.google.com/github/Pratiksha2212/Video-Classification-with-CNN---RNN-Architecture/blob/main/examples/vision/ipynb/video_classification.ipynb\" target=\"_parent\"><img src=\"https://colab.research.google.com/assets/colab-badge.svg\" alt=\"Open In Colab\"/></a>"
      ]
    },
    {
      "cell_type": "markdown",
      "metadata": {
        "id": "n_oNkr3RMipU"
      },
      "source": [
        "# Video Classification with a CNN-RNN Architecture\n",
        "\n",
        "**Author:** [Sayak Paul](https://twitter.com/RisingSayak)<br>\n",
        "**Date created:** 2021/05/28<br>\n",
        "**Last modified:** 2023/12/08<br>\n",
        "**Description:** Training a video classifier with transfer learning and a recurrent model on the UCF101 dataset."
      ]
    },
    {
      "cell_type": "markdown",
      "metadata": {
        "id": "39h2wKRjMipe"
      },
      "source": [
        "This example demonstrates video classification, an important use-case with\n",
        "applications in recommendations, security, and so on.\n",
        "We will be using the [UCF101 dataset](https://www.crcv.ucf.edu/data/UCF101.php)\n",
        "to build our video classifier. The dataset consists of videos categorized into different\n",
        "actions, like cricket shot, punching, biking, etc. This dataset is commonly used to\n",
        "build action recognizers, which are an application of video classification.\n",
        "\n",
        "A video consists of an ordered sequence of frames. Each frame contains *spatial*\n",
        "information, and the sequence of those frames contains *temporal* information. To model\n",
        "both of these aspects, we use a hybrid architecture that consists of convolutions\n",
        "(for spatial processing) as well as recurrent layers (for temporal processing).\n",
        "Specifically, we'll use a Convolutional Neural Network (CNN) and a Recurrent Neural\n",
        "Network (RNN) consisting of [GRU layers](https://keras.io/api/layers/recurrent_layers/gru/).\n",
        "This kind of hybrid architecture is popularly known as a **CNN-RNN**.\n",
        "\n",
        "This example requires TensorFlow 2.5 or higher, as well as TensorFlow Docs, which can be\n",
        "installed using the following command:"
      ]
    },
    {
      "cell_type": "code",
      "execution_count": 2,
      "metadata": {
        "colab": {
          "base_uri": "https://localhost:8080/"
        },
        "id": "lrRNhnfaMiph",
        "outputId": "d6c458e5-4994-4fce-9cb0-cd30b45287de"
      },
      "outputs": [
        {
          "output_type": "stream",
          "name": "stdout",
          "text": [
            "  Preparing metadata (setup.py) ... \u001b[?25l\u001b[?25hdone\n",
            "  Building wheel for tensorflow-docs (setup.py) ... \u001b[?25l\u001b[?25hdone\n"
          ]
        }
      ],
      "source": [
        "!pip install -q git+https://github.com/tensorflow/docs"
      ]
    },
    {
      "cell_type": "markdown",
      "metadata": {
        "id": "YxDUx177Mipk"
      },
      "source": [
        "## Data collection\n",
        "\n",
        "In order to keep the runtime of this example relatively short, we will be using a\n",
        "subsampled version of the original UCF101 dataset. You can refer to\n",
        "[this notebook](https://colab.research.google.com/github/sayakpaul/Action-Recognition-in-TensorFlow/blob/main/Data_Preparation_UCF101.ipynb)\n",
        "to know how the subsampling was done."
      ]
    },
    {
      "cell_type": "code",
      "execution_count": 1,
      "metadata": {
        "id": "x-a53U9gMipl"
      },
      "outputs": [],
      "source": [
        "!!wget -q https://github.com/sayakpaul/Action-Recognition-in-TensorFlow/releases/download/v1.0.0/ucf101_top5.tar.gz\n",
        "!tar xf ucf101_top5.tar.gz"
      ]
    },
    {
      "cell_type": "markdown",
      "metadata": {
        "id": "cCOrD0UdMipm"
      },
      "source": [
        "## Setup"
      ]
    },
    {
      "cell_type": "code",
      "execution_count": 3,
      "metadata": {
        "id": "PeGF1sGVMipn"
      },
      "outputs": [],
      "source": [
        "import os\n",
        "\n",
        "import keras\n",
        "from imutils import paths\n",
        "\n",
        "import matplotlib.pyplot as plt\n",
        "import pandas as pd\n",
        "import numpy as np\n",
        "import imageio\n",
        "import cv2\n",
        "from IPython.display import Image"
      ]
    },
    {
      "cell_type": "markdown",
      "metadata": {
        "id": "AoCLGhIWMipo"
      },
      "source": [
        "## Define hyperparameters"
      ]
    },
    {
      "cell_type": "code",
      "execution_count": 4,
      "metadata": {
        "id": "MuF2q25bMipp"
      },
      "outputs": [],
      "source": [
        "IMG_SIZE = 224\n",
        "BATCH_SIZE = 64\n",
        "EPOCHS = 10\n",
        "\n",
        "MAX_SEQ_LENGTH = 20\n",
        "NUM_FEATURES = 2048"
      ]
    },
    {
      "cell_type": "markdown",
      "metadata": {
        "id": "xj-EH8WMMipq"
      },
      "source": [
        "## Data preparation"
      ]
    },
    {
      "cell_type": "code",
      "execution_count": 5,
      "metadata": {
        "colab": {
          "base_uri": "https://localhost:8080/",
          "height": 398
        },
        "id": "ARNL40i6Mipr",
        "outputId": "4ee0869b-63a5-471e-95c5-3cda1ae6a92d"
      },
      "outputs": [
        {
          "output_type": "stream",
          "name": "stdout",
          "text": [
            "Total videos for training: 594\n",
            "Total videos for testing: 224\n"
          ]
        },
        {
          "output_type": "execute_result",
          "data": {
            "text/plain": [
              "                     video_name           tag\n",
              "156  v_PlayingCello_g13_c05.avi  PlayingCello\n",
              "238         v_Punch_g08_c01.avi         Punch\n",
              "450  v_ShavingBeard_g22_c01.avi  ShavingBeard\n",
              "566   v_TennisSwing_g21_c03.avi   TennisSwing\n",
              "582   v_TennisSwing_g24_c01.avi   TennisSwing\n",
              "230  v_PlayingCello_g24_c07.avi  PlayingCello\n",
              "462  v_ShavingBeard_g23_c06.avi  ShavingBeard\n",
              "282         v_Punch_g14_c04.avi         Punch\n",
              "452  v_ShavingBeard_g22_c03.avi  ShavingBeard\n",
              "315         v_Punch_g19_c03.avi         Punch"
            ],
            "text/html": [
              "\n",
              "  <div id=\"df-8232da64-81c6-4a87-a3f7-133e25ca78f1\" class=\"colab-df-container\">\n",
              "    <div>\n",
              "<style scoped>\n",
              "    .dataframe tbody tr th:only-of-type {\n",
              "        vertical-align: middle;\n",
              "    }\n",
              "\n",
              "    .dataframe tbody tr th {\n",
              "        vertical-align: top;\n",
              "    }\n",
              "\n",
              "    .dataframe thead th {\n",
              "        text-align: right;\n",
              "    }\n",
              "</style>\n",
              "<table border=\"1\" class=\"dataframe\">\n",
              "  <thead>\n",
              "    <tr style=\"text-align: right;\">\n",
              "      <th></th>\n",
              "      <th>video_name</th>\n",
              "      <th>tag</th>\n",
              "    </tr>\n",
              "  </thead>\n",
              "  <tbody>\n",
              "    <tr>\n",
              "      <th>156</th>\n",
              "      <td>v_PlayingCello_g13_c05.avi</td>\n",
              "      <td>PlayingCello</td>\n",
              "    </tr>\n",
              "    <tr>\n",
              "      <th>238</th>\n",
              "      <td>v_Punch_g08_c01.avi</td>\n",
              "      <td>Punch</td>\n",
              "    </tr>\n",
              "    <tr>\n",
              "      <th>450</th>\n",
              "      <td>v_ShavingBeard_g22_c01.avi</td>\n",
              "      <td>ShavingBeard</td>\n",
              "    </tr>\n",
              "    <tr>\n",
              "      <th>566</th>\n",
              "      <td>v_TennisSwing_g21_c03.avi</td>\n",
              "      <td>TennisSwing</td>\n",
              "    </tr>\n",
              "    <tr>\n",
              "      <th>582</th>\n",
              "      <td>v_TennisSwing_g24_c01.avi</td>\n",
              "      <td>TennisSwing</td>\n",
              "    </tr>\n",
              "    <tr>\n",
              "      <th>230</th>\n",
              "      <td>v_PlayingCello_g24_c07.avi</td>\n",
              "      <td>PlayingCello</td>\n",
              "    </tr>\n",
              "    <tr>\n",
              "      <th>462</th>\n",
              "      <td>v_ShavingBeard_g23_c06.avi</td>\n",
              "      <td>ShavingBeard</td>\n",
              "    </tr>\n",
              "    <tr>\n",
              "      <th>282</th>\n",
              "      <td>v_Punch_g14_c04.avi</td>\n",
              "      <td>Punch</td>\n",
              "    </tr>\n",
              "    <tr>\n",
              "      <th>452</th>\n",
              "      <td>v_ShavingBeard_g22_c03.avi</td>\n",
              "      <td>ShavingBeard</td>\n",
              "    </tr>\n",
              "    <tr>\n",
              "      <th>315</th>\n",
              "      <td>v_Punch_g19_c03.avi</td>\n",
              "      <td>Punch</td>\n",
              "    </tr>\n",
              "  </tbody>\n",
              "</table>\n",
              "</div>\n",
              "    <div class=\"colab-df-buttons\">\n",
              "\n",
              "  <div class=\"colab-df-container\">\n",
              "    <button class=\"colab-df-convert\" onclick=\"convertToInteractive('df-8232da64-81c6-4a87-a3f7-133e25ca78f1')\"\n",
              "            title=\"Convert this dataframe to an interactive table.\"\n",
              "            style=\"display:none;\">\n",
              "\n",
              "  <svg xmlns=\"http://www.w3.org/2000/svg\" height=\"24px\" viewBox=\"0 -960 960 960\">\n",
              "    <path d=\"M120-120v-720h720v720H120Zm60-500h600v-160H180v160Zm220 220h160v-160H400v160Zm0 220h160v-160H400v160ZM180-400h160v-160H180v160Zm440 0h160v-160H620v160ZM180-180h160v-160H180v160Zm440 0h160v-160H620v160Z\"/>\n",
              "  </svg>\n",
              "    </button>\n",
              "\n",
              "  <style>\n",
              "    .colab-df-container {\n",
              "      display:flex;\n",
              "      gap: 12px;\n",
              "    }\n",
              "\n",
              "    .colab-df-convert {\n",
              "      background-color: #E8F0FE;\n",
              "      border: none;\n",
              "      border-radius: 50%;\n",
              "      cursor: pointer;\n",
              "      display: none;\n",
              "      fill: #1967D2;\n",
              "      height: 32px;\n",
              "      padding: 0 0 0 0;\n",
              "      width: 32px;\n",
              "    }\n",
              "\n",
              "    .colab-df-convert:hover {\n",
              "      background-color: #E2EBFA;\n",
              "      box-shadow: 0px 1px 2px rgba(60, 64, 67, 0.3), 0px 1px 3px 1px rgba(60, 64, 67, 0.15);\n",
              "      fill: #174EA6;\n",
              "    }\n",
              "\n",
              "    .colab-df-buttons div {\n",
              "      margin-bottom: 4px;\n",
              "    }\n",
              "\n",
              "    [theme=dark] .colab-df-convert {\n",
              "      background-color: #3B4455;\n",
              "      fill: #D2E3FC;\n",
              "    }\n",
              "\n",
              "    [theme=dark] .colab-df-convert:hover {\n",
              "      background-color: #434B5C;\n",
              "      box-shadow: 0px 1px 3px 1px rgba(0, 0, 0, 0.15);\n",
              "      filter: drop-shadow(0px 1px 2px rgba(0, 0, 0, 0.3));\n",
              "      fill: #FFFFFF;\n",
              "    }\n",
              "  </style>\n",
              "\n",
              "    <script>\n",
              "      const buttonEl =\n",
              "        document.querySelector('#df-8232da64-81c6-4a87-a3f7-133e25ca78f1 button.colab-df-convert');\n",
              "      buttonEl.style.display =\n",
              "        google.colab.kernel.accessAllowed ? 'block' : 'none';\n",
              "\n",
              "      async function convertToInteractive(key) {\n",
              "        const element = document.querySelector('#df-8232da64-81c6-4a87-a3f7-133e25ca78f1');\n",
              "        const dataTable =\n",
              "          await google.colab.kernel.invokeFunction('convertToInteractive',\n",
              "                                                    [key], {});\n",
              "        if (!dataTable) return;\n",
              "\n",
              "        const docLinkHtml = 'Like what you see? Visit the ' +\n",
              "          '<a target=\"_blank\" href=https://colab.research.google.com/notebooks/data_table.ipynb>data table notebook</a>'\n",
              "          + ' to learn more about interactive tables.';\n",
              "        element.innerHTML = '';\n",
              "        dataTable['output_type'] = 'display_data';\n",
              "        await google.colab.output.renderOutput(dataTable, element);\n",
              "        const docLink = document.createElement('div');\n",
              "        docLink.innerHTML = docLinkHtml;\n",
              "        element.appendChild(docLink);\n",
              "      }\n",
              "    </script>\n",
              "  </div>\n",
              "\n",
              "\n",
              "<div id=\"df-ccb3f18a-244c-4d89-b79c-df977f07ec61\">\n",
              "  <button class=\"colab-df-quickchart\" onclick=\"quickchart('df-ccb3f18a-244c-4d89-b79c-df977f07ec61')\"\n",
              "            title=\"Suggest charts\"\n",
              "            style=\"display:none;\">\n",
              "\n",
              "<svg xmlns=\"http://www.w3.org/2000/svg\" height=\"24px\"viewBox=\"0 0 24 24\"\n",
              "     width=\"24px\">\n",
              "    <g>\n",
              "        <path d=\"M19 3H5c-1.1 0-2 .9-2 2v14c0 1.1.9 2 2 2h14c1.1 0 2-.9 2-2V5c0-1.1-.9-2-2-2zM9 17H7v-7h2v7zm4 0h-2V7h2v10zm4 0h-2v-4h2v4z\"/>\n",
              "    </g>\n",
              "</svg>\n",
              "  </button>\n",
              "\n",
              "<style>\n",
              "  .colab-df-quickchart {\n",
              "      --bg-color: #E8F0FE;\n",
              "      --fill-color: #1967D2;\n",
              "      --hover-bg-color: #E2EBFA;\n",
              "      --hover-fill-color: #174EA6;\n",
              "      --disabled-fill-color: #AAA;\n",
              "      --disabled-bg-color: #DDD;\n",
              "  }\n",
              "\n",
              "  [theme=dark] .colab-df-quickchart {\n",
              "      --bg-color: #3B4455;\n",
              "      --fill-color: #D2E3FC;\n",
              "      --hover-bg-color: #434B5C;\n",
              "      --hover-fill-color: #FFFFFF;\n",
              "      --disabled-bg-color: #3B4455;\n",
              "      --disabled-fill-color: #666;\n",
              "  }\n",
              "\n",
              "  .colab-df-quickchart {\n",
              "    background-color: var(--bg-color);\n",
              "    border: none;\n",
              "    border-radius: 50%;\n",
              "    cursor: pointer;\n",
              "    display: none;\n",
              "    fill: var(--fill-color);\n",
              "    height: 32px;\n",
              "    padding: 0;\n",
              "    width: 32px;\n",
              "  }\n",
              "\n",
              "  .colab-df-quickchart:hover {\n",
              "    background-color: var(--hover-bg-color);\n",
              "    box-shadow: 0 1px 2px rgba(60, 64, 67, 0.3), 0 1px 3px 1px rgba(60, 64, 67, 0.15);\n",
              "    fill: var(--button-hover-fill-color);\n",
              "  }\n",
              "\n",
              "  .colab-df-quickchart-complete:disabled,\n",
              "  .colab-df-quickchart-complete:disabled:hover {\n",
              "    background-color: var(--disabled-bg-color);\n",
              "    fill: var(--disabled-fill-color);\n",
              "    box-shadow: none;\n",
              "  }\n",
              "\n",
              "  .colab-df-spinner {\n",
              "    border: 2px solid var(--fill-color);\n",
              "    border-color: transparent;\n",
              "    border-bottom-color: var(--fill-color);\n",
              "    animation:\n",
              "      spin 1s steps(1) infinite;\n",
              "  }\n",
              "\n",
              "  @keyframes spin {\n",
              "    0% {\n",
              "      border-color: transparent;\n",
              "      border-bottom-color: var(--fill-color);\n",
              "      border-left-color: var(--fill-color);\n",
              "    }\n",
              "    20% {\n",
              "      border-color: transparent;\n",
              "      border-left-color: var(--fill-color);\n",
              "      border-top-color: var(--fill-color);\n",
              "    }\n",
              "    30% {\n",
              "      border-color: transparent;\n",
              "      border-left-color: var(--fill-color);\n",
              "      border-top-color: var(--fill-color);\n",
              "      border-right-color: var(--fill-color);\n",
              "    }\n",
              "    40% {\n",
              "      border-color: transparent;\n",
              "      border-right-color: var(--fill-color);\n",
              "      border-top-color: var(--fill-color);\n",
              "    }\n",
              "    60% {\n",
              "      border-color: transparent;\n",
              "      border-right-color: var(--fill-color);\n",
              "    }\n",
              "    80% {\n",
              "      border-color: transparent;\n",
              "      border-right-color: var(--fill-color);\n",
              "      border-bottom-color: var(--fill-color);\n",
              "    }\n",
              "    90% {\n",
              "      border-color: transparent;\n",
              "      border-bottom-color: var(--fill-color);\n",
              "    }\n",
              "  }\n",
              "</style>\n",
              "\n",
              "  <script>\n",
              "    async function quickchart(key) {\n",
              "      const quickchartButtonEl =\n",
              "        document.querySelector('#' + key + ' button');\n",
              "      quickchartButtonEl.disabled = true;  // To prevent multiple clicks.\n",
              "      quickchartButtonEl.classList.add('colab-df-spinner');\n",
              "      try {\n",
              "        const charts = await google.colab.kernel.invokeFunction(\n",
              "            'suggestCharts', [key], {});\n",
              "      } catch (error) {\n",
              "        console.error('Error during call to suggestCharts:', error);\n",
              "      }\n",
              "      quickchartButtonEl.classList.remove('colab-df-spinner');\n",
              "      quickchartButtonEl.classList.add('colab-df-quickchart-complete');\n",
              "    }\n",
              "    (() => {\n",
              "      let quickchartButtonEl =\n",
              "        document.querySelector('#df-ccb3f18a-244c-4d89-b79c-df977f07ec61 button');\n",
              "      quickchartButtonEl.style.display =\n",
              "        google.colab.kernel.accessAllowed ? 'block' : 'none';\n",
              "    })();\n",
              "  </script>\n",
              "</div>\n",
              "\n",
              "    </div>\n",
              "  </div>\n"
            ],
            "application/vnd.google.colaboratory.intrinsic+json": {
              "type": "dataframe",
              "summary": "{\n  \"name\": \"train_df\",\n  \"rows\": 10,\n  \"fields\": [\n    {\n      \"column\": \"video_name\",\n      \"properties\": {\n        \"dtype\": \"string\",\n        \"num_unique_values\": 10,\n        \"samples\": [\n          \"v_ShavingBeard_g22_c03.avi\",\n          \"v_Punch_g08_c01.avi\",\n          \"v_PlayingCello_g24_c07.avi\"\n        ],\n        \"semantic_type\": \"\",\n        \"description\": \"\"\n      }\n    },\n    {\n      \"column\": \"tag\",\n      \"properties\": {\n        \"dtype\": \"category\",\n        \"num_unique_values\": 4,\n        \"samples\": [\n          \"Punch\",\n          \"TennisSwing\",\n          \"PlayingCello\"\n        ],\n        \"semantic_type\": \"\",\n        \"description\": \"\"\n      }\n    }\n  ]\n}"
            }
          },
          "metadata": {},
          "execution_count": 5
        }
      ],
      "source": [
        "train_df = pd.read_csv(\"train.csv\")\n",
        "test_df = pd.read_csv(\"test.csv\")\n",
        "\n",
        "print(f\"Total videos for training: {len(train_df)}\")\n",
        "print(f\"Total videos for testing: {len(test_df)}\")\n",
        "\n",
        "train_df.sample(10)"
      ]
    },
    {
      "cell_type": "markdown",
      "metadata": {
        "id": "LZBlBB3eMipr"
      },
      "source": [
        "One of the many challenges of training video classifiers is figuring out a way to feed\n",
        "the videos to a network. [This blog post](https://blog.coast.ai/five-video-classification-methods-implemented-in-keras-and-tensorflow-99cad29cc0b5)\n",
        "discusses five such methods. Since a video is an ordered sequence of frames, we could\n",
        "just extract the frames and put them in a 3D tensor. But the number of frames may differ\n",
        "from video to video which would prevent us from stacking them into batches\n",
        "(unless we use padding). As an alternative, we can **save video frames at a fixed\n",
        "interval until a maximum frame count is reached**. In this example we will do\n",
        "the following:\n",
        "\n",
        "1. Capture the frames of a video.\n",
        "2. Extract frames from the videos until a maximum frame count is reached.\n",
        "3. In the case, where a video's frame count is lesser than the maximum frame count we\n",
        "will pad the video with zeros.\n",
        "\n",
        "Note that this workflow is identical to [problems involving texts sequences](https://developers.google.com/machine-learning/guides/text-classification/). Videos of the UCF101 dataset is [known](https://www.crcv.ucf.edu/papers/UCF101_CRCV-TR-12-01.pdf)\n",
        "to not contain extreme variations in objects and actions across frames. Because of this,\n",
        "it may be okay to only consider a few frames for the learning task. But this approach may\n",
        "not generalize well to other video classification problems. We will be using\n",
        "[OpenCV's `VideoCapture()` method](https://docs.opencv.org/master/dd/d43/tutorial_py_video_display.html)\n",
        "to read frames from videos."
      ]
    },
    {
      "cell_type": "code",
      "execution_count": 6,
      "metadata": {
        "id": "KWOVURVYMips"
      },
      "outputs": [],
      "source": [
        "# The following two methods are taken from this tutorial:\n",
        "# https://www.tensorflow.org/hub/tutorials/action_recognition_with_tf_hub\n",
        "\n",
        "\n",
        "def crop_center_square(frame):\n",
        "    y, x = frame.shape[0:2]\n",
        "    min_dim = min(y, x)\n",
        "    start_x = (x // 2) - (min_dim // 2)\n",
        "    start_y = (y // 2) - (min_dim // 2)\n",
        "    return frame[start_y : start_y + min_dim, start_x : start_x + min_dim]\n",
        "\n",
        "\n",
        "def load_video(path, max_frames=0, resize=(IMG_SIZE, IMG_SIZE)):\n",
        "    cap = cv2.VideoCapture(path)\n",
        "    frames = []\n",
        "    try:\n",
        "        while True:\n",
        "            ret, frame = cap.read()\n",
        "            if not ret:\n",
        "                break\n",
        "            frame = crop_center_square(frame)\n",
        "            frame = cv2.resize(frame, resize)\n",
        "            frame = frame[:, :, [2, 1, 0]]\n",
        "            frames.append(frame)\n",
        "\n",
        "            if len(frames) == max_frames:\n",
        "                break\n",
        "    finally:\n",
        "        cap.release()\n",
        "    return np.array(frames)\n"
      ]
    },
    {
      "cell_type": "markdown",
      "metadata": {
        "id": "OO2OiE84Mipt"
      },
      "source": [
        "We can use a pre-trained network to extract meaningful features from the extracted\n",
        "frames. The [`Keras Applications`](https://keras.io/api/applications/) module provides\n",
        "a number of state-of-the-art models pre-trained on the [ImageNet-1k dataset](http://image-net.org/).\n",
        "We will be using the [InceptionV3 model](https://arxiv.org/abs/1512.00567) for this purpose."
      ]
    },
    {
      "cell_type": "code",
      "execution_count": 7,
      "metadata": {
        "colab": {
          "base_uri": "https://localhost:8080/"
        },
        "id": "_xU8m93QMipt",
        "outputId": "0beabcfd-22da-4744-8698-d2fca1812521"
      },
      "outputs": [
        {
          "output_type": "stream",
          "name": "stdout",
          "text": [
            "Downloading data from https://storage.googleapis.com/tensorflow/keras-applications/inception_v3/inception_v3_weights_tf_dim_ordering_tf_kernels_notop.h5\n",
            "87910968/87910968 [==============================] - 0s 0us/step\n"
          ]
        }
      ],
      "source": [
        "\n",
        "def build_feature_extractor():\n",
        "    feature_extractor = keras.applications.InceptionV3(\n",
        "        weights=\"imagenet\",\n",
        "        include_top=False,\n",
        "        pooling=\"avg\",\n",
        "        input_shape=(IMG_SIZE, IMG_SIZE, 3),\n",
        "    )\n",
        "    preprocess_input = keras.applications.inception_v3.preprocess_input\n",
        "\n",
        "    inputs = keras.Input((IMG_SIZE, IMG_SIZE, 3))\n",
        "    preprocessed = preprocess_input(inputs)\n",
        "\n",
        "    outputs = feature_extractor(preprocessed)\n",
        "    return keras.Model(inputs, outputs, name=\"feature_extractor\")\n",
        "\n",
        "\n",
        "feature_extractor = build_feature_extractor()"
      ]
    },
    {
      "cell_type": "markdown",
      "metadata": {
        "id": "9HDHqMISMipu"
      },
      "source": [
        "The labels of the videos are strings. Neural networks do not understand string values,\n",
        "so they must be converted to some numerical form before they are fed to the model. Here\n",
        "we will use the [`StringLookup`](https://keras.io/api/layers/preprocessing_layers/categorical/string_lookup)\n",
        "layer encode the class labels as integers."
      ]
    },
    {
      "cell_type": "code",
      "execution_count": 8,
      "metadata": {
        "colab": {
          "base_uri": "https://localhost:8080/"
        },
        "id": "G9U6lv64Mipv",
        "outputId": "d255f87e-be41-4dfe-e0a1-719dde202cb3"
      },
      "outputs": [
        {
          "output_type": "stream",
          "name": "stdout",
          "text": [
            "['CricketShot', 'PlayingCello', 'Punch', 'ShavingBeard', 'TennisSwing']\n"
          ]
        }
      ],
      "source": [
        "label_processor = keras.layers.StringLookup(\n",
        "    num_oov_indices=0, vocabulary=np.unique(train_df[\"tag\"])\n",
        ")\n",
        "print(label_processor.get_vocabulary())"
      ]
    },
    {
      "cell_type": "markdown",
      "metadata": {
        "id": "PhxuaQl2Mipw"
      },
      "source": [
        "Finally, we can put all the pieces together to create our data processing utility."
      ]
    },
    {
      "cell_type": "markdown",
      "metadata": {
        "id": "6DHR2oZtMipy"
      },
      "source": [
        "The above code block will take ~20 minutes to execute depending on the machine it's being\n",
        "executed."
      ]
    },
    {
      "cell_type": "code",
      "execution_count": 11,
      "metadata": {
        "colab": {
          "base_uri": "https://localhost:8080/",
          "height": 1000
        },
        "id": "ro96ac9GMipw",
        "outputId": "e8248c02-f277-4b7e-88b1-157060e00cce"
      },
      "outputs": [
        {
          "output_type": "error",
          "ename": "FailedPreconditionError",
          "evalue": "Exception encountered when calling layer 'string_lookup_1' (type StringLookup).\n\n{{function_node __wrapped__LookupTableFindV2_device_/job:localhost/replica:0/task:0/device:CPU:0}} Table not initialized. [Op:LookupTableFindV2] name: \n\nCall arguments received by layer 'string_lookup_1' (type StringLookup):\n  • inputs=<tf.RaggedTensor [[b'cricketshot'],\n [b'cricketshot'],\n [b'cricketshot'],\n [b'cricketshot'],\n [b'cricketshot'],\n [b'cricketshot'],\n [b'cricketshot'],\n [b'cricketshot'],\n [b'cricketshot'],\n [b'cricketshot'],\n [b'cricketshot'],\n [b'cricketshot'],\n [b'cricketshot'],\n [b'cricketshot'],\n [b'cricketshot'],\n [b'cricketshot'],\n [b'cricketshot'],\n [b'cricketshot'],\n [b'cricketshot'],\n [b'cricketshot'],\n [b'cricketshot'],\n [b'cricketshot'],\n [b'cricketshot'],\n [b'cricketshot'],\n [b'cricketshot'],\n [b'cricketshot'],\n [b'cricketshot'],\n [b'cricketshot'],\n [b'cricketshot'],\n [b'cricketshot'],\n [b'cricketshot'],\n [b'cricketshot'],\n [b'cricketshot'],\n [b'cricketshot'],\n [b'cricketshot'],\n [b'cricketshot'],\n [b'cricketshot'],\n [b'cricketshot'],\n [b'cricketshot'],\n [b'cricketshot'],\n [b'cricketshot'],\n [b'cricketshot'],\n [b'cricketshot'],\n [b'cricketshot'],\n [b'cricketshot'],\n [b'cricketshot'],\n [b'cricketshot'],\n [b'cricketshot'],\n [b'cricketshot'],\n [b'cricketshot'],\n [b'cricketshot'],\n [b'cricketshot'],\n [b'cricketshot'],\n [b'cricketshot'],\n [b'cricketshot'],\n [b'cricketshot'],\n [b'cricketshot'],\n [b'cricketshot'],\n [b'cricketshot'],\n [b'cricketshot'],\n [b'cricketshot'],\n [b'cricketshot'],\n [b'cricketshot'],\n [b'cricketshot'],\n [b'cricketshot'],\n [b'cricketshot'],\n [b'cricketshot'],\n [b'cricketshot'],\n [b'cricketshot'],\n [b'cricketshot'],\n [b'cricketshot'],\n [b'cricketshot'],\n [b'cricketshot'],\n [b'cricketshot'],\n [b'cricketshot'],\n [b'cricketshot'],\n [b'cricketshot'],\n [b'cricketshot'],\n [b'cricketshot'],\n [b'cricketshot'],\n [b'cricketshot'],\n [b'cricketshot'],\n [b'cricketshot'],\n [b'cricketshot'],\n [b'cricketshot'],\n [b'cricketshot'],\n [b'cricketshot'],\n [b'cricketshot'],\n [b'cricketshot'],\n [b'cricketshot'],\n [b'cricketshot'],\n [b'cricketshot'],\n [b'cricketshot'],\n [b'cricketshot'],\n [b'cricketshot'],\n [b'cricketshot'],\n [b'cricketshot'],\n [b'cricketshot'],\n [b'cricketshot'],\n [b'cricketshot'],\n [b'cricketshot'],\n [b'cricketshot'],\n [b'cricketshot'],\n [b'cricketshot'],\n [b'cricketshot'],\n [b'cricketshot'],\n [b'cricketshot'],\n [b'cricketshot'],\n [b'cricketshot'],\n [b'cricketshot'],\n [b'cricketshot'],\n [b'cricketshot'],\n [b'cricketshot'],\n [b'cricketshot'],\n [b'cricketshot'],\n [b'cricketshot'],\n [b'cricketshot'],\n [b'cricketshot'],\n [b'playingcello'],\n [b'playingcello'],\n [b'playingcello'],\n [b'playingcello'],\n [b'playingcello'],\n [b'playingcello'],\n [b'playingcello'],\n [b'playingcello'],\n [b'playingcello'],\n [b'playingcello'],\n [b'playingcello'],\n [b'playingcello'],\n [b'playingcello'],\n [b'playingcello'],\n [b'playingcello'],\n [b'playingcello'],\n [b'playingcello'],\n [b'playingcello'],\n [b'playingcello'],\n [b'playingcello'],\n [b'playingcello'],\n [b'playingcello'],\n [b'playingcello'],\n [b'playingcello'],\n [b'playingcello'],\n [b'playingcello'],\n [b'playingcello'],\n [b'playingcello'],\n [b'playingcello'],\n [b'playingcello'],\n [b'playingcello'],\n [b'playingcello'],\n [b'playingcello'],\n [b'playingcello'],\n [b'playingcello'],\n [b'playingcello'],\n [b'playingcello'],\n [b'playingcello'],\n [b'playingcello'],\n [b'playingcello'],\n [b'playingcello'],\n [b'playingcello'],\n [b'playingcello'],\n [b'playingcello'],\n [b'playingcello'],\n [b'playingcello'],\n [b'playingcello'],\n [b'playingcello'],\n [b'playingcello'],\n [b'playingcello'],\n [b'playingcello'],\n [b'playingcello'],\n [b'playingcello'],\n [b'playingcello'],\n [b'playingcello'],\n [b'playingcello'],\n [b'playingcello'],\n [b'playingcello'],\n [b'playingcello'],\n [b'playingcello'],\n [b'playingcello'],\n [b'playingcello'],\n [b'playingcello'],\n [b'playingcello'],\n [b'playingcello'],\n [b'playingcello'],\n [b'playingcello'],\n [b'playingcello'],\n [b'playingcello'],\n [b'playingcello'],\n [b'playingcello'],\n [b'playingcello'],\n [b'playingcello'],\n [b'playingcello'],\n [b'playingcello'],\n [b'playingcello'],\n [b'playingcello'],\n [b'playingcello'],\n [b'playingcello'],\n [b'playingcello'],\n [b'playingcello'],\n [b'playingcello'],\n [b'playingcello'],\n [b'playingcello'],\n [b'playingcello'],\n [b'playingcello'],\n [b'playingcello'],\n [b'playingcello'],\n [b'playingcello'],\n [b'playingcello'],\n [b'playingcello'],\n [b'playingcello'],\n [b'playingcello'],\n [b'playingcello'],\n [b'playingcello'],\n [b'playingcello'],\n [b'playingcello'],\n [b'playingcello'],\n [b'playingcello'],\n [b'playingcello'],\n [b'playingcello'],\n [b'playingcello'],\n [b'playingcello'],\n [b'playingcello'],\n [b'playingcello'],\n [b'playingcello'],\n [b'playingcello'],\n [b'playingcello'],\n [b'playingcello'],\n [b'playingcello'],\n [b'playingcello'],\n [b'playingcello'],\n [b'playingcello'],\n [b'playingcello'],\n [b'playingcello'],\n [b'playingcello'],\n [b'playingcello'],\n [b'playingcello'],\n [b'playingcello'],\n [b'playingcello'],\n [b'punch'],\n [b'punch'],\n [b'punch'],\n [b'punch'],\n [b'punch'],\n [b'punch'],\n [b'punch'],\n [b'punch'],\n [b'punch'],\n [b'punch'],\n [b'punch'],\n [b'punch'],\n [b'punch'],\n [b'punch'],\n [b'punch'],\n [b'punch'],\n [b'punch'],\n [b'punch'],\n [b'punch'],\n [b'punch'],\n [b'punch'],\n [b'punch'],\n [b'punch'],\n [b'punch'],\n [b'punch'],\n [b'punch'],\n [b'punch'],\n [b'punch'],\n [b'punch'],\n [b'punch'],\n [b'punch'],\n [b'punch'],\n [b'punch'],\n [b'punch'],\n [b'punch'],\n [b'punch'],\n [b'punch'],\n [b'punch'],\n [b'punch'],\n [b'punch'],\n [b'punch'],\n [b'punch'],\n [b'punch'],\n [b'punch'],\n [b'punch'],\n [b'punch'],\n [b'punch'],\n [b'punch'],\n [b'punch'],\n [b'punch'],\n [b'punch'],\n [b'punch'],\n [b'punch'],\n [b'punch'],\n [b'punch'],\n [b'punch'],\n [b'punch'],\n [b'punch'],\n [b'punch'],\n [b'punch'],\n [b'punch'],\n [b'punch'],\n [b'punch'],\n [b'punch'],\n [b'punch'],\n [b'punch'],\n [b'punch'],\n [b'punch'],\n [b'punch'],\n [b'punch'],\n [b'punch'],\n [b'punch'],\n [b'punch'],\n [b'punch'],\n [b'punch'],\n [b'punch'],\n [b'punch'],\n [b'punch'],\n [b'punch'],\n [b'punch'],\n [b'punch'],\n [b'punch'],\n [b'punch'],\n [b'punch'],\n [b'punch'],\n [b'punch'],\n [b'punch'],\n [b'punch'],\n [b'punch'],\n [b'punch'],\n [b'punch'],\n [b'punch'],\n [b'punch'],\n [b'punch'],\n [b'punch'],\n [b'punch'],\n [b'punch'],\n [b'punch'],\n [b'punch'],\n [b'punch'],\n [b'punch'],\n [b'punch'],\n [b'punch'],\n [b'punch'],\n [b'punch'],\n [b'punch'],\n [b'punch'],\n [b'punch'],\n [b'punch'],\n [b'punch'],\n [b'punch'],\n [b'punch'],\n [b'punch'],\n [b'punch'],\n [b'punch'],\n [b'punch'],\n [b'punch'],\n [b'punch'],\n [b'punch'],\n [b'punch'],\n [b'punch'],\n [b'shavingbeard'],\n [b'shavingbeard'],\n [b'shavingbeard'],\n [b'shavingbeard'],\n [b'shavingbeard'],\n [b'shavingbeard'],\n [b'shavingbeard'],\n [b'shavingbeard'],\n [b'shavingbeard'],\n [b'shavingbeard'],\n [b'shavingbeard'],\n [b'shavingbeard'],\n [b'shavingbeard'],\n [b'shavingbeard'],\n [b'shavingbeard'],\n [b'shavingbeard'],\n [b'shavingbeard'],\n [b'shavingbeard'],\n [b'shavingbeard'],\n [b'shavingbeard'],\n [b'shavingbeard'],\n [b'shavingbeard'],\n [b'shavingbeard'],\n [b'shavingbeard'],\n [b'shavingbeard'],\n [b'shavingbeard'],\n [b'shavingbeard'],\n [b'shavingbeard'],\n [b'shavingbeard'],\n [b'shavingbeard'],\n [b'shavingbeard'],\n [b'shavingbeard'],\n [b'shavingbeard'],\n [b'shavingbeard'],\n [b'shavingbeard'],\n [b'shavingbeard'],\n [b'shavingbeard'],\n [b'shavingbeard'],\n [b'shavingbeard'],\n [b'shavingbeard'],\n [b'shavingbeard'],\n [b'shavingbeard'],\n [b'shavingbeard'],\n [b'shavingbeard'],\n [b'shavingbeard'],\n [b'shavingbeard'],\n [b'shavingbeard'],\n [b'shavingbeard'],\n [b'shavingbeard'],\n [b'shavingbeard'],\n [b'shavingbeard'],\n [b'shavingbeard'],\n [b'shavingbeard'],\n [b'shavingbeard'],\n [b'shavingbeard'],\n [b'shavingbeard'],\n [b'shavingbeard'],\n [b'shavingbeard'],\n [b'shavingbeard'],\n [b'shavingbeard'],\n [b'shavingbeard'],\n [b'shavingbeard'],\n [b'shavingbeard'],\n [b'shavingbeard'],\n [b'shavingbeard'],\n [b'shavingbeard'],\n [b'shavingbeard'],\n [b'shavingbeard'],\n [b'shavingbeard'],\n [b'shavingbeard'],\n [b'shavingbeard'],\n [b'shavingbeard'],\n [b'shavingbeard'],\n [b'shavingbeard'],\n [b'shavingbeard'],\n [b'shavingbeard'],\n [b'shavingbeard'],\n [b'shavingbeard'],\n [b'shavingbeard'],\n [b'shavingbeard'],\n [b'shavingbeard'],\n [b'shavingbeard'],\n [b'shavingbeard'],\n [b'shavingbeard'],\n [b'shavingbeard'],\n [b'shavingbeard'],\n [b'shavingbeard'],\n [b'shavingbeard'],\n [b'shavingbeard'],\n [b'shavingbeard'],\n [b'shavingbeard'],\n [b'shavingbeard'],\n [b'shavingbeard'],\n [b'shavingbeard'],\n [b'shavingbeard'],\n [b'shavingbeard'],\n [b'shavingbeard'],\n [b'shavingbeard'],\n [b'shavingbeard'],\n [b'shavingbeard'],\n [b'shavingbeard'],\n [b'shavingbeard'],\n [b'shavingbeard'],\n [b'shavingbeard'],\n [b'shavingbeard'],\n [b'shavingbeard'],\n [b'shavingbeard'],\n [b'shavingbeard'],\n [b'shavingbeard'],\n [b'shavingbeard'],\n [b'shavingbeard'],\n [b'shavingbeard'],\n [b'shavingbeard'],\n [b'shavingbeard'],\n [b'shavingbeard'],\n [b'shavingbeard'],\n [b'shavingbeard'],\n [b'shavingbeard'],\n [b'tennisswing'],\n [b'tennisswing'],\n [b'tennisswing'],\n [b'tennisswing'],\n [b'tennisswing'],\n [b'tennisswing'],\n [b'tennisswing'],\n [b'tennisswing'],\n [b'tennisswing'],\n [b'tennisswing'],\n [b'tennisswing'],\n [b'tennisswing'],\n [b'tennisswing'],\n [b'tennisswing'],\n [b'tennisswing'],\n [b'tennisswing'],\n [b'tennisswing'],\n [b'tennisswing'],\n [b'tennisswing'],\n [b'tennisswing'],\n [b'tennisswing'],\n [b'tennisswing'],\n [b'tennisswing'],\n [b'tennisswing'],\n [b'tennisswing'],\n [b'tennisswing'],\n [b'tennisswing'],\n [b'tennisswing'],\n [b'tennisswing'],\n [b'tennisswing'],\n [b'tennisswing'],\n [b'tennisswing'],\n [b'tennisswing'],\n [b'tennisswing'],\n [b'tennisswing'],\n [b'tennisswing'],\n [b'tennisswing'],\n [b'tennisswing'],\n [b'tennisswing'],\n [b'tennisswing'],\n [b'tennisswing'],\n [b'tennisswing'],\n [b'tennisswing'],\n [b'tennisswing'],\n [b'tennisswing'],\n [b'tennisswing'],\n [b'tennisswing'],\n [b'tennisswing'],\n [b'tennisswing'],\n [b'tennisswing'],\n [b'tennisswing'],\n [b'tennisswing'],\n [b'tennisswing'],\n [b'tennisswing'],\n [b'tennisswing'],\n [b'tennisswing'],\n [b'tennisswing'],\n [b'tennisswing'],\n [b'tennisswing'],\n [b'tennisswing'],\n [b'tennisswing'],\n [b'tennisswing'],\n [b'tennisswing'],\n [b'tennisswing'],\n [b'tennisswing'],\n [b'tennisswing'],\n [b'tennisswing'],\n [b'tennisswing'],\n [b'tennisswing'],\n [b'tennisswing'],\n [b'tennisswing'],\n [b'tennisswing'],\n [b'tennisswing'],\n [b'tennisswing'],\n [b'tennisswing'],\n [b'tennisswing'],\n [b'tennisswing'],\n [b'tennisswing'],\n [b'tennisswing'],\n [b'tennisswing'],\n [b'tennisswing'],\n [b'tennisswing'],\n [b'tennisswing'],\n [b'tennisswing'],\n [b'tennisswing'],\n [b'tennisswing'],\n [b'tennisswing'],\n [b'tennisswing'],\n [b'tennisswing'],\n [b'tennisswing'],\n [b'tennisswing'],\n [b'tennisswing'],\n [b'tennisswing'],\n [b'tennisswing'],\n [b'tennisswing'],\n [b'tennisswing'],\n [b'tennisswing'],\n [b'tennisswing'],\n [b'tennisswing'],\n [b'tennisswing'],\n [b'tennisswing'],\n [b'tennisswing'],\n [b'tennisswing'],\n [b'tennisswing'],\n [b'tennisswing'],\n [b'tennisswing'],\n [b'tennisswing'],\n [b'tennisswing'],\n [b'tennisswing'],\n [b'tennisswing'],\n [b'tennisswing'],\n [b'tennisswing'],\n [b'tennisswing'],\n [b'tennisswing'],\n [b'tennisswing'],\n [b'tennisswing'],\n [b'tennisswing']]>",
          "traceback": [
            "\u001b[0;31m---------------------------------------------------------------------------\u001b[0m",
            "\u001b[0;31mFailedPreconditionError\u001b[0m                   Traceback (most recent call last)",
            "\u001b[0;32m<ipython-input-11-cdec38bf9074>\u001b[0m in \u001b[0;36m<cell line: 52>\u001b[0;34m()\u001b[0m\n\u001b[1;32m     50\u001b[0m \u001b[0;34m\u001b[0m\u001b[0m\n\u001b[1;32m     51\u001b[0m \u001b[0;34m\u001b[0m\u001b[0m\n\u001b[0;32m---> 52\u001b[0;31m \u001b[0mtrain_data\u001b[0m\u001b[0;34m,\u001b[0m \u001b[0mtrain_labels\u001b[0m \u001b[0;34m=\u001b[0m \u001b[0mprepare_all_videos\u001b[0m\u001b[0;34m(\u001b[0m\u001b[0mtrain_df\u001b[0m\u001b[0;34m,\u001b[0m \u001b[0;34m\"train\"\u001b[0m\u001b[0;34m)\u001b[0m\u001b[0;34m\u001b[0m\u001b[0;34m\u001b[0m\u001b[0m\n\u001b[0m\u001b[1;32m     53\u001b[0m \u001b[0mtest_data\u001b[0m\u001b[0;34m,\u001b[0m \u001b[0mtest_labels\u001b[0m \u001b[0;34m=\u001b[0m \u001b[0mprepare_all_videos\u001b[0m\u001b[0;34m(\u001b[0m\u001b[0mtest_df\u001b[0m\u001b[0;34m,\u001b[0m \u001b[0;34m\"test\"\u001b[0m\u001b[0;34m)\u001b[0m\u001b[0;34m\u001b[0m\u001b[0;34m\u001b[0m\u001b[0m\n\u001b[1;32m     54\u001b[0m \u001b[0;34m\u001b[0m\u001b[0m\n",
            "\u001b[0;32m<ipython-input-11-cdec38bf9074>\u001b[0m in \u001b[0;36mprepare_all_videos\u001b[0;34m(df, root_dir)\u001b[0m\n\u001b[1;32m      6\u001b[0m     \u001b[0mlabels\u001b[0m \u001b[0;34m=\u001b[0m \u001b[0mdf\u001b[0m\u001b[0;34m[\u001b[0m\u001b[0;34m\"tag\"\u001b[0m\u001b[0;34m]\u001b[0m\u001b[0;34m.\u001b[0m\u001b[0mvalues\u001b[0m\u001b[0;34m\u001b[0m\u001b[0;34m\u001b[0m\u001b[0m\n\u001b[1;32m      7\u001b[0m     \u001b[0mlabel_processor\u001b[0m \u001b[0;34m=\u001b[0m \u001b[0mtf\u001b[0m\u001b[0;34m.\u001b[0m\u001b[0mkeras\u001b[0m\u001b[0;34m.\u001b[0m\u001b[0mlayers\u001b[0m\u001b[0;34m.\u001b[0m\u001b[0mTextVectorization\u001b[0m\u001b[0;34m(\u001b[0m\u001b[0;34m)\u001b[0m  \u001b[0;31m# Assuming label_processor is a TextVectorization layer\u001b[0m\u001b[0;34m\u001b[0m\u001b[0;34m\u001b[0m\u001b[0m\n\u001b[0;32m----> 8\u001b[0;31m     \u001b[0mlabels\u001b[0m \u001b[0;34m=\u001b[0m \u001b[0mlabel_processor\u001b[0m\u001b[0;34m(\u001b[0m\u001b[0mlabels\u001b[0m\u001b[0;34m[\u001b[0m\u001b[0;34m...\u001b[0m\u001b[0;34m,\u001b[0m \u001b[0;32mNone\u001b[0m\u001b[0;34m]\u001b[0m\u001b[0;34m)\u001b[0m\u001b[0;34m.\u001b[0m\u001b[0mnumpy\u001b[0m\u001b[0;34m(\u001b[0m\u001b[0;34m)\u001b[0m\u001b[0;34m\u001b[0m\u001b[0;34m\u001b[0m\u001b[0m\n\u001b[0m\u001b[1;32m      9\u001b[0m \u001b[0;34m\u001b[0m\u001b[0m\n\u001b[1;32m     10\u001b[0m     \u001b[0;31m# `frame_masks` and `frame_features` are what we will feed to our sequence model.\u001b[0m\u001b[0;34m\u001b[0m\u001b[0;34m\u001b[0m\u001b[0m\n",
            "\u001b[0;32m/usr/local/lib/python3.10/dist-packages/keras/src/utils/traceback_utils.py\u001b[0m in \u001b[0;36merror_handler\u001b[0;34m(*args, **kwargs)\u001b[0m\n\u001b[1;32m     68\u001b[0m             \u001b[0;31m# To get the full stack trace, call:\u001b[0m\u001b[0;34m\u001b[0m\u001b[0;34m\u001b[0m\u001b[0m\n\u001b[1;32m     69\u001b[0m             \u001b[0;31m# `tf.debugging.disable_traceback_filtering()`\u001b[0m\u001b[0;34m\u001b[0m\u001b[0;34m\u001b[0m\u001b[0m\n\u001b[0;32m---> 70\u001b[0;31m             \u001b[0;32mraise\u001b[0m \u001b[0me\u001b[0m\u001b[0;34m.\u001b[0m\u001b[0mwith_traceback\u001b[0m\u001b[0;34m(\u001b[0m\u001b[0mfiltered_tb\u001b[0m\u001b[0;34m)\u001b[0m \u001b[0;32mfrom\u001b[0m \u001b[0;32mNone\u001b[0m\u001b[0;34m\u001b[0m\u001b[0;34m\u001b[0m\u001b[0m\n\u001b[0m\u001b[1;32m     71\u001b[0m         \u001b[0;32mfinally\u001b[0m\u001b[0;34m:\u001b[0m\u001b[0;34m\u001b[0m\u001b[0;34m\u001b[0m\u001b[0m\n\u001b[1;32m     72\u001b[0m             \u001b[0;32mdel\u001b[0m \u001b[0mfiltered_tb\u001b[0m\u001b[0;34m\u001b[0m\u001b[0;34m\u001b[0m\u001b[0m\n",
            "\u001b[0;32m/usr/local/lib/python3.10/dist-packages/keras/src/layers/preprocessing/index_lookup.py\u001b[0m in \u001b[0;36m_lookup_dense\u001b[0;34m(self, inputs)\u001b[0m\n\u001b[1;32m    790\u001b[0m             \u001b[0mlookups\u001b[0m \u001b[0;34m=\u001b[0m \u001b[0mtf\u001b[0m\u001b[0;34m.\u001b[0m\u001b[0mzeros_like\u001b[0m\u001b[0;34m(\u001b[0m\u001b[0minputs\u001b[0m\u001b[0;34m,\u001b[0m \u001b[0mdtype\u001b[0m\u001b[0;34m=\u001b[0m\u001b[0mself\u001b[0m\u001b[0;34m.\u001b[0m\u001b[0m_value_dtype\u001b[0m\u001b[0;34m)\u001b[0m\u001b[0;34m\u001b[0m\u001b[0;34m\u001b[0m\u001b[0m\n\u001b[1;32m    791\u001b[0m         \u001b[0;32melse\u001b[0m\u001b[0;34m:\u001b[0m\u001b[0;34m\u001b[0m\u001b[0;34m\u001b[0m\u001b[0m\n\u001b[0;32m--> 792\u001b[0;31m             \u001b[0mlookups\u001b[0m \u001b[0;34m=\u001b[0m \u001b[0mself\u001b[0m\u001b[0;34m.\u001b[0m\u001b[0mlookup_table\u001b[0m\u001b[0;34m.\u001b[0m\u001b[0mlookup\u001b[0m\u001b[0;34m(\u001b[0m\u001b[0minputs\u001b[0m\u001b[0;34m)\u001b[0m\u001b[0;34m\u001b[0m\u001b[0;34m\u001b[0m\u001b[0m\n\u001b[0m\u001b[1;32m    793\u001b[0m \u001b[0;34m\u001b[0m\u001b[0m\n\u001b[1;32m    794\u001b[0m         \u001b[0;32mif\u001b[0m \u001b[0mself\u001b[0m\u001b[0;34m.\u001b[0m\u001b[0mmask_token\u001b[0m \u001b[0;32mis\u001b[0m \u001b[0;32mnot\u001b[0m \u001b[0;32mNone\u001b[0m\u001b[0;34m:\u001b[0m\u001b[0;34m\u001b[0m\u001b[0;34m\u001b[0m\u001b[0m\n",
            "\u001b[0;31mFailedPreconditionError\u001b[0m: Exception encountered when calling layer 'string_lookup_1' (type StringLookup).\n\n{{function_node __wrapped__LookupTableFindV2_device_/job:localhost/replica:0/task:0/device:CPU:0}} Table not initialized. [Op:LookupTableFindV2] name: \n\nCall arguments received by layer 'string_lookup_1' (type StringLookup):\n  • inputs=<tf.RaggedTensor [[b'cricketshot'],\n [b'cricketshot'],\n [b'cricketshot'],\n [b'cricketshot'],\n [b'cricketshot'],\n [b'cricketshot'],\n [b'cricketshot'],\n [b'cricketshot'],\n [b'cricketshot'],\n [b'cricketshot'],\n [b'cricketshot'],\n [b'cricketshot'],\n [b'cricketshot'],\n [b'cricketshot'],\n [b'cricketshot'],\n [b'cricketshot'],\n [b'cricketshot'],\n [b'cricketshot'],\n [b'cricketshot'],\n [b'cricketshot'],\n [b'cricketshot'],\n [b'cricketshot'],\n [b'cricketshot'],\n [b'cricketshot'],\n [b'cricketshot'],\n [b'cricketshot'],\n [b'cricketshot'],\n [b'cricketshot'],\n [b'cricketshot'],\n [b'cricketshot'],\n [b'cricketshot'],\n [b'cricketshot'],\n [b'cricketshot'],\n [b'cricketshot'],\n [b'cricketshot'],\n [b'cricketshot'],\n [b'cricketshot'],\n [b'cricketshot'],\n [b'cricketshot'],\n [b'cricketshot'],\n [b'cricketshot'],\n [b'cricketshot'],\n [b'cricketshot'],\n [b'cricketshot'],\n [b'cricketshot'],\n [b'cricketshot'],\n [b'cricketshot'],\n [b'cricketshot'],\n [b'cricketshot'],\n [b'cricketshot'],\n [b'cricketshot'],\n [b'cricketshot'],\n [b'cricketshot'],\n [b'cricketshot'],\n [b'cricketshot'],\n [b'cricketshot'],\n [b'cricketshot'],\n [b'cricketshot'],\n [b'cricketshot'],\n [b'cricketshot'],\n [b'cricketshot'],\n [b'cricketshot'],\n [b'cricketshot'],\n [b'cricketshot'],\n [b'cricketshot'],\n [b'cricketshot'],\n [b'cricketshot'],\n [b'cricketshot'],\n [b'cricketshot'],\n [b'cricketshot'],\n [b'cricketshot'],\n [b'cricketshot'],\n [b'cricketshot'],\n [b'cricketshot'],\n [b'cricketshot'],\n [b'cricketshot'],\n [b'cricketshot'],\n [b'cricketshot'],\n [b'cricketshot'],\n [b'cricketshot'],\n [b'cricketshot'],\n [b'cricketshot'],\n [b'cricketshot'],\n [b'cricketshot'],\n [b'cricketshot'],\n [b'cricketshot'],\n [b'cricketshot'],\n [b'cricketshot'],\n [b'cricketshot'],\n [b'cricketshot'],\n [b'cricketshot'],\n [b'cricketshot'],\n [b'cricketshot'],\n [b'cricketshot'],\n [b'cricketshot'],\n [b'cricketshot'],\n [b'cricketshot'],\n [b'cricketshot'],\n [b'cricketshot'],\n [b'cricketshot'],\n [b'cricketshot'],\n [b'cricketshot'],\n [b'cricketshot'],\n [b'cricketshot'],\n [b'cricketshot'],\n [b'cricketshot'],\n [b'cricketshot'],\n [b'cricketshot'],\n [b'cricketshot'],\n [b'cricketshot'],\n [b'cricketshot'],\n [b'cricketshot'],\n [b'cricketshot'],\n [b'cricketshot'],\n [b'cricketshot'],\n [b'cricketshot'],\n [b'cricketshot'],\n [b'cricketshot'],\n [b'playingcello'],\n [b'playingcello'],\n [b'playingcello'],\n [b'playingcello'],\n [b'playingcello'],\n [b'playingcello'],\n [b'playingcello'],\n [b'playingcello'],\n [b'playingcello'],\n [b'playingcello'],\n [b'playingcello'],\n [b'playingcello'],\n [b'playingcello'],\n [b'playingcello'],\n [b'playingcello'],\n [b'playingcello'],\n [b'playingcello'],\n [b'playingcello'],\n [b'playingcello'],\n [b'playingcello'],\n [b'playingcello'],\n [b'playingcello'],\n [b'playingcello'],\n [b'playingcello'],\n [b'playingcello'],\n [b'playingcello'],\n [b'playingcello'],\n [b'playingcello'],\n [b'playingcello'],\n [b'playingcello'],\n [b'playingcello'],\n [b'playingcello'],\n [b'playingcello'],\n [b'playingcello'],\n [b'playingcello'],\n [b'playingcello'],\n [b'playingcello'],\n [b'playingcello'],\n [b'playingcello'],\n [b'playingcello'],\n [b'playingcello'],\n [b'playingcello'],\n [b'playingcello'],\n [b'playingcello'],\n [b'playingcello'],\n [b'playingcello'],\n [b'playingcello'],\n [b'playingcello'],\n [b'playingcello'],\n [b'playingcello'],\n [b'playingcello'],\n [b'playingcello'],\n [b'playingcello'],\n [b'playingcello'],\n [b'playingcello'],\n [b'playingcello'],\n [b'playingcello'],\n [b'playingcello'],\n [b'playingcello'],\n [b'playingcello'],\n [b'playingcello'],\n [b'playingcello'],\n [b'playingcello'],\n [b'playingcello'],\n [b'playingcello'],\n [b'playingcello'],\n [b'playingcello'],\n [b'playingcello'],\n [b'playingcello'],\n [b'playingcello'],\n [b'playingcello'],\n [b'playingcello'],\n [b'playingcello'],\n [b'playingcello'],\n [b'playingcello'],\n [b'playingcello'],\n [b'playingcello'],\n [b'playingcello'],\n [b'playingcello'],\n [b'playingcello'],\n [b'playingcello'],\n [b'playingcello'],\n [b'playingcello'],\n [b'playingcello'],\n [b'playingcello'],\n [b'playingcello'],\n [b'playingcello'],\n [b'playingcello'],\n [b'playingcello'],\n [b'playingcello'],\n [b'playingcello'],\n [b'playingcello'],\n [b'playingcello'],\n [b'playingcello'],\n [b'playingcello'],\n [b'playingcello'],\n [b'playingcello'],\n [b'playingcello'],\n [b'playingcello'],\n [b'playingcello'],\n [b'playingcello'],\n [b'playingcello'],\n [b'playingcello'],\n [b'playingcello'],\n [b'playingcello'],\n [b'playingcello'],\n [b'playingcello'],\n [b'playingcello'],\n [b'playingcello'],\n [b'playingcello'],\n [b'playingcello'],\n [b'playingcello'],\n [b'playingcello'],\n [b'playingcello'],\n [b'playingcello'],\n [b'playingcello'],\n [b'playingcello'],\n [b'playingcello'],\n [b'playingcello'],\n [b'playingcello'],\n [b'punch'],\n [b'punch'],\n [b'punch'],\n [b'punch'],\n [b'punch'],\n [b'punch'],\n [b'punch'],\n [b'punch'],\n [b'punch'],\n [b'punch'],\n [b'punch'],\n [b'punch'],\n [b'punch'],\n [b'punch'],\n [b'punch'],\n [b'punch'],\n [b'punch'],\n [b'punch'],\n [b'punch'],\n [b'punch'],\n [b'punch'],\n [b'punch'],\n [b'punch'],\n [b'punch'],\n [b'punch'],\n [b'punch'],\n [b'punch'],\n [b'punch'],\n [b'punch'],\n [b'punch'],\n [b'punch'],\n [b'punch'],\n [b'punch'],\n [b'punch'],\n [b'punch'],\n [b'punch'],\n [b'punch'],\n [b'punch'],\n [b'punch'],\n [b'punch'],\n [b'punch'],\n [b'punch'],\n [b'punch'],\n [b'punch'],\n [b'punch'],\n [b'punch'],\n [b'punch'],\n [b'punch'],\n [b'punch'],\n [b'punch'],\n [b'punch'],\n [b'punch'],\n [b'punch'],\n [b'punch'],\n [b'punch'],\n [b'punch'],\n [b'punch'],\n [b'punch'],\n [b'punch'],\n [b'punch'],\n [b'punch'],\n [b'punch'],\n [b'punch'],\n [b'punch'],\n [b'punch'],\n [b'punch'],\n [b'punch'],\n [b'punch'],\n [b'punch'],\n [b'punch'],\n [b'punch'],\n [b'punch'],\n [b'punch'],\n [b'punch'],\n [b'punch'],\n [b'punch'],\n [b'punch'],\n [b'punch'],\n [b'punch'],\n [b'punch'],\n [b'punch'],\n [b'punch'],\n [b'punch'],\n [b'punch'],\n [b'punch'],\n [b'punch'],\n [b'punch'],\n [b'punch'],\n [b'punch'],\n [b'punch'],\n [b'punch'],\n [b'punch'],\n [b'punch'],\n [b'punch'],\n [b'punch'],\n [b'punch'],\n [b'punch'],\n [b'punch'],\n [b'punch'],\n [b'punch'],\n [b'punch'],\n [b'punch'],\n [b'punch'],\n [b'punch'],\n [b'punch'],\n [b'punch'],\n [b'punch'],\n [b'punch'],\n [b'punch'],\n [b'punch'],\n [b'punch'],\n [b'punch'],\n [b'punch'],\n [b'punch'],\n [b'punch'],\n [b'punch'],\n [b'punch'],\n [b'punch'],\n [b'punch'],\n [b'punch'],\n [b'punch'],\n [b'shavingbeard'],\n [b'shavingbeard'],\n [b'shavingbeard'],\n [b'shavingbeard'],\n [b'shavingbeard'],\n [b'shavingbeard'],\n [b'shavingbeard'],\n [b'shavingbeard'],\n [b'shavingbeard'],\n [b'shavingbeard'],\n [b'shavingbeard'],\n [b'shavingbeard'],\n [b'shavingbeard'],\n [b'shavingbeard'],\n [b'shavingbeard'],\n [b'shavingbeard'],\n [b'shavingbeard'],\n [b'shavingbeard'],\n [b'shavingbeard'],\n [b'shavingbeard'],\n [b'shavingbeard'],\n [b'shavingbeard'],\n [b'shavingbeard'],\n [b'shavingbeard'],\n [b'shavingbeard'],\n [b'shavingbeard'],\n [b'shavingbeard'],\n [b'shavingbeard'],\n [b'shavingbeard'],\n [b'shavingbeard'],\n [b'shavingbeard'],\n [b'shavingbeard'],\n [b'shavingbeard'],\n [b'shavingbeard'],\n [b'shavingbeard'],\n [b'shavingbeard'],\n [b'shavingbeard'],\n [b'shavingbeard'],\n [b'shavingbeard'],\n [b'shavingbeard'],\n [b'shavingbeard'],\n [b'shavingbeard'],\n [b'shavingbeard'],\n [b'shavingbeard'],\n [b'shavingbeard'],\n [b'shavingbeard'],\n [b'shavingbeard'],\n [b'shavingbeard'],\n [b'shavingbeard'],\n [b'shavingbeard'],\n [b'shavingbeard'],\n [b'shavingbeard'],\n [b'shavingbeard'],\n [b'shavingbeard'],\n [b'shavingbeard'],\n [b'shavingbeard'],\n [b'shavingbeard'],\n [b'shavingbeard'],\n [b'shavingbeard'],\n [b'shavingbeard'],\n [b'shavingbeard'],\n [b'shavingbeard'],\n [b'shavingbeard'],\n [b'shavingbeard'],\n [b'shavingbeard'],\n [b'shavingbeard'],\n [b'shavingbeard'],\n [b'shavingbeard'],\n [b'shavingbeard'],\n [b'shavingbeard'],\n [b'shavingbeard'],\n [b'shavingbeard'],\n [b'shavingbeard'],\n [b'shavingbeard'],\n [b'shavingbeard'],\n [b'shavingbeard'],\n [b'shavingbeard'],\n [b'shavingbeard'],\n [b'shavingbeard'],\n [b'shavingbeard'],\n [b'shavingbeard'],\n [b'shavingbeard'],\n [b'shavingbeard'],\n [b'shavingbeard'],\n [b'shavingbeard'],\n [b'shavingbeard'],\n [b'shavingbeard'],\n [b'shavingbeard'],\n [b'shavingbeard'],\n [b'shavingbeard'],\n [b'shavingbeard'],\n [b'shavingbeard'],\n [b'shavingbeard'],\n [b'shavingbeard'],\n [b'shavingbeard'],\n [b'shavingbeard'],\n [b'shavingbeard'],\n [b'shavingbeard'],\n [b'shavingbeard'],\n [b'shavingbeard'],\n [b'shavingbeard'],\n [b'shavingbeard'],\n [b'shavingbeard'],\n [b'shavingbeard'],\n [b'shavingbeard'],\n [b'shavingbeard'],\n [b'shavingbeard'],\n [b'shavingbeard'],\n [b'shavingbeard'],\n [b'shavingbeard'],\n [b'shavingbeard'],\n [b'shavingbeard'],\n [b'shavingbeard'],\n [b'shavingbeard'],\n [b'shavingbeard'],\n [b'shavingbeard'],\n [b'shavingbeard'],\n [b'shavingbeard'],\n [b'tennisswing'],\n [b'tennisswing'],\n [b'tennisswing'],\n [b'tennisswing'],\n [b'tennisswing'],\n [b'tennisswing'],\n [b'tennisswing'],\n [b'tennisswing'],\n [b'tennisswing'],\n [b'tennisswing'],\n [b'tennisswing'],\n [b'tennisswing'],\n [b'tennisswing'],\n [b'tennisswing'],\n [b'tennisswing'],\n [b'tennisswing'],\n [b'tennisswing'],\n [b'tennisswing'],\n [b'tennisswing'],\n [b'tennisswing'],\n [b'tennisswing'],\n [b'tennisswing'],\n [b'tennisswing'],\n [b'tennisswing'],\n [b'tennisswing'],\n [b'tennisswing'],\n [b'tennisswing'],\n [b'tennisswing'],\n [b'tennisswing'],\n [b'tennisswing'],\n [b'tennisswing'],\n [b'tennisswing'],\n [b'tennisswing'],\n [b'tennisswing'],\n [b'tennisswing'],\n [b'tennisswing'],\n [b'tennisswing'],\n [b'tennisswing'],\n [b'tennisswing'],\n [b'tennisswing'],\n [b'tennisswing'],\n [b'tennisswing'],\n [b'tennisswing'],\n [b'tennisswing'],\n [b'tennisswing'],\n [b'tennisswing'],\n [b'tennisswing'],\n [b'tennisswing'],\n [b'tennisswing'],\n [b'tennisswing'],\n [b'tennisswing'],\n [b'tennisswing'],\n [b'tennisswing'],\n [b'tennisswing'],\n [b'tennisswing'],\n [b'tennisswing'],\n [b'tennisswing'],\n [b'tennisswing'],\n [b'tennisswing'],\n [b'tennisswing'],\n [b'tennisswing'],\n [b'tennisswing'],\n [b'tennisswing'],\n [b'tennisswing'],\n [b'tennisswing'],\n [b'tennisswing'],\n [b'tennisswing'],\n [b'tennisswing'],\n [b'tennisswing'],\n [b'tennisswing'],\n [b'tennisswing'],\n [b'tennisswing'],\n [b'tennisswing'],\n [b'tennisswing'],\n [b'tennisswing'],\n [b'tennisswing'],\n [b'tennisswing'],\n [b'tennisswing'],\n [b'tennisswing'],\n [b'tennisswing'],\n [b'tennisswing'],\n [b'tennisswing'],\n [b'tennisswing'],\n [b'tennisswing'],\n [b'tennisswing'],\n [b'tennisswing'],\n [b'tennisswing'],\n [b'tennisswing'],\n [b'tennisswing'],\n [b'tennisswing'],\n [b'tennisswing'],\n [b'tennisswing'],\n [b'tennisswing'],\n [b'tennisswing'],\n [b'tennisswing'],\n [b'tennisswing'],\n [b'tennisswing'],\n [b'tennisswing'],\n [b'tennisswing'],\n [b'tennisswing'],\n [b'tennisswing'],\n [b'tennisswing'],\n [b'tennisswing'],\n [b'tennisswing'],\n [b'tennisswing'],\n [b'tennisswing'],\n [b'tennisswing'],\n [b'tennisswing'],\n [b'tennisswing'],\n [b'tennisswing'],\n [b'tennisswing'],\n [b'tennisswing'],\n [b'tennisswing'],\n [b'tennisswing'],\n [b'tennisswing'],\n [b'tennisswing'],\n [b'tennisswing']]>"
          ]
        }
      ],
      "source": [
        "import tensorflow as tf\n",
        "\n",
        "def prepare_all_videos(df, root_dir):\n",
        "    num_samples = len(df)\n",
        "    video_paths = df[\"video_name\"].values.tolist()\n",
        "    labels = df[\"tag\"].values\n",
        "    label_processor = tf.keras.layers.TextVectorization()  # Assuming label_processor is a TextVectorization layer\n",
        "    labels = label_processor(labels[..., None]).numpy()\n",
        "\n",
        "    # `frame_masks` and `frame_features` are what we will feed to our sequence model.\n",
        "    # `frame_masks` will contain a bunch of booleans denoting if a timestep is\n",
        "    # masked with padding or not.\n",
        "    frame_masks = np.zeros(shape=(num_samples, MAX_SEQ_LENGTH), dtype=\"bool\")\n",
        "    frame_features = np.zeros(\n",
        "        shape=(num_samples, MAX_SEQ_LENGTH, NUM_FEATURES), dtype=\"float32\"\n",
        "    )\n",
        "\n",
        "    # For each video.\n",
        "    for idx, path in enumerate(video_paths):\n",
        "        # Gather all its frames and add a batch dimension.\n",
        "        frames = load_video(os.path.join(root_dir, path))\n",
        "        frames = frames[None, ...]\n",
        "\n",
        "        # Initialize placeholders to store the masks and features of the current video.\n",
        "        temp_frame_mask = np.zeros(\n",
        "            shape=(\n",
        "                1,\n",
        "                MAX_SEQ_LENGTH,\n",
        "            ),\n",
        "            dtype=\"bool\",\n",
        "        )\n",
        "        temp_frame_features = np.zeros(\n",
        "            shape=(1, MAX_SEQ_LENGTH, NUM_FEATURES), dtype=\"float32\"\n",
        "        )\n",
        "\n",
        "        # Extract features from the frames of the current video.\n",
        "        for i, batch in enumerate(frames):\n",
        "            video_length = batch.shape[0]\n",
        "            length = min(MAX_SEQ_LENGTH, video_length)\n",
        "            for j in range(length):\n",
        "                temp_frame_features[i, j, :] = feature_extractor.predict(\n",
        "                    batch[None, j, :], verbose=0,\n",
        "                )\n",
        "            temp_frame_mask[i, :length] = 1  # 1 = not masked, 0 = masked\n",
        "\n",
        "        frame_features[idx,] = temp_frame_features.squeeze()\n",
        "        frame_masks[idx,] = temp_frame_mask.squeeze()\n",
        "\n",
        "    return (frame_features, frame_masks), labels\n",
        "\n",
        "\n",
        "train_data, train_labels = prepare_all_videos(train_df, \"train\")\n",
        "test_data, test_labels = prepare_all_videos(test_df, \"test\")\n",
        "\n",
        "print(f\"Frame features in train set: {train_data[0].shape}\")\n",
        "print(f\"Frame masks in train set: {train_data[1].shape}\")\n"
      ]
    },
    {
      "cell_type": "markdown",
      "metadata": {
        "id": "PZzRP06SMipz"
      },
      "source": [
        "## The sequence model\n",
        "\n",
        "Now, we can feed this data to a sequence model consisting of recurrent layers like `GRU`."
      ]
    },
    {
      "cell_type": "code",
      "execution_count": 12,
      "metadata": {
        "colab": {
          "base_uri": "https://localhost:8080/",
          "height": 297
        },
        "id": "xokWrUC-Mip0",
        "outputId": "b26a771b-33e3-4de6-de9a-7882384415f1"
      },
      "outputs": [
        {
          "output_type": "error",
          "ename": "NameError",
          "evalue": "name 'train_data' is not defined",
          "traceback": [
            "\u001b[0;31m---------------------------------------------------------------------------\u001b[0m",
            "\u001b[0;31mNameError\u001b[0m                                 Traceback (most recent call last)",
            "\u001b[0;32m<ipython-input-12-91e13564d431>\u001b[0m in \u001b[0;36m<cell line: 49>\u001b[0;34m()\u001b[0m\n\u001b[1;32m     47\u001b[0m \u001b[0;34m\u001b[0m\u001b[0m\n\u001b[1;32m     48\u001b[0m \u001b[0;34m\u001b[0m\u001b[0m\n\u001b[0;32m---> 49\u001b[0;31m \u001b[0m_\u001b[0m\u001b[0;34m,\u001b[0m \u001b[0msequence_model\u001b[0m \u001b[0;34m=\u001b[0m \u001b[0mrun_experiment\u001b[0m\u001b[0;34m(\u001b[0m\u001b[0;34m)\u001b[0m\u001b[0;34m\u001b[0m\u001b[0;34m\u001b[0m\u001b[0m\n\u001b[0m",
            "\u001b[0;32m<ipython-input-12-91e13564d431>\u001b[0m in \u001b[0;36mrun_experiment\u001b[0;34m()\u001b[0m\n\u001b[1;32m     33\u001b[0m     \u001b[0mseq_model\u001b[0m \u001b[0;34m=\u001b[0m \u001b[0mget_sequence_model\u001b[0m\u001b[0;34m(\u001b[0m\u001b[0;34m)\u001b[0m\u001b[0;34m\u001b[0m\u001b[0;34m\u001b[0m\u001b[0m\n\u001b[1;32m     34\u001b[0m     history = seq_model.fit(\n\u001b[0;32m---> 35\u001b[0;31m         \u001b[0;34m[\u001b[0m\u001b[0mtrain_data\u001b[0m\u001b[0;34m[\u001b[0m\u001b[0;36m0\u001b[0m\u001b[0;34m]\u001b[0m\u001b[0;34m,\u001b[0m \u001b[0mtrain_data\u001b[0m\u001b[0;34m[\u001b[0m\u001b[0;36m1\u001b[0m\u001b[0;34m]\u001b[0m\u001b[0;34m]\u001b[0m\u001b[0;34m,\u001b[0m\u001b[0;34m\u001b[0m\u001b[0;34m\u001b[0m\u001b[0m\n\u001b[0m\u001b[1;32m     36\u001b[0m         \u001b[0mtrain_labels\u001b[0m\u001b[0;34m,\u001b[0m\u001b[0;34m\u001b[0m\u001b[0;34m\u001b[0m\u001b[0m\n\u001b[1;32m     37\u001b[0m         \u001b[0mvalidation_split\u001b[0m\u001b[0;34m=\u001b[0m\u001b[0;36m0.3\u001b[0m\u001b[0;34m,\u001b[0m\u001b[0;34m\u001b[0m\u001b[0;34m\u001b[0m\u001b[0m\n",
            "\u001b[0;31mNameError\u001b[0m: name 'train_data' is not defined"
          ]
        }
      ],
      "source": [
        "\n",
        "# Utility for our sequence model.\n",
        "def get_sequence_model():\n",
        "    class_vocab = label_processor.get_vocabulary()\n",
        "\n",
        "    frame_features_input = keras.Input((MAX_SEQ_LENGTH, NUM_FEATURES))\n",
        "    mask_input = keras.Input((MAX_SEQ_LENGTH,), dtype=\"bool\")\n",
        "\n",
        "    # Refer to the following tutorial to understand the significance of using `mask`:\n",
        "    # https://keras.io/api/layers/recurrent_layers/gru/\n",
        "    x = keras.layers.GRU(16, return_sequences=True)(\n",
        "        frame_features_input, mask=mask_input\n",
        "    )\n",
        "    x = keras.layers.GRU(8)(x)\n",
        "    x = keras.layers.Dropout(0.4)(x)\n",
        "    x = keras.layers.Dense(8, activation=\"relu\")(x)\n",
        "    output = keras.layers.Dense(len(class_vocab), activation=\"softmax\")(x)\n",
        "\n",
        "    rnn_model = keras.Model([frame_features_input, mask_input], output)\n",
        "\n",
        "    rnn_model.compile(\n",
        "        loss=\"sparse_categorical_crossentropy\", optimizer=\"adam\", metrics=[\"accuracy\"]\n",
        "    )\n",
        "    return rnn_model\n",
        "\n",
        "\n",
        "# Utility for running experiments.\n",
        "def run_experiment():\n",
        "    filepath = \"/tmp/video_classifier/ckpt.weights.h5\"\n",
        "    checkpoint = keras.callbacks.ModelCheckpoint(\n",
        "        filepath, save_weights_only=True, save_best_only=True, verbose=1\n",
        "    )\n",
        "\n",
        "    seq_model = get_sequence_model()\n",
        "    history = seq_model.fit(\n",
        "        [train_data[0], train_data[1]],\n",
        "        train_labels,\n",
        "        validation_split=0.3,\n",
        "        epochs=EPOCHS,\n",
        "        callbacks=[checkpoint],\n",
        "    )\n",
        "\n",
        "    seq_model.load_weights(filepath)\n",
        "    _, accuracy = seq_model.evaluate([test_data[0], test_data[1]], test_labels)\n",
        "    print(f\"Test accuracy: {round(accuracy * 100, 2)}%\")\n",
        "\n",
        "    return history, seq_model\n",
        "\n",
        "\n",
        "_, sequence_model = run_experiment()"
      ]
    },
    {
      "cell_type": "markdown",
      "metadata": {
        "id": "UMTrb2SBMip0"
      },
      "source": [
        "**Note**: To keep the runtime of this example relatively short, we just used a few\n",
        "training examples. This number of training examples is low with respect to the sequence\n",
        "model being used that has 99,909 trainable parameters. You are encouraged to sample more\n",
        "data from the UCF101 dataset using [the notebook](https://colab.research.google.com/github/sayakpaul/Action-Recognition-in-TensorFlow/blob/main/Data_Preparation_UCF101.ipynb) mentioned above and train the same model."
      ]
    },
    {
      "cell_type": "markdown",
      "metadata": {
        "id": "TNwfLyQ0Mip1"
      },
      "source": [
        "## Inference"
      ]
    },
    {
      "cell_type": "code",
      "execution_count": null,
      "metadata": {
        "id": "NfuKt8GWMip1"
      },
      "outputs": [],
      "source": [
        "\n",
        "def prepare_single_video(frames):\n",
        "    frames = frames[None, ...]\n",
        "    frame_mask = np.zeros(\n",
        "        shape=(\n",
        "            1,\n",
        "            MAX_SEQ_LENGTH,\n",
        "        ),\n",
        "        dtype=\"bool\",\n",
        "    )\n",
        "    frame_features = np.zeros(shape=(1, MAX_SEQ_LENGTH, NUM_FEATURES), dtype=\"float32\")\n",
        "\n",
        "    for i, batch in enumerate(frames):\n",
        "        video_length = batch.shape[0]\n",
        "        length = min(MAX_SEQ_LENGTH, video_length)\n",
        "        for j in range(length):\n",
        "            frame_features[i, j, :] = feature_extractor.predict(batch[None, j, :])\n",
        "        frame_mask[i, :length] = 1  # 1 = not masked, 0 = masked\n",
        "\n",
        "    return frame_features, frame_mask\n",
        "\n",
        "\n",
        "def sequence_prediction(path):\n",
        "    class_vocab = label_processor.get_vocabulary()\n",
        "\n",
        "    frames = load_video(os.path.join(\"test\", path))\n",
        "    frame_features, frame_mask = prepare_single_video(frames)\n",
        "    probabilities = sequence_model.predict([frame_features, frame_mask])[0]\n",
        "\n",
        "    for i in np.argsort(probabilities)[::-1]:\n",
        "        print(f\"  {class_vocab[i]}: {probabilities[i] * 100:5.2f}%\")\n",
        "    return frames\n",
        "\n",
        "\n",
        "# This utility is for visualization.\n",
        "# Referenced from:\n",
        "# https://www.tensorflow.org/hub/tutorials/action_recognition_with_tf_hub\n",
        "def to_gif(images):\n",
        "    converted_images = images.astype(np.uint8)\n",
        "    imageio.mimsave(\"animation.gif\", converted_images, duration=100)\n",
        "    return Image(\"animation.gif\")\n",
        "\n",
        "\n",
        "test_video = np.random.choice(test_df[\"video_name\"].values.tolist())\n",
        "print(f\"Test video path: {test_video}\")\n",
        "test_frames = sequence_prediction(test_video)\n",
        "to_gif(test_frames[:MAX_SEQ_LENGTH])"
      ]
    },
    {
      "cell_type": "markdown",
      "metadata": {
        "id": "rDyCsI3JMip1"
      },
      "source": [
        "## Next steps\n",
        "\n",
        "* In this example, we made use of transfer learning for extracting meaningful features\n",
        "from video frames. You could also fine-tune the pre-trained network to notice how that\n",
        "affects the end results.\n",
        "* For speed-accuracy trade-offs, you can try out other models present inside\n",
        "`keras.applications`.\n",
        "* Try different combinations of `MAX_SEQ_LENGTH` to observe how that affects the\n",
        "performance.\n",
        "* Train on a higher number of classes and see if you are able to get good performance.\n",
        "* Following [this tutorial](https://www.tensorflow.org/hub/tutorials/action_recognition_with_tf_hub), try a\n",
        "[pre-trained action recognition model](https://arxiv.org/abs/1705.07750) from DeepMind.\n",
        "* Rolling-averaging can be useful technique for video classification and it can be\n",
        "combined with a standard image classification model to infer on videos.\n",
        "[This tutorial](https://www.pyimagesearch.com/2019/07/15/video-classification-with-keras-and-deep-learning/)\n",
        "will help understand how to use rolling-averaging with an image classifier.\n",
        "* When there are variations in between the frames of a video not all the frames might be\n",
        "equally important to decide its category. In those situations, putting a\n",
        "[self-attention layer](https://www.tensorflow.org/api_docs/python/tf/keras/layers/Attention) in the\n",
        "sequence model will likely yield better results.\n",
        "* Following [this book chapter](https://livebook.manning.com/book/deep-learning-with-python-second-edition/chapter-11),\n",
        "you can implement Transformers-based models for processing videos."
      ]
    }
  ],
  "metadata": {
    "accelerator": "GPU",
    "colab": {
      "name": "video_classification",
      "provenance": [],
      "toc_visible": true,
      "include_colab_link": true
    },
    "kernelspec": {
      "display_name": "Python 3",
      "language": "python",
      "name": "python3"
    },
    "language_info": {
      "codemirror_mode": {
        "name": "ipython",
        "version": 3
      },
      "file_extension": ".py",
      "mimetype": "text/x-python",
      "name": "python",
      "nbconvert_exporter": "python",
      "pygments_lexer": "ipython3",
      "version": "3.7.0"
    }
  },
  "nbformat": 4,
  "nbformat_minor": 0
}