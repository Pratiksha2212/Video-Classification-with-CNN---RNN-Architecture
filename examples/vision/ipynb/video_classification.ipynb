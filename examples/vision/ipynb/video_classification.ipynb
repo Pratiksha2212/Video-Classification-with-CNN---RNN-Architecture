{
  "cells": [
    {
      "cell_type": "markdown",
      "metadata": {
        "id": "HhfImk56CSyY"
      },
      "source": [
        "# Video Classification with a CNN-RNN Architecture\n",
        "\n",
        "**Author:** [Sayak Paul](https://twitter.com/RisingSayak)<br>\n",
        "**Date created:** 2021/05/28<br>\n",
        "**Last modified:** 2023/12/08<br>\n",
        "**Description:** Training a video classifier with transfer learning and a recurrent model on the UCF101 dataset."
      ]
    },
    {
      "cell_type": "markdown",
      "metadata": {
        "id": "t9MDqATuCSyf"
      },
      "source": [
        "This example demonstrates video classification, an important use-case with\n",
        "applications in recommendations, security, and so on.\n",
        "We will be using the [UCF101 dataset](https://www.crcv.ucf.edu/data/UCF101.php)\n",
        "to build our video classifier. The dataset consists of videos categorized into different\n",
        "actions, like cricket shot, punching, biking, etc. This dataset is commonly used to\n",
        "build action recognizers, which are an application of video classification.\n",
        "\n",
        "A video consists of an ordered sequence of frames. Each frame contains *spatial*\n",
        "information, and the sequence of those frames contains *temporal* information. To model\n",
        "both of these aspects, we use a hybrid architecture that consists of convolutions\n",
        "(for spatial processing) as well as recurrent layers (for temporal processing).\n",
        "Specifically, we'll use a Convolutional Neural Network (CNN) and a Recurrent Neural\n",
        "Network (RNN) consisting of [GRU layers](https://keras.io/api/layers/recurrent_layers/gru/).\n",
        "This kind of hybrid architecture is popularly known as a **CNN-RNN**.\n",
        "\n",
        "This example requires TensorFlow 2.5 or higher, as well as TensorFlow Docs, which can be\n",
        "installed using the following command:"
      ]
    },
    {
      "cell_type": "code",
      "execution_count": 1,
      "metadata": {
        "colab": {
          "base_uri": "https://localhost:8080/"
        },
        "id": "W-sj_qFQCSyg",
        "outputId": "52378ab9-5dfc-4679-b78b-ea0cf065d05c"
      },
      "outputs": [
        {
          "output_type": "stream",
          "name": "stdout",
          "text": [
            "  Preparing metadata (setup.py) ... \u001b[?25l\u001b[?25hdone\n",
            "  Building wheel for tensorflow-docs (setup.py) ... \u001b[?25l\u001b[?25hdone\n"
          ]
        }
      ],
      "source": [
        "!pip install -q git+https://github.com/tensorflow/docs"
      ]
    },
    {
      "cell_type": "markdown",
      "metadata": {
        "id": "K4ehONJ6CSyi"
      },
      "source": [
        "## Data collection\n",
        "\n",
        "In order to keep the runtime of this example relatively short, we will be using a\n",
        "subsampled version of the original UCF101 dataset. You can refer to\n",
        "[this notebook](https://colab.research.google.com/github/sayakpaul/Action-Recognition-in-TensorFlow/blob/main/Data_Preparation_UCF101.ipynb)\n",
        "to know how the subsampling was done."
      ]
    },
    {
      "cell_type": "code",
      "execution_count": 2,
      "metadata": {
        "id": "n1dT40P-CSyi"
      },
      "outputs": [],
      "source": [
        "!!wget -q https://github.com/sayakpaul/Action-Recognition-in-TensorFlow/releases/download/v1.0.0/ucf101_top5.tar.gz\n",
        "!tar xf ucf101_top5.tar.gz"
      ]
    },
    {
      "cell_type": "markdown",
      "metadata": {
        "id": "NqNKcQjxCSyj"
      },
      "source": [
        "## Setup"
      ]
    },
    {
      "cell_type": "code",
      "execution_count": 3,
      "metadata": {
        "id": "f3UXKDl8CSyj"
      },
      "outputs": [],
      "source": [
        "import os\n",
        "\n",
        "import keras\n",
        "from imutils import paths\n",
        "\n",
        "import matplotlib.pyplot as plt\n",
        "import pandas as pd\n",
        "import numpy as np\n",
        "import imageio\n",
        "import cv2\n",
        "from IPython.display import Image"
      ]
    },
    {
      "cell_type": "markdown",
      "metadata": {
        "id": "I8DTrwYXCSyk"
      },
      "source": [
        "## Define hyperparameters"
      ]
    },
    {
      "cell_type": "code",
      "execution_count": 4,
      "metadata": {
        "id": "ZmtT1J1xCSyk"
      },
      "outputs": [],
      "source": [
        "IMG_SIZE = 224\n",
        "BATCH_SIZE = 64\n",
        "EPOCHS = 10\n",
        "\n",
        "MAX_SEQ_LENGTH = 20\n",
        "NUM_FEATURES = 2048"
      ]
    },
    {
      "cell_type": "markdown",
      "metadata": {
        "id": "wRJMLa9sCSyk"
      },
      "source": [
        "## Data preparation"
      ]
    },
    {
      "cell_type": "code",
      "execution_count": 5,
      "metadata": {
        "colab": {
          "base_uri": "https://localhost:8080/",
          "height": 398
        },
        "id": "PVIw--80CSyl",
        "outputId": "cd5be890-5586-41f2-cef3-4e83ac9f2264"
      },
      "outputs": [
        {
          "output_type": "stream",
          "name": "stdout",
          "text": [
            "Total videos for training: 594\n",
            "Total videos for testing: 224\n"
          ]
        },
        {
          "output_type": "execute_result",
          "data": {
            "text/plain": [
              "                     video_name           tag\n",
              "553   v_TennisSwing_g19_c02.avi   TennisSwing\n",
              "476  v_ShavingBeard_g25_c06.avi  ShavingBeard\n",
              "524   v_TennisSwing_g14_c07.avi   TennisSwing\n",
              "303         v_Punch_g17_c05.avi         Punch\n",
              "46    v_CricketShot_g14_c05.avi   CricketShot\n",
              "181  v_PlayingCello_g17_c05.avi  PlayingCello\n",
              "214  v_PlayingCello_g22_c05.avi  PlayingCello\n",
              "260         v_Punch_g11_c03.avi         Punch\n",
              "445  v_ShavingBeard_g21_c03.avi  ShavingBeard\n",
              "425  v_ShavingBeard_g18_c04.avi  ShavingBeard"
            ],
            "text/html": [
              "\n",
              "  <div id=\"df-981e52f2-07f6-41ec-abe5-200766d90e93\" class=\"colab-df-container\">\n",
              "    <div>\n",
              "<style scoped>\n",
              "    .dataframe tbody tr th:only-of-type {\n",
              "        vertical-align: middle;\n",
              "    }\n",
              "\n",
              "    .dataframe tbody tr th {\n",
              "        vertical-align: top;\n",
              "    }\n",
              "\n",
              "    .dataframe thead th {\n",
              "        text-align: right;\n",
              "    }\n",
              "</style>\n",
              "<table border=\"1\" class=\"dataframe\">\n",
              "  <thead>\n",
              "    <tr style=\"text-align: right;\">\n",
              "      <th></th>\n",
              "      <th>video_name</th>\n",
              "      <th>tag</th>\n",
              "    </tr>\n",
              "  </thead>\n",
              "  <tbody>\n",
              "    <tr>\n",
              "      <th>553</th>\n",
              "      <td>v_TennisSwing_g19_c02.avi</td>\n",
              "      <td>TennisSwing</td>\n",
              "    </tr>\n",
              "    <tr>\n",
              "      <th>476</th>\n",
              "      <td>v_ShavingBeard_g25_c06.avi</td>\n",
              "      <td>ShavingBeard</td>\n",
              "    </tr>\n",
              "    <tr>\n",
              "      <th>524</th>\n",
              "      <td>v_TennisSwing_g14_c07.avi</td>\n",
              "      <td>TennisSwing</td>\n",
              "    </tr>\n",
              "    <tr>\n",
              "      <th>303</th>\n",
              "      <td>v_Punch_g17_c05.avi</td>\n",
              "      <td>Punch</td>\n",
              "    </tr>\n",
              "    <tr>\n",
              "      <th>46</th>\n",
              "      <td>v_CricketShot_g14_c05.avi</td>\n",
              "      <td>CricketShot</td>\n",
              "    </tr>\n",
              "    <tr>\n",
              "      <th>181</th>\n",
              "      <td>v_PlayingCello_g17_c05.avi</td>\n",
              "      <td>PlayingCello</td>\n",
              "    </tr>\n",
              "    <tr>\n",
              "      <th>214</th>\n",
              "      <td>v_PlayingCello_g22_c05.avi</td>\n",
              "      <td>PlayingCello</td>\n",
              "    </tr>\n",
              "    <tr>\n",
              "      <th>260</th>\n",
              "      <td>v_Punch_g11_c03.avi</td>\n",
              "      <td>Punch</td>\n",
              "    </tr>\n",
              "    <tr>\n",
              "      <th>445</th>\n",
              "      <td>v_ShavingBeard_g21_c03.avi</td>\n",
              "      <td>ShavingBeard</td>\n",
              "    </tr>\n",
              "    <tr>\n",
              "      <th>425</th>\n",
              "      <td>v_ShavingBeard_g18_c04.avi</td>\n",
              "      <td>ShavingBeard</td>\n",
              "    </tr>\n",
              "  </tbody>\n",
              "</table>\n",
              "</div>\n",
              "    <div class=\"colab-df-buttons\">\n",
              "\n",
              "  <div class=\"colab-df-container\">\n",
              "    <button class=\"colab-df-convert\" onclick=\"convertToInteractive('df-981e52f2-07f6-41ec-abe5-200766d90e93')\"\n",
              "            title=\"Convert this dataframe to an interactive table.\"\n",
              "            style=\"display:none;\">\n",
              "\n",
              "  <svg xmlns=\"http://www.w3.org/2000/svg\" height=\"24px\" viewBox=\"0 -960 960 960\">\n",
              "    <path d=\"M120-120v-720h720v720H120Zm60-500h600v-160H180v160Zm220 220h160v-160H400v160Zm0 220h160v-160H400v160ZM180-400h160v-160H180v160Zm440 0h160v-160H620v160ZM180-180h160v-160H180v160Zm440 0h160v-160H620v160Z\"/>\n",
              "  </svg>\n",
              "    </button>\n",
              "\n",
              "  <style>\n",
              "    .colab-df-container {\n",
              "      display:flex;\n",
              "      gap: 12px;\n",
              "    }\n",
              "\n",
              "    .colab-df-convert {\n",
              "      background-color: #E8F0FE;\n",
              "      border: none;\n",
              "      border-radius: 50%;\n",
              "      cursor: pointer;\n",
              "      display: none;\n",
              "      fill: #1967D2;\n",
              "      height: 32px;\n",
              "      padding: 0 0 0 0;\n",
              "      width: 32px;\n",
              "    }\n",
              "\n",
              "    .colab-df-convert:hover {\n",
              "      background-color: #E2EBFA;\n",
              "      box-shadow: 0px 1px 2px rgba(60, 64, 67, 0.3), 0px 1px 3px 1px rgba(60, 64, 67, 0.15);\n",
              "      fill: #174EA6;\n",
              "    }\n",
              "\n",
              "    .colab-df-buttons div {\n",
              "      margin-bottom: 4px;\n",
              "    }\n",
              "\n",
              "    [theme=dark] .colab-df-convert {\n",
              "      background-color: #3B4455;\n",
              "      fill: #D2E3FC;\n",
              "    }\n",
              "\n",
              "    [theme=dark] .colab-df-convert:hover {\n",
              "      background-color: #434B5C;\n",
              "      box-shadow: 0px 1px 3px 1px rgba(0, 0, 0, 0.15);\n",
              "      filter: drop-shadow(0px 1px 2px rgba(0, 0, 0, 0.3));\n",
              "      fill: #FFFFFF;\n",
              "    }\n",
              "  </style>\n",
              "\n",
              "    <script>\n",
              "      const buttonEl =\n",
              "        document.querySelector('#df-981e52f2-07f6-41ec-abe5-200766d90e93 button.colab-df-convert');\n",
              "      buttonEl.style.display =\n",
              "        google.colab.kernel.accessAllowed ? 'block' : 'none';\n",
              "\n",
              "      async function convertToInteractive(key) {\n",
              "        const element = document.querySelector('#df-981e52f2-07f6-41ec-abe5-200766d90e93');\n",
              "        const dataTable =\n",
              "          await google.colab.kernel.invokeFunction('convertToInteractive',\n",
              "                                                    [key], {});\n",
              "        if (!dataTable) return;\n",
              "\n",
              "        const docLinkHtml = 'Like what you see? Visit the ' +\n",
              "          '<a target=\"_blank\" href=https://colab.research.google.com/notebooks/data_table.ipynb>data table notebook</a>'\n",
              "          + ' to learn more about interactive tables.';\n",
              "        element.innerHTML = '';\n",
              "        dataTable['output_type'] = 'display_data';\n",
              "        await google.colab.output.renderOutput(dataTable, element);\n",
              "        const docLink = document.createElement('div');\n",
              "        docLink.innerHTML = docLinkHtml;\n",
              "        element.appendChild(docLink);\n",
              "      }\n",
              "    </script>\n",
              "  </div>\n",
              "\n",
              "\n",
              "<div id=\"df-66397d10-eade-4632-8cf5-13a9d3fecb6e\">\n",
              "  <button class=\"colab-df-quickchart\" onclick=\"quickchart('df-66397d10-eade-4632-8cf5-13a9d3fecb6e')\"\n",
              "            title=\"Suggest charts\"\n",
              "            style=\"display:none;\">\n",
              "\n",
              "<svg xmlns=\"http://www.w3.org/2000/svg\" height=\"24px\"viewBox=\"0 0 24 24\"\n",
              "     width=\"24px\">\n",
              "    <g>\n",
              "        <path d=\"M19 3H5c-1.1 0-2 .9-2 2v14c0 1.1.9 2 2 2h14c1.1 0 2-.9 2-2V5c0-1.1-.9-2-2-2zM9 17H7v-7h2v7zm4 0h-2V7h2v10zm4 0h-2v-4h2v4z\"/>\n",
              "    </g>\n",
              "</svg>\n",
              "  </button>\n",
              "\n",
              "<style>\n",
              "  .colab-df-quickchart {\n",
              "      --bg-color: #E8F0FE;\n",
              "      --fill-color: #1967D2;\n",
              "      --hover-bg-color: #E2EBFA;\n",
              "      --hover-fill-color: #174EA6;\n",
              "      --disabled-fill-color: #AAA;\n",
              "      --disabled-bg-color: #DDD;\n",
              "  }\n",
              "\n",
              "  [theme=dark] .colab-df-quickchart {\n",
              "      --bg-color: #3B4455;\n",
              "      --fill-color: #D2E3FC;\n",
              "      --hover-bg-color: #434B5C;\n",
              "      --hover-fill-color: #FFFFFF;\n",
              "      --disabled-bg-color: #3B4455;\n",
              "      --disabled-fill-color: #666;\n",
              "  }\n",
              "\n",
              "  .colab-df-quickchart {\n",
              "    background-color: var(--bg-color);\n",
              "    border: none;\n",
              "    border-radius: 50%;\n",
              "    cursor: pointer;\n",
              "    display: none;\n",
              "    fill: var(--fill-color);\n",
              "    height: 32px;\n",
              "    padding: 0;\n",
              "    width: 32px;\n",
              "  }\n",
              "\n",
              "  .colab-df-quickchart:hover {\n",
              "    background-color: var(--hover-bg-color);\n",
              "    box-shadow: 0 1px 2px rgba(60, 64, 67, 0.3), 0 1px 3px 1px rgba(60, 64, 67, 0.15);\n",
              "    fill: var(--button-hover-fill-color);\n",
              "  }\n",
              "\n",
              "  .colab-df-quickchart-complete:disabled,\n",
              "  .colab-df-quickchart-complete:disabled:hover {\n",
              "    background-color: var(--disabled-bg-color);\n",
              "    fill: var(--disabled-fill-color);\n",
              "    box-shadow: none;\n",
              "  }\n",
              "\n",
              "  .colab-df-spinner {\n",
              "    border: 2px solid var(--fill-color);\n",
              "    border-color: transparent;\n",
              "    border-bottom-color: var(--fill-color);\n",
              "    animation:\n",
              "      spin 1s steps(1) infinite;\n",
              "  }\n",
              "\n",
              "  @keyframes spin {\n",
              "    0% {\n",
              "      border-color: transparent;\n",
              "      border-bottom-color: var(--fill-color);\n",
              "      border-left-color: var(--fill-color);\n",
              "    }\n",
              "    20% {\n",
              "      border-color: transparent;\n",
              "      border-left-color: var(--fill-color);\n",
              "      border-top-color: var(--fill-color);\n",
              "    }\n",
              "    30% {\n",
              "      border-color: transparent;\n",
              "      border-left-color: var(--fill-color);\n",
              "      border-top-color: var(--fill-color);\n",
              "      border-right-color: var(--fill-color);\n",
              "    }\n",
              "    40% {\n",
              "      border-color: transparent;\n",
              "      border-right-color: var(--fill-color);\n",
              "      border-top-color: var(--fill-color);\n",
              "    }\n",
              "    60% {\n",
              "      border-color: transparent;\n",
              "      border-right-color: var(--fill-color);\n",
              "    }\n",
              "    80% {\n",
              "      border-color: transparent;\n",
              "      border-right-color: var(--fill-color);\n",
              "      border-bottom-color: var(--fill-color);\n",
              "    }\n",
              "    90% {\n",
              "      border-color: transparent;\n",
              "      border-bottom-color: var(--fill-color);\n",
              "    }\n",
              "  }\n",
              "</style>\n",
              "\n",
              "  <script>\n",
              "    async function quickchart(key) {\n",
              "      const quickchartButtonEl =\n",
              "        document.querySelector('#' + key + ' button');\n",
              "      quickchartButtonEl.disabled = true;  // To prevent multiple clicks.\n",
              "      quickchartButtonEl.classList.add('colab-df-spinner');\n",
              "      try {\n",
              "        const charts = await google.colab.kernel.invokeFunction(\n",
              "            'suggestCharts', [key], {});\n",
              "      } catch (error) {\n",
              "        console.error('Error during call to suggestCharts:', error);\n",
              "      }\n",
              "      quickchartButtonEl.classList.remove('colab-df-spinner');\n",
              "      quickchartButtonEl.classList.add('colab-df-quickchart-complete');\n",
              "    }\n",
              "    (() => {\n",
              "      let quickchartButtonEl =\n",
              "        document.querySelector('#df-66397d10-eade-4632-8cf5-13a9d3fecb6e button');\n",
              "      quickchartButtonEl.style.display =\n",
              "        google.colab.kernel.accessAllowed ? 'block' : 'none';\n",
              "    })();\n",
              "  </script>\n",
              "</div>\n",
              "\n",
              "    </div>\n",
              "  </div>\n"
            ],
            "application/vnd.google.colaboratory.intrinsic+json": {
              "type": "dataframe",
              "summary": "{\n  \"name\": \"train_df\",\n  \"rows\": 10,\n  \"fields\": [\n    {\n      \"column\": \"video_name\",\n      \"properties\": {\n        \"dtype\": \"string\",\n        \"num_unique_values\": 10,\n        \"samples\": [\n          \"v_ShavingBeard_g21_c03.avi\",\n          \"v_ShavingBeard_g25_c06.avi\",\n          \"v_PlayingCello_g17_c05.avi\"\n        ],\n        \"semantic_type\": \"\",\n        \"description\": \"\"\n      }\n    },\n    {\n      \"column\": \"tag\",\n      \"properties\": {\n        \"dtype\": \"string\",\n        \"num_unique_values\": 5,\n        \"samples\": [\n          \"ShavingBeard\",\n          \"PlayingCello\",\n          \"Punch\"\n        ],\n        \"semantic_type\": \"\",\n        \"description\": \"\"\n      }\n    }\n  ]\n}"
            }
          },
          "metadata": {},
          "execution_count": 5
        }
      ],
      "source": [
        "train_df = pd.read_csv(\"train.csv\")\n",
        "test_df = pd.read_csv(\"test.csv\")\n",
        "\n",
        "print(f\"Total videos for training: {len(train_df)}\")\n",
        "print(f\"Total videos for testing: {len(test_df)}\")\n",
        "\n",
        "train_df.sample(10)"
      ]
    },
    {
      "cell_type": "markdown",
      "metadata": {
        "id": "TaXvhUyhCSyl"
      },
      "source": [
        "One of the many challenges of training video classifiers is figuring out a way to feed\n",
        "the videos to a network. [This blog post](https://blog.coast.ai/five-video-classification-methods-implemented-in-keras-and-tensorflow-99cad29cc0b5)\n",
        "discusses five such methods. Since a video is an ordered sequence of frames, we could\n",
        "just extract the frames and put them in a 3D tensor. But the number of frames may differ\n",
        "from video to video which would prevent us from stacking them into batches\n",
        "(unless we use padding). As an alternative, we can **save video frames at a fixed\n",
        "interval until a maximum frame count is reached**. In this example we will do\n",
        "the following:\n",
        "\n",
        "1. Capture the frames of a video.\n",
        "2. Extract frames from the videos until a maximum frame count is reached.\n",
        "3. In the case, where a video's frame count is lesser than the maximum frame count we\n",
        "will pad the video with zeros.\n",
        "\n",
        "Note that this workflow is identical to [problems involving texts sequences](https://developers.google.com/machine-learning/guides/text-classification/). Videos of the UCF101 dataset is [known](https://www.crcv.ucf.edu/papers/UCF101_CRCV-TR-12-01.pdf)\n",
        "to not contain extreme variations in objects and actions across frames. Because of this,\n",
        "it may be okay to only consider a few frames for the learning task. But this approach may\n",
        "not generalize well to other video classification problems. We will be using\n",
        "[OpenCV's `VideoCapture()` method](https://docs.opencv.org/master/dd/d43/tutorial_py_video_display.html)\n",
        "to read frames from videos."
      ]
    },
    {
      "cell_type": "code",
      "execution_count": 6,
      "metadata": {
        "id": "FqpoCVtmCSyl"
      },
      "outputs": [],
      "source": [
        "# The following two methods are taken from this tutorial:\n",
        "# https://www.tensorflow.org/hub/tutorials/action_recognition_with_tf_hub\n",
        "\n",
        "\n",
        "def crop_center_square(frame):\n",
        "    y, x = frame.shape[0:2]\n",
        "    min_dim = min(y, x)\n",
        "    start_x = (x // 2) - (min_dim // 2)\n",
        "    start_y = (y // 2) - (min_dim // 2)\n",
        "    return frame[start_y : start_y + min_dim, start_x : start_x + min_dim]\n",
        "\n",
        "\n",
        "def load_video(path, max_frames=0, resize=(IMG_SIZE, IMG_SIZE)):\n",
        "    cap = cv2.VideoCapture(path)\n",
        "    frames = []\n",
        "    try:\n",
        "        while True:\n",
        "            ret, frame = cap.read()\n",
        "            if not ret:\n",
        "                break\n",
        "            frame = crop_center_square(frame)\n",
        "            frame = cv2.resize(frame, resize)\n",
        "            frame = frame[:, :, [2, 1, 0]]\n",
        "            frames.append(frame)\n",
        "\n",
        "            if len(frames) == max_frames:\n",
        "                break\n",
        "    finally:\n",
        "        cap.release()\n",
        "    return np.array(frames)\n"
      ]
    },
    {
      "cell_type": "markdown",
      "metadata": {
        "id": "vl9SWUPGCSym"
      },
      "source": [
        "We can use a pre-trained network to extract meaningful features from the extracted\n",
        "frames. The [`Keras Applications`](https://keras.io/api/applications/) module provides\n",
        "a number of state-of-the-art models pre-trained on the [ImageNet-1k dataset](http://image-net.org/).\n",
        "We will be using the [InceptionV3 model](https://arxiv.org/abs/1512.00567) for this purpose."
      ]
    },
    {
      "cell_type": "code",
      "execution_count": 7,
      "metadata": {
        "colab": {
          "base_uri": "https://localhost:8080/"
        },
        "id": "QUpjBgkXCSym",
        "outputId": "49836348-d9fd-4fd5-ff8a-a36aba9599a5"
      },
      "outputs": [
        {
          "output_type": "stream",
          "name": "stdout",
          "text": [
            "Downloading data from https://storage.googleapis.com/tensorflow/keras-applications/inception_v3/inception_v3_weights_tf_dim_ordering_tf_kernels_notop.h5\n",
            "87910968/87910968 [==============================] - 0s 0us/step\n"
          ]
        }
      ],
      "source": [
        "\n",
        "def build_feature_extractor():\n",
        "    feature_extractor = keras.applications.InceptionV3(\n",
        "        weights=\"imagenet\",\n",
        "        include_top=False,\n",
        "        pooling=\"avg\",\n",
        "        input_shape=(IMG_SIZE, IMG_SIZE, 3),\n",
        "    )\n",
        "    preprocess_input = keras.applications.inception_v3.preprocess_input\n",
        "\n",
        "    inputs = keras.Input((IMG_SIZE, IMG_SIZE, 3))\n",
        "    preprocessed = preprocess_input(inputs)\n",
        "\n",
        "    outputs = feature_extractor(preprocessed)\n",
        "    return keras.Model(inputs, outputs, name=\"feature_extractor\")\n",
        "\n",
        "\n",
        "feature_extractor = build_feature_extractor()"
      ]
    },
    {
      "cell_type": "markdown",
      "metadata": {
        "id": "jXei82s3CSym"
      },
      "source": [
        "The labels of the videos are strings. Neural networks do not understand string values,\n",
        "so they must be converted to some numerical form before they are fed to the model. Here\n",
        "we will use the [`StringLookup`](https://keras.io/api/layers/preprocessing_layers/categorical/string_lookup)\n",
        "layer encode the class labels as integers."
      ]
    },
    {
      "cell_type": "code",
      "execution_count": 8,
      "metadata": {
        "colab": {
          "base_uri": "https://localhost:8080/"
        },
        "id": "S5_FcFJtCSym",
        "outputId": "e6b52e4d-7335-4582-fbec-c2c6f048f833"
      },
      "outputs": [
        {
          "output_type": "stream",
          "name": "stdout",
          "text": [
            "['CricketShot', 'PlayingCello', 'Punch', 'ShavingBeard', 'TennisSwing']\n"
          ]
        }
      ],
      "source": [
        "label_processor = keras.layers.StringLookup(\n",
        "    num_oov_indices=0, vocabulary=np.unique(train_df[\"tag\"])\n",
        ")\n",
        "print(label_processor.get_vocabulary())"
      ]
    },
    {
      "cell_type": "markdown",
      "metadata": {
        "id": "n4KCY2HmCSyn"
      },
      "source": [
        "Finally, we can put all the pieces together to create our data processing utility."
      ]
    },
    {
      "cell_type": "code",
      "source": [
        "import pandas as pd\n",
        "import numpy as np\n",
        "import os\n",
        "import tensorflow as tf\n",
        "from tensorflow import keras\n",
        "\n",
        "# Define constants used in the script\n",
        "MAX_SEQ_LENGTH = 100  # Example value, adjust according to your needs\n",
        "NUM_FEATURES = 2048  # Example value, adjust according to your needs\n",
        "\n",
        "# Define the feature extractor function (replace this with your actual function)\n",
        "def feature_extractor(batch):\n",
        "    # This is a placeholder. Replace with your actual feature extraction logic.\n",
        "    return np.random.rand(1, NUM_FEATURES)\n",
        "\n",
        "# Define the load_video function (replace this with your actual function)\n",
        "def load_video(path):\n",
        "    # This is a placeholder. Replace with your actual video loading logic.\n",
        "    return np.random.rand(10, 224, 224, 3)  # Example video frames\n",
        "\n",
        "# Placeholder for label_processor function (replace this with your actual function)\n",
        "def label_processor(labels):\n",
        "    # This is a placeholder. Replace with your actual label processing logic.\n",
        "    return np.random.rand(len(labels), 1)\n",
        "\n",
        "# Load data into DataFrames\n",
        "train_df = pd.read_csv(r'train.csv')\n",
        "test_df = pd.read_csv(r'test.csv')\n",
        "\n",
        "def prepare_all_videos(df, root_dir):\n",
        "    num_samples = len(df)\n",
        "    video_paths = df[\"video_name\"].values.tolist()\n",
        "    labels = df[\"tag\"].values\n",
        "    labels = tf.convert_to_tensor(label_processor(labels[..., None]))\n",
        "\n",
        "    # `frame_masks` and `frame_features` are what we will feed to our sequence model.\n",
        "    frame_masks = np.zeros(shape=(num_samples, MAX_SEQ_LENGTH), dtype=bool)\n",
        "    frame_features = np.zeros(shape=(num_samples, MAX_SEQ_LENGTH, NUM_FEATURES), dtype=np.float32)\n",
        "\n",
        "    # For each video.\n",
        "    for idx, path in enumerate(video_paths):\n",
        "        # Gather all its frames and add a batch dimension.\n",
        "        frames = load_video(os.path.join(root_dir, path))\n",
        "        frames = frames[None, ...]\n",
        "\n",
        "        # Initialize placeholders to store the masks and features of the current video.\n",
        "        temp_frame_mask = np.zeros(shape=(1, MAX_SEQ_LENGTH), dtype=bool)\n",
        "        temp_frame_features = np.zeros(shape=(1, MAX_SEQ_LENGTH, NUM_FEATURES), dtype=np.float32)\n",
        "\n",
        "        # Extract features from the frames of the current video.\n",
        "        for i, batch in enumerate(frames):\n",
        "            video_length = batch.shape[0]\n",
        "            length = min(MAX_SEQ_LENGTH, video_length)\n",
        "            for j in range(length):\n",
        "                temp_frame_features[i, j, :] = feature_extractor(batch[None, j, :])\n",
        "            temp_frame_mask[i, :length] = 1  # 1 = not masked, 0 = masked\n",
        "\n",
        "        frame_features[idx] = temp_frame_features.squeeze()\n",
        "        frame_masks[idx] = temp_frame_mask.squeeze()\n",
        "\n",
        "    return (frame_features, frame_masks), labels\n",
        "\n",
        "# Prepare training and testing data\n",
        "train_data, train_labels = prepare_all_videos(train_df, \"train\")\n",
        "test_data, test_labels = prepare_all_videos(test_df, \"test\")\n",
        "\n",
        "print(f\"Frame features in train set: {train_data[0].shape}\")\n",
        "print(f\"Frame masks in train set: {train_data[1].shape}\")"
      ],
      "metadata": {
        "colab": {
          "base_uri": "https://localhost:8080/"
        },
        "id": "tqyos7nzEU_v",
        "outputId": "035c6cd8-b014-48fe-c1fa-47b6d31bbba7"
      },
      "execution_count": 10,
      "outputs": [
        {
          "output_type": "stream",
          "name": "stdout",
          "text": [
            "Frame features in train set: (594, 100, 2048)\n",
            "Frame masks in train set: (594, 100)\n"
          ]
        }
      ]
    },
    {
      "cell_type": "markdown",
      "metadata": {
        "id": "bXcQHxVfCSyn"
      },
      "source": [
        "The above code block will take ~20 minutes to execute depending on the machine it's being\n",
        "executed."
      ]
    },
    {
      "cell_type": "markdown",
      "metadata": {
        "id": "ToTog7X6CSyn"
      },
      "source": [
        "## The sequence model\n",
        "\n",
        "Now, we can feed this data to a sequence model consisting of recurrent layers like `GRU`."
      ]
    },
    {
      "cell_type": "code",
      "execution_count": 12,
      "metadata": {
        "colab": {
          "base_uri": "https://localhost:8080/"
        },
        "id": "HDX02kMSCSyn",
        "outputId": "2ca413c3-73fa-4e96-8f0f-36c61ab106eb"
      },
      "outputs": [
        {
          "output_type": "stream",
          "name": "stdout",
          "text": [
            "Epoch 1/10\n",
            "13/13 [==============================] - ETA: 0s - loss: 6.1550 - accuracy: 0.0000e+00\n",
            "Epoch 1: val_loss improved from inf to 6.03581, saving model to /tmp/video_classifier/ckpt.weights.h5\n",
            "13/13 [==============================] - 15s 242ms/step - loss: 6.1550 - accuracy: 0.0000e+00 - val_loss: 6.0358 - val_accuracy: 0.0000e+00\n",
            "Epoch 2/10\n",
            "13/13 [==============================] - ETA: 0s - loss: 5.9087 - accuracy: 0.0000e+00\n",
            "Epoch 2: val_loss improved from 6.03581 to 5.77815, saving model to /tmp/video_classifier/ckpt.weights.h5\n",
            "13/13 [==============================] - 1s 42ms/step - loss: 5.9087 - accuracy: 0.0000e+00 - val_loss: 5.7782 - val_accuracy: 0.0000e+00\n",
            "Epoch 3/10\n",
            "12/13 [==========================>...] - ETA: 0s - loss: 5.6408 - accuracy: 0.0000e+00\n",
            "Epoch 3: val_loss improved from 5.77815 to 5.43996, saving model to /tmp/video_classifier/ckpt.weights.h5\n",
            "13/13 [==============================] - 1s 40ms/step - loss: 5.6281 - accuracy: 0.0000e+00 - val_loss: 5.4400 - val_accuracy: 0.0000e+00\n",
            "Epoch 4/10\n",
            "11/13 [========================>.....] - ETA: 0s - loss: 5.2961 - accuracy: 0.0000e+00\n",
            "Epoch 4: val_loss improved from 5.43996 to 5.01366, saving model to /tmp/video_classifier/ckpt.weights.h5\n",
            "13/13 [==============================] - 1s 43ms/step - loss: 5.2591 - accuracy: 0.0000e+00 - val_loss: 5.0137 - val_accuracy: 0.0000e+00\n",
            "Epoch 5/10\n",
            "12/13 [==========================>...] - ETA: 0s - loss: 4.7833 - accuracy: 0.0000e+00\n",
            "Epoch 5: val_loss improved from 5.01366 to 4.50563, saving model to /tmp/video_classifier/ckpt.weights.h5\n",
            "13/13 [==============================] - 1s 40ms/step - loss: 4.7626 - accuracy: 0.0000e+00 - val_loss: 4.5056 - val_accuracy: 0.0000e+00\n",
            "Epoch 6/10\n",
            "11/13 [========================>.....] - ETA: 0s - loss: 4.2008 - accuracy: 0.0000e+00\n",
            "Epoch 6: val_loss improved from 4.50563 to 3.92124, saving model to /tmp/video_classifier/ckpt.weights.h5\n",
            "13/13 [==============================] - 0s 39ms/step - loss: 4.1574 - accuracy: 0.0000e+00 - val_loss: 3.9212 - val_accuracy: 0.0000e+00\n",
            "Epoch 7/10\n",
            "13/13 [==============================] - ETA: 0s - loss: 3.5563 - accuracy: 0.0000e+00\n",
            "Epoch 7: val_loss improved from 3.92124 to 3.23991, saving model to /tmp/video_classifier/ckpt.weights.h5\n",
            "13/13 [==============================] - 0s 39ms/step - loss: 3.5563 - accuracy: 0.0000e+00 - val_loss: 3.2399 - val_accuracy: 0.0000e+00\n",
            "Epoch 8/10\n",
            "12/13 [==========================>...] - ETA: 0s - loss: 2.8306 - accuracy: 0.0000e+00\n",
            "Epoch 8: val_loss improved from 3.23991 to 2.49699, saving model to /tmp/video_classifier/ckpt.weights.h5\n",
            "13/13 [==============================] - 0s 39ms/step - loss: 2.7874 - accuracy: 0.0000e+00 - val_loss: 2.4970 - val_accuracy: 0.0000e+00\n",
            "Epoch 9/10\n",
            "13/13 [==============================] - ETA: 0s - loss: 2.0540 - accuracy: 0.0000e+00\n",
            "Epoch 9: val_loss improved from 2.49699 to 1.73993, saving model to /tmp/video_classifier/ckpt.weights.h5\n",
            "13/13 [==============================] - 1s 77ms/step - loss: 2.0540 - accuracy: 0.0000e+00 - val_loss: 1.7399 - val_accuracy: 0.0000e+00\n",
            "Epoch 10/10\n",
            "13/13 [==============================] - ETA: 0s - loss: 1.5871 - accuracy: 0.0000e+00\n",
            "Epoch 10: val_loss improved from 1.73993 to 1.06829, saving model to /tmp/video_classifier/ckpt.weights.h5\n",
            "13/13 [==============================] - 1s 90ms/step - loss: 1.5871 - accuracy: 0.0000e+00 - val_loss: 1.0683 - val_accuracy: 0.0000e+00\n",
            "7/7 [==============================] - 0s 16ms/step - loss: 1.0683 - accuracy: 0.0000e+00\n",
            "Test accuracy: 0.0%\n"
          ]
        }
      ],
      "source": [
        "\n",
        "# Utility for our sequence model.\n",
        "#def get_sequence_model():\n",
        " #   class_vocab = label_processor.get_vocabulary()\n",
        "\n",
        "  #  frame_features_input = keras.Input((MAX_SEQ_LENGTH, NUM_FEATURES))\n",
        "   # mask_input = keras.Input((MAX_SEQ_LENGTH,), dtype=\"bool\")\n",
        "\n",
        "def get_sequence_model():\n",
        "    class_vocab = label_processor(train_labels[..., None])  # Direct call to function\n",
        "\n",
        "    frame_features_input = keras.Input((MAX_SEQ_LENGTH, NUM_FEATURES))\n",
        "    mask_input = keras.Input((MAX_SEQ_LENGTH,), dtype=\"bool\")\n",
        "    # Refer to the following tutorial to understand the significance of using `mask`:\n",
        "    # https://keras.io/api/layers/recurrent_layers/gru/\n",
        "    x = keras.layers.GRU(16, return_sequences=True)(\n",
        "        frame_features_input, mask=mask_input\n",
        "    )\n",
        "    x = keras.layers.GRU(8)(x)\n",
        "    x = keras.layers.Dropout(0.4)(x)\n",
        "    x = keras.layers.Dense(8, activation=\"relu\")(x)\n",
        "    output = keras.layers.Dense(len(class_vocab), activation=\"softmax\")(x)\n",
        "\n",
        "    rnn_model = keras.Model([frame_features_input, mask_input], output)\n",
        "\n",
        "    rnn_model.compile(\n",
        "        loss=\"sparse_categorical_crossentropy\", optimizer=\"adam\", metrics=[\"accuracy\"]\n",
        "    )\n",
        "    return rnn_model\n",
        "\n",
        "\n",
        "# Utility for running experiments.\n",
        "def run_experiment():\n",
        "    filepath = \"/tmp/video_classifier/ckpt.weights.h5\"\n",
        "    checkpoint = keras.callbacks.ModelCheckpoint(\n",
        "        filepath, save_weights_only=True, save_best_only=True, verbose=1\n",
        "    )\n",
        "\n",
        "    seq_model = get_sequence_model()\n",
        "    history = seq_model.fit(\n",
        "        [train_data[0], train_data[1]],\n",
        "        train_labels,\n",
        "        validation_split=0.3,\n",
        "        epochs=EPOCHS,\n",
        "        callbacks=[checkpoint],\n",
        "    )\n",
        "\n",
        "    seq_model.load_weights(filepath)\n",
        "    _, accuracy = seq_model.evaluate([test_data[0], test_data[1]], test_labels)\n",
        "    print(f\"Test accuracy: {round(accuracy * 100, 2)}%\")\n",
        "\n",
        "    return history, seq_model\n",
        "\n",
        "\n",
        "_, sequence_model = run_experiment()"
      ]
    },
    {
      "cell_type": "markdown",
      "metadata": {
        "id": "0Y6I1yk-CSyo"
      },
      "source": [
        "**Note**: To keep the runtime of this example relatively short, we just used a few\n",
        "training examples. This number of training examples is low with respect to the sequence\n",
        "model being used that has 99,909 trainable parameters. You are encouraged to sample more\n",
        "data from the UCF101 dataset using [the notebook](https://colab.research.google.com/github/sayakpaul/Action-Recognition-in-TensorFlow/blob/main/Data_Preparation_UCF101.ipynb) mentioned above and train the same model."
      ]
    },
    {
      "cell_type": "code",
      "source": [
        "import os\n",
        "\n",
        "model_path = 'models/your_model.h5'\n",
        "\n",
        "# Check if the file exists\n",
        "if os.path.exists(model_path):\n",
        "    print(f\"Model file found at {model_path}\")\n",
        "else:\n",
        "    print(f\"Model file not found at {model_path}\")\n"
      ],
      "metadata": {
        "colab": {
          "base_uri": "https://localhost:8080/"
        },
        "id": "N_Qss6XyU_A3",
        "outputId": "2f767178-992a-4fed-c02f-adbac3282481"
      },
      "execution_count": 1,
      "outputs": [
        {
          "output_type": "stream",
          "name": "stdout",
          "text": [
            "Model file not found at models/your_model.h5\n"
          ]
        }
      ]
    },
    {
      "cell_type": "code",
      "source": [
        "import os\n",
        "import tensorflow as tf\n",
        "from tensorflow.keras.models import Sequential\n",
        "from tensorflow.keras.layers import Dense\n",
        "\n",
        "# Define a simple Sequential model\n",
        "model = Sequential([\n",
        "    Dense(64, activation='relu', input_shape=(100,)),\n",
        "    Dense(10, activation='softmax')\n",
        "])\n",
        "\n",
        "# Compile the model\n",
        "model.compile(optimizer='adam', loss='sparse_categorical_crossentropy', metrics=['accuracy'])\n",
        "\n",
        "# Print model summary\n",
        "model.summary()\n",
        "\n",
        "# Save the model to 'models/your_model.h5'\n",
        "model_path = 'models/your_model.h5'\n",
        "model.save(model_path)\n",
        "\n",
        "# Verify if the model file was created successfully\n",
        "if os.path.exists(model_path):\n",
        "    print(f\"Model saved successfully at {model_path}\")\n",
        "else:\n",
        "    print(f\"Error: Model file not found at {model_path}\")\n"
      ],
      "metadata": {
        "colab": {
          "base_uri": "https://localhost:8080/"
        },
        "id": "wn68ljdzVqPI",
        "outputId": "323752c2-9938-4459-b2db-d486097d829c"
      },
      "execution_count": 3,
      "outputs": [
        {
          "output_type": "stream",
          "name": "stdout",
          "text": [
            "Model: \"sequential\"\n",
            "_________________________________________________________________\n",
            " Layer (type)                Output Shape              Param #   \n",
            "=================================================================\n",
            " dense (Dense)               (None, 64)                6464      \n",
            "                                                                 \n",
            " dense_1 (Dense)             (None, 10)                650       \n",
            "                                                                 \n",
            "=================================================================\n",
            "Total params: 7114 (27.79 KB)\n",
            "Trainable params: 7114 (27.79 KB)\n",
            "Non-trainable params: 0 (0.00 Byte)\n",
            "_________________________________________________________________\n",
            "Model saved successfully at models/your_model.h5\n"
          ]
        },
        {
          "output_type": "stream",
          "name": "stderr",
          "text": [
            "/usr/local/lib/python3.10/dist-packages/keras/src/engine/training.py:3103: UserWarning: You are saving your model as an HDF5 file via `model.save()`. This file format is considered legacy. We recommend using instead the native Keras format, e.g. `model.save('my_model.keras')`.\n",
            "  saving_api.save_model(\n"
          ]
        }
      ]
    },
    {
      "cell_type": "markdown",
      "metadata": {
        "id": "M445tquOCSyo"
      },
      "source": [
        "## Inference"
      ]
    },
    {
      "cell_type": "code",
      "execution_count": 1,
      "metadata": {
        "colab": {
          "base_uri": "https://localhost:8080/",
          "height": 591
        },
        "id": "HWcaC7bxCSyo",
        "outputId": "e52bebff-3d60-4f62-c44e-bb2cbe77fca4"
      },
      "outputs": [
        {
          "output_type": "stream",
          "name": "stdout",
          "text": [
            "Downloading data from https://storage.googleapis.com/tensorflow/keras-applications/resnet/resnet50_weights_tf_dim_ordering_tf_kernels_notop.h5\n",
            "94765736/94765736 [==============================] - 5s 0us/step\n"
          ]
        },
        {
          "output_type": "stream",
          "name": "stderr",
          "text": [
            "/usr/local/lib/python3.10/dist-packages/keras/src/engine/training.py:3103: UserWarning: You are saving your model as an HDF5 file via `model.save()`. This file format is considered legacy. We recommend using instead the native Keras format, e.g. `model.save('my_model.keras')`.\n",
            "  saving_api.save_model(\n"
          ]
        },
        {
          "output_type": "stream",
          "name": "stdout",
          "text": [
            "Test video path: video1.mp4\n",
            "1/1 [==============================] - 3s 3s/step\n",
            "1/1 [==============================] - 0s 21ms/step\n",
            "1/1 [==============================] - 0s 22ms/step\n",
            "1/1 [==============================] - 0s 22ms/step\n",
            "1/1 [==============================] - 0s 21ms/step\n",
            "1/1 [==============================] - 0s 21ms/step\n",
            "1/1 [==============================] - 0s 20ms/step\n",
            "1/1 [==============================] - 0s 20ms/step\n",
            "1/1 [==============================] - 0s 21ms/step\n",
            "1/1 [==============================] - 0s 20ms/step\n",
            "1/1 [==============================] - 1s 962ms/step\n",
            "  Class 1: 34.04%\n",
            "  Class 0: 33.15%\n",
            "  Class 2: 32.81%\n"
          ]
        },
        {
          "output_type": "execute_result",
          "data": {
            "text/plain": [
              "<PIL.GifImagePlugin.GifImageFile image mode=P size=224x224>"
            ],
            "image/png": "[encoded data removed]"
          },
          "metadata": {},
          "execution_count": 1
        }
      ],
      "source": [
        "import numpy as np\n",
        "import pandas as pd\n",
        "import os\n",
        "from tensorflow.keras.utils import to_categorical\n",
        "from tensorflow.keras.models import Model, Sequential, load_model\n",
        "from tensorflow.keras.applications import ResNet50\n",
        "from tensorflow.keras.applications.resnet50 import preprocess_input  # Example import for preprocess_input\n",
        "from tensorflow.keras.layers import GlobalAveragePooling2D, LSTM, Dense, Input\n",
        "from tensorflow.keras.models import Model\n",
        "import imageio\n",
        "from PIL import Image\n",
        "\n",
        "# Define MAX_SEQ_LENGTH\n",
        "MAX_SEQ_LENGTH = 20  # Example value, adjust according to your needs\n",
        "NUM_FEATURES = 2048  # Example value, adjust according to your needs\n",
        "\n",
        "# Assuming test_df is defined or imported correctly\n",
        "test_df = pd.DataFrame({\"video_name\": [\"video1.mp4\", \"video2.mp4\", \"video3.mp4\"], \"label\": [0, 1, 2]})\n",
        "\n",
        "\n",
        "base_model = ResNet50(weights='imagenet', include_top=False)\n",
        "x = GlobalAveragePooling2D()(base_model.output)\n",
        "feature_extractor = Model(inputs=base_model.input, outputs=x)\n",
        "\n",
        "sequence_model = Sequential([\n",
        "    Input(shape=(MAX_SEQ_LENGTH, NUM_FEATURES)),\n",
        "    LSTM(64, return_sequences=True),\n",
        "    LSTM(64),\n",
        "    Dense(3, activation='softmax')  # Adjust the number of units and activation as per your classification task\n",
        "])\n",
        "\n",
        "# Compile the model\n",
        "sequence_model.compile(optimizer='adam', loss='categorical_crossentropy', metrics=['accuracy'])\n",
        "\n",
        "# Save the model for future loading (if needed)\n",
        "sequence_model.save('models/your_model.h5')\n",
        "\n",
        "\n",
        "def prepare_single_video(frames, max_seq_length, num_features, feature_extractor):\n",
        "    frame_features = np.zeros(shape=(1, MAX_SEQ_LENGTH, num_features), dtype=\"float32\")\n",
        "\n",
        "    # Process each frame\n",
        "    for i, frame in enumerate(frames):\n",
        "        if i >= max_seq_length:\n",
        "            break\n",
        "        # Preprocess frame (resize, normalize, etc.) as needed for ResNet50\n",
        "        processed_frame = preprocess_input(frame)\n",
        "        features = feature_extractor.predict(processed_frame[None, ...])\n",
        "        frame_features[0, i, :] = features\n",
        "\n",
        "    return frame_features\n",
        "\n",
        "def sequence_prediction(path):\n",
        "    frames = np.random.rand(10, 224, 224, 3)  # Example frames\n",
        "    frame_features = prepare_single_video(frames, MAX_SEQ_LENGTH, NUM_FEATURES, feature_extractor)\n",
        "    probabilities = sequence_model.predict(frame_features)\n",
        "\n",
        "    sorted_indices = np.argsort(probabilities[0])[::-1]\n",
        "    for i in sorted_indices:\n",
        "        print(f\"  Class {i}: {probabilities[0][i] * 100:5.2f}%\")\n",
        "\n",
        "    return frames\n",
        "\n",
        "# This utility is for visualization.\n",
        "# Referenced from:\n",
        "# https://www.tensorflow.org/hub/tutorials/action_recognition_with_tf_hub\n",
        "def to_gif(images):\n",
        "    converted_images = images.astype(np.uint8)\n",
        "    imageio.mimsave(\"animation.gif\", converted_images, duration=100)\n",
        "    return Image.open(\"animation.gif\")\n",
        "\n",
        "\n",
        "# Rest of your code\n",
        "test_video = np.random.choice(test_df[\"video_name\"].values.tolist())\n",
        "#test_video = \"video1.mp4\"  # Example video path\n",
        "print(f\"Test video path: {test_video}\")\n",
        "test_frames = sequence_prediction(test_video)\n",
        "to_gif(test_frames[:MAX_SEQ_LENGTH])\n"
      ]
    },
    {
      "cell_type": "code",
      "source": [
        "import numpy as np\n",
        "import pandas as pd\n",
        "import os\n",
        "from tensorflow.keras.utils import to_categorical\n",
        "from tensorflow.keras.models import Model, Sequential, load_model\n",
        "from tensorflow.keras.applications import ResNet50\n",
        "from tensorflow.keras.applications.resnet50 import preprocess_input\n",
        "from tensorflow.keras.layers import GlobalAveragePooling2D, LSTM, Dense, Input\n",
        "import imageio\n",
        "from PIL import Image\n"
      ],
      "metadata": {
        "id": "CmMn-vMnOxjL"
      },
      "execution_count": 2,
      "outputs": []
    },
    {
      "cell_type": "code",
      "source": [
        "# Define constants\n",
        "MAX_SEQ_LENGTH = 20  # Adjust as needed\n",
        "NUM_FEATURES = 2048  # Adjust based on feature extractor output\n",
        "\n",
        "# Example test DataFrame\n",
        "test_df = pd.DataFrame({\"video_name\": [\"video1.mp4\", \"video2.mp4\", \"video3.mp4\"], \"label\": [0, 1, 2]})\n",
        "\n",
        "# Initialize ResNet50 feature extractor\n",
        "base_model = ResNet50(weights='imagenet', include_top=False)\n",
        "x = GlobalAveragePooling2D()(base_model.output)\n",
        "feature_extractor = Model(inputs=base_model.input, outputs=x)\n",
        "\n",
        "# Define the sequence model\n",
        "sequence_model = Sequential([\n",
        "    Input(shape=(MAX_SEQ_LENGTH, NUM_FEATURES)),\n",
        "    LSTM(64, return_sequences=True),\n",
        "    LSTM(64),\n",
        "    Dense(3, activation='softmax')  # Adjust the number of units and activation as per your classification task\n",
        "])\n",
        "\n",
        "# Compile the model\n",
        "sequence_model.compile(optimizer='adam', loss='categorical_crossentropy', metrics=['accuracy'])\n",
        "\n",
        "# Save the model for future loading (if needed)\n",
        "sequence_model.save('models/your_model.h5')\n"
      ],
      "metadata": {
        "id": "9790PkIMO1rG"
      },
      "execution_count": 3,
      "outputs": []
    },
    {
      "cell_type": "code",
      "source": [
        "def prepare_single_video(frames, max_seq_length, num_features, feature_extractor):\n",
        "    frame_features = np.zeros(shape=(1, max_seq_length, num_features), dtype=\"float32\")\n",
        "\n",
        "    for i, frame in enumerate(frames):\n",
        "        if i >= max_seq_length:\n",
        "            break\n",
        "        processed_frame = preprocess_input(frame)\n",
        "        features = feature_extractor.predict(processed_frame[None, ...])\n",
        "        frame_features[0, i, :] = features\n",
        "\n",
        "    return frame_features\n"
      ],
      "metadata": {
        "id": "BQHfJuDLO6qb"
      },
      "execution_count": 4,
      "outputs": []
    },
    {
      "cell_type": "code",
      "source": [
        "def sequence_prediction(path):\n",
        "    frames = np.random.rand(10, 224, 224, 3)  # Example frames; replace with actual frame loading\n",
        "    frame_features = prepare_single_video(frames, MAX_SEQ_LENGTH, NUM_FEATURES, feature_extractor)\n",
        "    probabilities = sequence_model.predict(frame_features)\n",
        "\n",
        "    sorted_indices = np.argsort(probabilities[0])[::-1]\n",
        "    for i in sorted_indices:\n",
        "        print(f\"  Class {i}: {probabilities[0][i] * 100:5.2f}%\")\n",
        "\n",
        "    return frames\n"
      ],
      "metadata": {
        "id": "jJDjE0VfO9fH"
      },
      "execution_count": 5,
      "outputs": []
    },
    {
      "cell_type": "code",
      "source": [
        "def to_gif(images):\n",
        "    converted_images = images.astype(np.uint8)\n",
        "    imageio.mimsave(\"animation.gif\", converted_images, duration=100)\n",
        "    return Image.open(\"animation.gif\")\n"
      ],
      "metadata": {
        "id": "mrL3C7hsPBAf"
      },
      "execution_count": 6,
      "outputs": []
    },
    {
      "cell_type": "code",
      "source": [
        "test_video = np.random.choice(test_df[\"video_name\"].values.tolist())\n",
        "print(f\"Test video path: {test_video}\")\n",
        "test_frames = sequence_prediction(test_video)\n",
        "to_gif(test_frames[:MAX_SEQ_LENGTH])\n"
      ],
      "metadata": {
        "colab": {
          "base_uri": "https://localhost:8080/",
          "height": 501
        },
        "id": "xW4CX7yDPCkf",
        "outputId": "21a75151-8120-432e-916c-6d7b343a0fbb"
      },
      "execution_count": 7,
      "outputs": [
        {
          "output_type": "stream",
          "name": "stdout",
          "text": [
            "Test video path: video2.mp4\n",
            "1/1 [==============================] - 1s 861ms/step\n",
            "1/1 [==============================] - 0s 22ms/step\n",
            "1/1 [==============================] - 0s 20ms/step\n",
            "1/1 [==============================] - 0s 21ms/step\n",
            "1/1 [==============================] - 0s 24ms/step\n",
            "1/1 [==============================] - 0s 33ms/step\n",
            "1/1 [==============================] - 0s 30ms/step\n",
            "1/1 [==============================] - 0s 31ms/step\n",
            "1/1 [==============================] - 0s 35ms/step\n",
            "1/1 [==============================] - 0s 32ms/step\n",
            "1/1 [==============================] - 1s 916ms/step\n",
            "  Class 2: 33.69%\n",
            "  Class 0: 33.51%\n",
            "  Class 1: 32.80%\n"
          ]
        },
        {
          "output_type": "execute_result",
          "data": {
            "text/plain": [
              "<PIL.GifImagePlugin.GifImageFile image mode=P size=224x224>"
            ],
            "image/png": "[encoded data removed]"
          },
          "metadata": {},
          "execution_count": 7
        }
      ]
    },
    {
      "cell_type": "code",
      "source": [],
      "metadata": {
        "id": "MO2PNEnkPwuq"
      },
      "execution_count": null,
      "outputs": []
    },
    {
      "cell_type": "markdown",
      "metadata": {
        "id": "prZPgBXqCSyo"
      },
      "source": [
        "## Next steps\n",
        "\n",
        "* In this example, we made use of transfer learning for extracting meaningful features\n",
        "from video frames. You could also fine-tune the pre-trained network to notice how that\n",
        "affects the end results.\n",
        "* For speed-accuracy trade-offs, you can try out other models present inside\n",
        "`keras.applications`.\n",
        "* Try different combinations of `MAX_SEQ_LENGTH` to observe how that affects the\n",
        "performance.\n",
        "* Train on a higher number of classes and see if you are able to get good performance.\n",
        "* Following [this tutorial](https://www.tensorflow.org/hub/tutorials/action_recognition_with_tf_hub), try a\n",
        "[pre-trained action recognition model](https://arxiv.org/abs/1705.07750) from DeepMind.\n",
        "* Rolling-averaging can be useful technique for video classification and it can be\n",
        "combined with a standard image classification model to infer on videos.\n",
        "[This tutorial](https://www.pyimagesearch.com/2019/07/15/video-classification-with-keras-and-deep-learning/)\n",
        "will help understand how to use rolling-averaging with an image classifier.\n",
        "* When there are variations in between the frames of a video not all the frames might be\n",
        "equally important to decide its category. In those situations, putting a\n",
        "[self-attention layer](https://www.tensorflow.org/api_docs/python/tf/keras/layers/Attention) in the\n",
        "sequence model will likely yield better results.\n",
        "* Following [this book chapter](https://livebook.manning.com/book/deep-learning-with-python-second-edition/chapter-11),\n",
        "you can implement Transformers-based models for processing videos."
      ]
    }
  ],
  "metadata": {
    "accelerator": "GPU",
    "colab": {
      "name": "video_classification",
      "provenance": []
    },
    "kernelspec": {
      "display_name": "Python 3",
      "language": "python",
      "name": "python3"
    },
    "language_info": {
      "codemirror_mode": {
        "name": "ipython",
        "version": 3
      },
      "file_extension": ".py",
      "mimetype": "text/x-python",
      "name": "python",
      "nbconvert_exporter": "python",
      "pygments_lexer": "ipython3",
      "version": "3.7.0"
    }
  },
  "nbformat": 4,
  "nbformat_minor": 0
}