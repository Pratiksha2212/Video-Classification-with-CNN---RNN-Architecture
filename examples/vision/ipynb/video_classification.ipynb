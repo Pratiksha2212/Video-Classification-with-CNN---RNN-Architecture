{
  "cells": [
    {
      "cell_type": "markdown",
      "metadata": {
        "id": "Raw2dHl9ZuNG"
      },
      "source": [
        "# Video Classification with a CNN-RNN Architecture\n",
        "\n",
        "**Author:** [Sayak Paul](https://twitter.com/RisingSayak)<br>\n",
        "**Date created:** 2021/05/28<br>\n",
        "**Last modified:** 2023/12/08<br>\n",
        "**Description:** Training a video classifier with transfer learning and a recurrent model on the UCF101 dataset."
      ]
    },
    {
      "cell_type": "markdown",
      "metadata": {
        "id": "wgrsNMDvZuNL"
      },
      "source": [
        "This example demonstrates video classification, an important use-case with\n",
        "applications in recommendations, security, and so on.\n",
        "We will be using the [UCF101 dataset](https://www.crcv.ucf.edu/data/UCF101.php)\n",
        "to build our video classifier. The dataset consists of videos categorized into different\n",
        "actions, like cricket shot, punching, biking, etc. This dataset is commonly used to\n",
        "build action recognizers, which are an application of video classification.\n",
        "\n",
        "A video consists of an ordered sequence of frames. Each frame contains *spatial*\n",
        "information, and the sequence of those frames contains *temporal* information. To model\n",
        "both of these aspects, we use a hybrid architecture that consists of convolutions\n",
        "(for spatial processing) as well as recurrent layers (for temporal processing).\n",
        "Specifically, we'll use a Convolutional Neural Network (CNN) and a Recurrent Neural\n",
        "Network (RNN) consisting of [GRU layers](https://keras.io/api/layers/recurrent_layers/gru/).\n",
        "This kind of hybrid architecture is popularly known as a **CNN-RNN**.\n",
        "\n",
        "This example requires TensorFlow 2.5 or higher, as well as TensorFlow Docs, which can be\n",
        "installed using the following command:"
      ]
    },
    {
      "cell_type": "code",
      "execution_count": 21,
      "metadata": {
        "colab": {
          "base_uri": "https://localhost:8080/"
        },
        "id": "-TgcfH0jZuNN",
        "outputId": "75df8382-80d7-405a-c711-593bf973e407"
      },
      "outputs": [
        {
          "output_type": "stream",
          "name": "stdout",
          "text": [
            "  Preparing metadata (setup.py) ... \u001b[?25l\u001b[?25hdone\n"
          ]
        }
      ],
      "source": [
        "!pip install -q git+https://github.com/tensorflow/docs"
      ]
    },
    {
      "cell_type": "markdown",
      "metadata": {
        "id": "NW3n0kexZuNP"
      },
      "source": [
        "## Data collection\n",
        "\n",
        "In order to keep the runtime of this example relatively short, we will be using a\n",
        "subsampled version of the original UCF101 dataset. You can refer to\n",
        "[this notebook](https://colab.research.google.com/github/sayakpaul/Action-Recognition-in-TensorFlow/blob/main/Data_Preparation_UCF101.ipynb)\n",
        "to know how the subsampling was done."
      ]
    },
    {
      "cell_type": "code",
      "execution_count": 22,
      "metadata": {
        "id": "cwrv0sdzZuNQ"
      },
      "outputs": [],
      "source": [
        "!!wget -q https://github.com/sayakpaul/Action-Recognition-in-TensorFlow/releases/download/v1.0.0/ucf101_top5.tar.gz\n",
        "!tar xf ucf101_top5.tar.gz"
      ]
    },
    {
      "cell_type": "markdown",
      "metadata": {
        "id": "816VNc9GZuNQ"
      },
      "source": [
        "## Setup"
      ]
    },
    {
      "cell_type": "code",
      "execution_count": 23,
      "metadata": {
        "id": "WzHDjRiHZuNQ"
      },
      "outputs": [],
      "source": [
        "import os\n",
        "\n",
        "import keras\n",
        "from imutils import paths\n",
        "\n",
        "import matplotlib.pyplot as plt\n",
        "import pandas as pd\n",
        "import numpy as np\n",
        "import imageio\n",
        "import cv2\n",
        "from IPython.display import Image"
      ]
    },
    {
      "cell_type": "markdown",
      "metadata": {
        "id": "k-RhUW1OZuNR"
      },
      "source": [
        "## Define hyperparameters"
      ]
    },
    {
      "cell_type": "code",
      "execution_count": 24,
      "metadata": {
        "id": "6YRdBO61ZuNR"
      },
      "outputs": [],
      "source": [
        "IMG_SIZE = 224\n",
        "BATCH_SIZE = 64\n",
        "EPOCHS = 10\n",
        "\n",
        "MAX_SEQ_LENGTH = 20\n",
        "NUM_FEATURES = 2048"
      ]
    },
    {
      "cell_type": "markdown",
      "metadata": {
        "id": "Iq1G5XtRZuNR"
      },
      "source": [
        "## Data preparation"
      ]
    },
    {
      "cell_type": "code",
      "execution_count": 13,
      "metadata": {
        "colab": {
          "base_uri": "https://localhost:8080/",
          "height": 564
        },
        "id": "AyxY9fZEZuNS",
        "outputId": "7b1f79fa-ce8b-41ae-fad7-bb217d12dd2a"
      },
      "outputs": [
        {
          "output_type": "stream",
          "name": "stdout",
          "text": [
            "Total videos for training: 594\n",
            "Total videos for testing: 224\n"
          ]
        },
        {
          "output_type": "execute_result",
          "data": {
            "text/plain": [
              "                     video_name           tag\n",
              "334         v_Punch_g22_c04.avi         Punch\n",
              "204  v_PlayingCello_g20_c07.avi  PlayingCello\n",
              "305         v_Punch_g17_c07.avi         Punch\n",
              "130  v_PlayingCello_g09_c07.avi  PlayingCello\n",
              "222  v_PlayingCello_g23_c06.avi  PlayingCello\n",
              "321         v_Punch_g20_c02.avi         Punch\n",
              "494   v_TennisSwing_g10_c05.avi   TennisSwing\n",
              "457  v_ShavingBeard_g23_c01.avi  ShavingBeard\n",
              "421  v_ShavingBeard_g17_c07.avi  ShavingBeard\n",
              "416  v_ShavingBeard_g17_c02.avi  ShavingBeard"
            ],
            "text/html": [
              "\n",
              "  <div id=\"df-c96d10f9-e219-471e-a8d3-480f010ca636\" class=\"colab-df-container\">\n",
              "    <div>\n",
              "<style scoped>\n",
              "    .dataframe tbody tr th:only-of-type {\n",
              "        vertical-align: middle;\n",
              "    }\n",
              "\n",
              "    .dataframe tbody tr th {\n",
              "        vertical-align: top;\n",
              "    }\n",
              "\n",
              "    .dataframe thead th {\n",
              "        text-align: right;\n",
              "    }\n",
              "</style>\n",
              "<table border=\"1\" class=\"dataframe\">\n",
              "  <thead>\n",
              "    <tr style=\"text-align: right;\">\n",
              "      <th></th>\n",
              "      <th>video_name</th>\n",
              "      <th>tag</th>\n",
              "    </tr>\n",
              "  </thead>\n",
              "  <tbody>\n",
              "    <tr>\n",
              "      <th>334</th>\n",
              "      <td>v_Punch_g22_c04.avi</td>\n",
              "      <td>Punch</td>\n",
              "    </tr>\n",
              "    <tr>\n",
              "      <th>204</th>\n",
              "      <td>v_PlayingCello_g20_c07.avi</td>\n",
              "      <td>PlayingCello</td>\n",
              "    </tr>\n",
              "    <tr>\n",
              "      <th>305</th>\n",
              "      <td>v_Punch_g17_c07.avi</td>\n",
              "      <td>Punch</td>\n",
              "    </tr>\n",
              "    <tr>\n",
              "      <th>130</th>\n",
              "      <td>v_PlayingCello_g09_c07.avi</td>\n",
              "      <td>PlayingCello</td>\n",
              "    </tr>\n",
              "    <tr>\n",
              "      <th>222</th>\n",
              "      <td>v_PlayingCello_g23_c06.avi</td>\n",
              "      <td>PlayingCello</td>\n",
              "    </tr>\n",
              "    <tr>\n",
              "      <th>321</th>\n",
              "      <td>v_Punch_g20_c02.avi</td>\n",
              "      <td>Punch</td>\n",
              "    </tr>\n",
              "    <tr>\n",
              "      <th>494</th>\n",
              "      <td>v_TennisSwing_g10_c05.avi</td>\n",
              "      <td>TennisSwing</td>\n",
              "    </tr>\n",
              "    <tr>\n",
              "      <th>457</th>\n",
              "      <td>v_ShavingBeard_g23_c01.avi</td>\n",
              "      <td>ShavingBeard</td>\n",
              "    </tr>\n",
              "    <tr>\n",
              "      <th>421</th>\n",
              "      <td>v_ShavingBeard_g17_c07.avi</td>\n",
              "      <td>ShavingBeard</td>\n",
              "    </tr>\n",
              "    <tr>\n",
              "      <th>416</th>\n",
              "      <td>v_ShavingBeard_g17_c02.avi</td>\n",
              "      <td>ShavingBeard</td>\n",
              "    </tr>\n",
              "  </tbody>\n",
              "</table>\n",
              "</div>\n",
              "    <div class=\"colab-df-buttons\">\n",
              "\n",
              "  <div class=\"colab-df-container\">\n",
              "    <button class=\"colab-df-convert\" onclick=\"convertToInteractive('df-c96d10f9-e219-471e-a8d3-480f010ca636')\"\n",
              "            title=\"Convert this dataframe to an interactive table.\"\n",
              "            style=\"display:none;\">\n",
              "\n",
              "  <svg xmlns=\"http://www.w3.org/2000/svg\" height=\"24px\" viewBox=\"0 -960 960 960\">\n",
              "    <path d=\"M120-120v-720h720v720H120Zm60-500h600v-160H180v160Zm220 220h160v-160H400v160Zm0 220h160v-160H400v160ZM180-400h160v-160H180v160Zm440 0h160v-160H620v160ZM180-180h160v-160H180v160Zm440 0h160v-160H620v160Z\"/>\n",
              "  </svg>\n",
              "    </button>\n",
              "\n",
              "  <style>\n",
              "    .colab-df-container {\n",
              "      display:flex;\n",
              "      gap: 12px;\n",
              "    }\n",
              "\n",
              "    .colab-df-convert {\n",
              "      background-color: #E8F0FE;\n",
              "      border: none;\n",
              "      border-radius: 50%;\n",
              "      cursor: pointer;\n",
              "      display: none;\n",
              "      fill: #1967D2;\n",
              "      height: 32px;\n",
              "      padding: 0 0 0 0;\n",
              "      width: 32px;\n",
              "    }\n",
              "\n",
              "    .colab-df-convert:hover {\n",
              "      background-color: #E2EBFA;\n",
              "      box-shadow: 0px 1px 2px rgba(60, 64, 67, 0.3), 0px 1px 3px 1px rgba(60, 64, 67, 0.15);\n",
              "      fill: #174EA6;\n",
              "    }\n",
              "\n",
              "    .colab-df-buttons div {\n",
              "      margin-bottom: 4px;\n",
              "    }\n",
              "\n",
              "    [theme=dark] .colab-df-convert {\n",
              "      background-color: #3B4455;\n",
              "      fill: #D2E3FC;\n",
              "    }\n",
              "\n",
              "    [theme=dark] .colab-df-convert:hover {\n",
              "      background-color: #434B5C;\n",
              "      box-shadow: 0px 1px 3px 1px rgba(0, 0, 0, 0.15);\n",
              "      filter: drop-shadow(0px 1px 2px rgba(0, 0, 0, 0.3));\n",
              "      fill: #FFFFFF;\n",
              "    }\n",
              "  </style>\n",
              "\n",
              "    <script>\n",
              "      const buttonEl =\n",
              "        document.querySelector('#df-c96d10f9-e219-471e-a8d3-480f010ca636 button.colab-df-convert');\n",
              "      buttonEl.style.display =\n",
              "        google.colab.kernel.accessAllowed ? 'block' : 'none';\n",
              "\n",
              "      async function convertToInteractive(key) {\n",
              "        const element = document.querySelector('#df-c96d10f9-e219-471e-a8d3-480f010ca636');\n",
              "        const dataTable =\n",
              "          await google.colab.kernel.invokeFunction('convertToInteractive',\n",
              "                                                    [key], {});\n",
              "        if (!dataTable) return;\n",
              "\n",
              "        const docLinkHtml = 'Like what you see? Visit the ' +\n",
              "          '<a target=\"_blank\" href=https://colab.research.google.com/notebooks/data_table.ipynb>data table notebook</a>'\n",
              "          + ' to learn more about interactive tables.';\n",
              "        element.innerHTML = '';\n",
              "        dataTable['output_type'] = 'display_data';\n",
              "        await google.colab.output.renderOutput(dataTable, element);\n",
              "        const docLink = document.createElement('div');\n",
              "        docLink.innerHTML = docLinkHtml;\n",
              "        element.appendChild(docLink);\n",
              "      }\n",
              "    </script>\n",
              "  </div>\n",
              "\n",
              "\n",
              "<div id=\"df-7d7edde3-a635-410a-a75f-435fa9e64556\">\n",
              "  <button class=\"colab-df-quickchart\" onclick=\"quickchart('df-7d7edde3-a635-410a-a75f-435fa9e64556')\"\n",
              "            title=\"Suggest charts\"\n",
              "            style=\"display:none;\">\n",
              "\n",
              "<svg xmlns=\"http://www.w3.org/2000/svg\" height=\"24px\"viewBox=\"0 0 24 24\"\n",
              "     width=\"24px\">\n",
              "    <g>\n",
              "        <path d=\"M19 3H5c-1.1 0-2 .9-2 2v14c0 1.1.9 2 2 2h14c1.1 0 2-.9 2-2V5c0-1.1-.9-2-2-2zM9 17H7v-7h2v7zm4 0h-2V7h2v10zm4 0h-2v-4h2v4z\"/>\n",
              "    </g>\n",
              "</svg>\n",
              "  </button>\n",
              "\n",
              "<style>\n",
              "  .colab-df-quickchart {\n",
              "      --bg-color: #E8F0FE;\n",
              "      --fill-color: #1967D2;\n",
              "      --hover-bg-color: #E2EBFA;\n",
              "      --hover-fill-color: #174EA6;\n",
              "      --disabled-fill-color: #AAA;\n",
              "      --disabled-bg-color: #DDD;\n",
              "  }\n",
              "\n",
              "  [theme=dark] .colab-df-quickchart {\n",
              "      --bg-color: #3B4455;\n",
              "      --fill-color: #D2E3FC;\n",
              "      --hover-bg-color: #434B5C;\n",
              "      --hover-fill-color: #FFFFFF;\n",
              "      --disabled-bg-color: #3B4455;\n",
              "      --disabled-fill-color: #666;\n",
              "  }\n",
              "\n",
              "  .colab-df-quickchart {\n",
              "    background-color: var(--bg-color);\n",
              "    border: none;\n",
              "    border-radius: 50%;\n",
              "    cursor: pointer;\n",
              "    display: none;\n",
              "    fill: var(--fill-color);\n",
              "    height: 32px;\n",
              "    padding: 0;\n",
              "    width: 32px;\n",
              "  }\n",
              "\n",
              "  .colab-df-quickchart:hover {\n",
              "    background-color: var(--hover-bg-color);\n",
              "    box-shadow: 0 1px 2px rgba(60, 64, 67, 0.3), 0 1px 3px 1px rgba(60, 64, 67, 0.15);\n",
              "    fill: var(--button-hover-fill-color);\n",
              "  }\n",
              "\n",
              "  .colab-df-quickchart-complete:disabled,\n",
              "  .colab-df-quickchart-complete:disabled:hover {\n",
              "    background-color: var(--disabled-bg-color);\n",
              "    fill: var(--disabled-fill-color);\n",
              "    box-shadow: none;\n",
              "  }\n",
              "\n",
              "  .colab-df-spinner {\n",
              "    border: 2px solid var(--fill-color);\n",
              "    border-color: transparent;\n",
              "    border-bottom-color: var(--fill-color);\n",
              "    animation:\n",
              "      spin 1s steps(1) infinite;\n",
              "  }\n",
              "\n",
              "  @keyframes spin {\n",
              "    0% {\n",
              "      border-color: transparent;\n",
              "      border-bottom-color: var(--fill-color);\n",
              "      border-left-color: var(--fill-color);\n",
              "    }\n",
              "    20% {\n",
              "      border-color: transparent;\n",
              "      border-left-color: var(--fill-color);\n",
              "      border-top-color: var(--fill-color);\n",
              "    }\n",
              "    30% {\n",
              "      border-color: transparent;\n",
              "      border-left-color: var(--fill-color);\n",
              "      border-top-color: var(--fill-color);\n",
              "      border-right-color: var(--fill-color);\n",
              "    }\n",
              "    40% {\n",
              "      border-color: transparent;\n",
              "      border-right-color: var(--fill-color);\n",
              "      border-top-color: var(--fill-color);\n",
              "    }\n",
              "    60% {\n",
              "      border-color: transparent;\n",
              "      border-right-color: var(--fill-color);\n",
              "    }\n",
              "    80% {\n",
              "      border-color: transparent;\n",
              "      border-right-color: var(--fill-color);\n",
              "      border-bottom-color: var(--fill-color);\n",
              "    }\n",
              "    90% {\n",
              "      border-color: transparent;\n",
              "      border-bottom-color: var(--fill-color);\n",
              "    }\n",
              "  }\n",
              "</style>\n",
              "\n",
              "  <script>\n",
              "    async function quickchart(key) {\n",
              "      const quickchartButtonEl =\n",
              "        document.querySelector('#' + key + ' button');\n",
              "      quickchartButtonEl.disabled = true;  // To prevent multiple clicks.\n",
              "      quickchartButtonEl.classList.add('colab-df-spinner');\n",
              "      try {\n",
              "        const charts = await google.colab.kernel.invokeFunction(\n",
              "            'suggestCharts', [key], {});\n",
              "      } catch (error) {\n",
              "        console.error('Error during call to suggestCharts:', error);\n",
              "      }\n",
              "      quickchartButtonEl.classList.remove('colab-df-spinner');\n",
              "      quickchartButtonEl.classList.add('colab-df-quickchart-complete');\n",
              "    }\n",
              "    (() => {\n",
              "      let quickchartButtonEl =\n",
              "        document.querySelector('#df-7d7edde3-a635-410a-a75f-435fa9e64556 button');\n",
              "      quickchartButtonEl.style.display =\n",
              "        google.colab.kernel.accessAllowed ? 'block' : 'none';\n",
              "    })();\n",
              "  </script>\n",
              "</div>\n",
              "\n",
              "    </div>\n",
              "  </div>\n"
            ],
            "application/vnd.google.colaboratory.intrinsic+json": {
              "type": "dataframe",
              "summary": "{\n  \"name\": \"train_df\",\n  \"rows\": 10,\n  \"fields\": [\n    {\n      \"column\": \"video_name\",\n      \"properties\": {\n        \"dtype\": \"string\",\n        \"num_unique_values\": 10,\n        \"samples\": [\n          \"v_ShavingBeard_g17_c07.avi\",\n          \"v_PlayingCello_g20_c07.avi\",\n          \"v_Punch_g20_c02.avi\"\n        ],\n        \"semantic_type\": \"\",\n        \"description\": \"\"\n      }\n    },\n    {\n      \"column\": \"tag\",\n      \"properties\": {\n        \"dtype\": \"category\",\n        \"num_unique_values\": 4,\n        \"samples\": [\n          \"PlayingCello\",\n          \"ShavingBeard\",\n          \"Punch\"\n        ],\n        \"semantic_type\": \"\",\n        \"description\": \"\"\n      }\n    }\n  ]\n}"
            }
          },
          "metadata": {},
          "execution_count": 13
        },
        {
          "output_type": "display_data",
          "data": {
            "text/plain": [
              "<google.colab._quickchart_helpers.SectionTitle at 0x78bfa60c0b50>"
            ],
            "text/html": [
              "<h4 class=\"colab-quickchart-section-title\">Categorical distributions</h4>\n",
              "<style>\n",
              "  .colab-quickchart-section-title {\n",
              "      clear: both;\n",
              "  }\n",
              "</style>"
            ]
          },
          "metadata": {}
        },
        {
          "output_type": "display_data",
          "data": {
            "text/plain": [
              "from matplotlib import pyplot as plt\n",
              "import seaborn as sns\n",
              "_df_0.groupby('tag').size().plot(kind='barh', color=sns.palettes.mpl_palette('Dark2'))\n",
              "plt.gca().spines[['top', 'right',]].set_visible(False)"
            ],
            "text/html": [
              "      <div class=\"colab-quickchart-chart-with-code\" id=\"chart-853ad560-af82-401c-a914-6753b314eae1\">\n",
              "        <img style=\"width: 180px;\" src=\"data:image/png;base64,iVBORw0KGgoAAAANSUhEUgAAAmcAAAGZCAYAAADMwpblAAAAOXRFWHRTb2Z0d2FyZQBNYXRwbG90\n",
              "bGliIHZlcnNpb24zLjcuMSwgaHR0cHM6Ly9tYXRwbG90bGliLm9yZy/bCgiHAAAACXBIWXMAAA9h\n",
              "AAAPYQGoP6dpAAAibklEQVR4nO3de1TUdR7/8dcIhpoCmoeyTAhQEHUYQETWW0t4ybUbdsRMM9n1\n",
              "kqVmW7mezcWfudqmqxV0cyuVFI+ntMsxrbyRbekqBngLUxI1l7KfApLc4fv7o9P8YhEDFeeDPB/n\n",
              "zDkw853v9z0fv4eefWdQm2VZlgAAAGCEFq4eAAAAAP8fcQYAAGAQ4gwAAMAgxBkAAIBBiDMAAACD\n",
              "EGcAAAAGIc4AAAAMQpwBAAAYhDgDAAAwCHHWBL344ouuHgEAADQS4qwJOn78uKtHAAAAjYQ4AwAA\n",
              "MAhxBgAAYBDiDAAAwCDEGQAAgEGIMwAAAIMQZwAAAAYhzgAAAAxCnAEAABiEOAMAADAIcQYAAGAQ\n",
              "4gwAAMAgxBkAAIBBiDMAAACDEGcAAAAGIc4AAAAMQpwBAAAYhDgDAAAwCHEGAABgEOIMAADAIMQZ\n",
              "AACAQYgzAAAAg7i7egA03PmV6fr+40WuHgPNzE2HnnL1CADQLHDlDAAAwCDEGQAAgEGIMwAAAIMQ\n",
              "ZwAAAAYhzgAAAAxCnAEAABiEOAMAADAIcQYAAGAQ4gwAAMAgxBkAAIBBiDMAAACDEGcAAAAGIc4A\n",
              "AAAMQpwBAAAYhDgDAAAwCHEGAABgEOIMAADAIMQZAACAQVwaZw6HQw6HQyEhIXJzc3N+Hx8f3yjH\n",
              "Kioquug2r732mux2uxwOh4KDg/Xggw826BjDhw/X4cOHL2dMAADQzLm78uCZmZmSpNzcXDkcDuf3\n",
              "jXmsuqSnp+v5559Xenq6OnToIMuylJGR0aBjbNy48TImBAAAMPRtzU8++UT9+/dXRESE+vTpo+3b\n",
              "t0uS0tLS1LNnT02dOlWhoaHq0aOH0tPTJf0ceN7e3kpMTFRERIQCAwNrxJLNZlNBQYGqq6v12GOP\n",
              "qXv37goNDVVERIRKS0v13XffqV27dmrXrp1z+/DwcEnSsmXLNGnSJEnSoUOHZLPZ9Omnn0qS5s2b\n",
              "p3nz5kmS/Pz8nBF4++2368knn9SAAQMUEBCgKVOmOGfJy8vTkCFDFBISoiFDhmj06NGaO3du4y0o\n",
              "AABoMoyLs2+//VZz587Vxo0btXfvXqWmpmrMmDEqKyuTJGVnZ2v8+PHKysrStGnT9Ne//tX53MLC\n",
              "Qtntdu3du1fJycmaOXNmrf1nZWVp69atOnjwoLKysrRt2zZdd911GjJkiNq1a6cuXbooPj5eycnJ\n",
              "ys/PlyTFxsZqy5YtkqTNmzcrOjq6xvexsbEXfC05OTnavn27Dhw4oE8++UQ7d+6UJE2fPl3R0dE6\n",
              "dOiQUlJSlJaWVud6lJWV6dy5czVuVVZ1wxcWAAA0CcbF2ccff6yjR49q4MCBcjgcuv/++9WiRQud\n",
              "OHFCkhQYGKioqChJUnR0tHJycpzPbdWqleLi4i742C/8/f1VWVmphIQErVy5UhUVFWrRooXatGmj\n",
              "zz//XBs3blS/fv20fv162e12nT17Vv7+/pJ+DsctW7Zo4cKF2rZtm3766ScdOnRIffr0ueBriY+P\n",
              "l7u7u1q3bi2Hw+GcZ+vWrUpISJAk3XTTTRoxYkSd67Fw4UJ5eXnVuGWWnGzosgIAgCbCuDizLEuD\n",
              "Bw9WZmam83bq1Cl17dpV0s8B9gs3NzdVVlY6v/fw8JDNZnM+VlVVVWv/Xl5eOnDggMaMGaPs7GzZ\n",
              "7XYdPXpU0s9vZYaFhWn69OnaunWr2rZt67yqFRsbq02bNunIkSMaNGiQLMvSunXrFB0dLXf3C390\n",
              "72Kz/tovM1/I7NmzVVhYWOPmaH1rndsDAICmzbg4Gzp0qLZs2aJ9+/Y579u9e/cV2/+PP/6o8+fP\n",
              "a8iQIVqwYIH8/Px06NAhZWdn1zjmyZMn9eOPPzqvmsXGxmrRokXOq2QxMTFKTEys8y3Ni4mJidGK\n",
              "FSskST/88IM2bNhQ57YeHh7y9PSscXOzGffHBgAArhCX/rbmhQQGBio1NVWTJ09WcXGxysvLFRYW\n",
              "ptTU1Cuy/5MnT2rixImqqKhQVVWV+vXrpzvvvFP79+/XzJkz9f3336t169ayLEvPPfecHA6HJOmO\n",
              "O+7QiRMnnDE2ePBgLV68WHfccUeDZ3jxxRc1fvx4hYSE6Oabb1ZUVJS8vb2vyOsDAABNm82yLMvV\n",
              "QzQ3JSUlatmypdzd3XXmzBn17dtXq1atcn6W7rdMvmGg/s+NdzXylEBNNx16ytUjAECzYNyVs+bg\n",
              "yJEjeuihh2RZlsrLyzV16tR6hxkAALi2EWcuYLfbG/Uv3AUAAE0XnywHAAAwCHEGAABgEOIMAADA\n",
              "IMQZAACAQYgzAAAAgxBnAAAABiHOAAAADEKcAQAAGIQ4AwAAMAhxBgAAYBDiDAAAwCDEGQAAgEGI\n",
              "MwAAAIMQZwAAAAYhzgAAAAxCnAEAABjE3dUDoOGuH99bNy15ytVjAACARsCVMwAAAIMQZwAAAAYh\n",
              "zgAAAAxCnAEAABiEOAMAADAIcQYAAGAQ4gwAAMAgxBkAAIBBiDMAAACDEGcAAAAGIc4AAAAMQpwB\n",
              "AAAYhDgDAAAwCHEGAABgEOIMAADAIMQZAACAQYgzAAAAgxBnAAAABiHOAAAADEKcAQAAGIQ4AwAA\n",
              "MAhxBgAAYBDiDAAAwCDEGQAAgEGIMwAAAIMQZwAAAAYhzgAAAAxCnAEAABiEOAMAADAIcQYAAGAQ\n",
              "4gwAAMAgxBkAAIBBiDMAAACDEGcAAAAGIc4AAAAMQpwBAAAYhDgDAAAwCHEGAABgEOIMAADAIMQZ\n",
              "AACAQYgzAAAAgxBnAAAABiHOAAAADEKcAQAAGIQ4AwAAMIjNsizL1UOgYXqH36uYQX9y9RgAAFxT\n",
              "nl86wtUjSOLKGQAAgFGIMwAAAIMQZwAAAAYhzgAAAAxCnAEAABiEOAMAADAIcQYAAGAQ4gwAAMAg\n",
              "xBkAAIBBiDMAAACDEGcAAAAGIc4AAAAMQpwBAAAYhDgDAAAwCHEGAABgEOIMAADAIMQZAACAQYgz\n",
              "AAAAgxBnAAAABmnUOFu/fr0iIiLkcDgUHBysmJgYVVdXy8/PT5mZmVfsOOnp6YqPj7/s/dx+++26\n",
              "7bbb5HA41KNHDw0fPlw//PDDFZiwbj/99JNsNlujHgMAADQdjRZneXl5mjRpktavX6/MzExlZ2dr\n",
              "8eLFjRIivXv31tq1a6/IvpYuXarMzEwdPHhQvr6+Wrx48RXZryRVV1erurr6iu0PAABcexotzn74\n",
              "4Qe5ubmpQ4cOzvvCw8OdcbZ+/XpFR0frtttu0/z5853bLFmyRJGRkXI4HIqMjNTOnTslSatXr9aI\n",
              "ESOc21mWJX9/f2VlZSktLU0Oh0OSlJubK29vbyUmJioiIkKBgYHauHGj83kffPCBunfvrtDQUM2a\n",
              "NUsdO3ZUbm5urfkrKyv1008/qX379s773n77bUVFRSk8PFwDBw5UVlaWJGn//v3q37+/wsPDFRIS\n",
              "UuP1zJ07VyNHjtTQoUPVs2dP5eXl6fXXX1fXrl0VFhampUuXXnQdy8rKdO7cuRo3i8ADAOCa1Whx\n",
              "Zrfb1b9/f/n6+uq+++7TokWLdOrUKefjBQUF2rlzp/bs2VPjsXHjxmnPnj3KzMxUUlKSJkyYIEmK\n",
              "i4vTrl279P3330uS0tLS1L59e4WGhtY6dmFhoex2u/bu3avk5GTNnDlTknT69GklJCTovffeU1ZW\n",
              "loKDg3XmzJkaz505c6YcDoc6deqkrKwsPfroo5KkL774QmvWrNGOHTv01Vdf6e9//7vGjBkjSfLz\n",
              "89PWrVv11Vdfae/evVq3bp127drl3OfOnTuVkpKiQ4cOKT8/X4mJidqxY4cyMjJUUlJy0XVcuHCh\n",
              "vLy8atzyfvimQX8WAACg6Wi0OGvRooXWrVunL7/8UsOGDdMXX3yhHj166OjRo5LkDJuOHTvK399f\n",
              "x44dkyRlZGRo0KBB6tmzp6ZMmaLDhw+rpKRErVu31siRI/X2229LklasWOEMt//VqlUrxcXFSZKi\n",
              "o6OVk5MjSdq1a5fsdruCg4MlSePHj9d1111X47m/vK15+vRp3XfffUpISJD08xW3rKwsRUVFyeFw\n",
              "aNq0aTp79qxKSkpUUlKiP/3pT+rVq5f69u2r48eP1/hM3fDhw3XjjTdKkrZt26Y777xTnTp1kiQ9\n",
              "8sgjF13H2bNnq7CwsMat043d6vEnAAAAmiL3xj5AcHCwgoODNXnyZA0bNkwffvihpJ8D6hdubm6q\n",
              "rKxUeXm54uLitH37dkVGRurcuXPy8vJSWVmZWrdurYSEBE2YMEGPPPKINmzYUOdbgh4eHs63T93c\n",
              "3FRVVdXguW02m+Lj452fObMsS+PHj9eCBQtqbTtt2jR17NhRGRkZcnd3V1xcnEpLS52Pt23b9qLH\n",
              "uRgPDw95eHjUfE4LfskWAIBrVaP9V/7UqVP64osvnN/n5+fr2LFjCggIqPM5paWlKi8vV5cuXSRJ\n",
              "SUlJNR6PioqSJD355JOKjY2t8Xm2+ujbt6/27dunw4cPS5JWrVql8vLyOrffunWrgoKCJEl33323\n",
              "Vq1apRMnTkj6+cP96enpztfWuXNnubu76/Dhw9q8eXOd+4yJidHHH3/sfHv2tddea9BrAAAA17ZG\n",
              "u3JWWVmpefPm6dixY2rTpo0qKys1fvx43XPPPZoxY8YFn+Pp6an58+erT58+6tixo0aPHl1rmwkT\n",
              "Jujpp5/Wpk2bGjyTj4+P3njjDd17773y8PDQ4MGD1bZtW3l7ezu3mTlzpubOnavq6mq1b99eK1eu\n",
              "lCQNGDBAzz//vO677z7nVb4//OEP6t27t5555hmNGzdOK1euVEBAgGJiYuqcoWfPnpo7d64GDBig\n",
              "tm3bOt9+BQAAkCSbZVmWq4e4moqKitSuXTtJ0vvvv6/Zs2fr66+/dvFUDdM7/F7FDPqTq8cAAOCa\n",
              "8vzSEb+90VXQ6J85M01SUpLWrl2rqqoqeXp6avXq1a4eCQAAwKnZXTm7FnDlDACAK8+UK2f82h8A\n",
              "AIBBiDMAAACDEGcAAAAGIc4AAAAMQpwBAAAYhDgDAAAwCHEGAABgEOIMAADAIMQZAACAQYgzAAAA\n",
              "gxBnAAAABiHOAAAADEKcAQAAGIQ4AwAAMAhxBgAAYBB3Vw+Ahht4u7+eXzLC1WMAAIBGwJUzAAAA\n",
              "gxBnAAAABiHOAAAADEKcAQAAGIQ4AwAAMAhxBgAAYBDiDAAAwCDEGQAAgEGIMwAAAIMQZwAAAAYh\n",
              "zgAAAAxCnAEAABiEOAMAADAIcQYAAGAQ4gwAAMAgxBkAAIBB3BuycUpKSq37vL29FRERoVtuueWK\n",
              "DQUAANBcNSjOVq9erR07dqh///6y2Wz697//rT59+uibb77RCy+8oFGjRjXWnAAAAM1Cg97WbNu2\n",
              "rTIyMrR582Z9+umnysjIUIcOHfTll19q/vz5jTUjAABAs9GgOPvmm28UHBzs/D4oKEhHjx6Vn5+f\n",
              "WrTg42sAAACXq0FF1a5dO6WkpMiyLFmWpZSUFLVt27axZgMAAGh2GhRny5cvV3Jysjw8PNSqVSsl\n",
              "JyfrzTff1Pnz57Vo0aLGmhEAAKDZaNAvBAQFBWn37t0qKiqS9POVtF8MHjz4yk4GAADQDDUoziSp\n",
              "oqJCeXl5Ki0tdd5nt9uv6FAAAADNVYPibMOGDZo4caLy8/N1/fXXKz8/X76+vjp27FhjzQcAANCs\n",
              "NOgzZ3PmzNGuXbvUvXt3nTlzRikpKbr//vsbazYAAIBmp0Fx1qJFC/n6+qqyslKSNHbsWG3btq1R\n",
              "BgMAAGiOGvS2ZsuWLSVJnTt31nvvvSc/Pz/l5+c3ymAAAADNUYPi7NFHH1V+fr7mz5+v0aNHq6Cg\n",
              "QEuXLm2s2QAAAJqdBr2tuXTpUrVv314RERE6cuSIfvzxRy1ZsqSxZgMAAGh26nXlrLy8XKWlpaqq\n",
              "qlJRUZEsy5LNZlNBQYHOnz/f2DMCAAA0G/W6crZw4UJ5e3vrwIED8vLykre3t7y8vNSrVy+NHTu2\n",
              "sWcEAABoNuoVZ4mJiaqurtakSZNUXV3tvBUUFGjOnDmNPSMAAECz0aDPnL366quNNQcAAADUwDgD\n",
              "AABA4yLOAAAADEKcAQAAGIQ4AwAAMAhxBgAAYBDiDAAAwCDEGQAAgEGIMwAAAIMQZwAAAAYhzgAA\n",
              "AAxCnAEAABiEOAMAADCIzbIsy9VDoGEm9LBpdiRdDQDAldRtRZWrR5DElTMAAACjEGcAAAAGIc4A\n",
              "AAAMQpwBAAAYhDgDAAAwCHEGAABgEOIMAADAIMQZAACAQYgzAAAAgxBnAAAABiHOAAAADEKcAQAA\n",
              "GIQ4AwAAMAhxBgAAYBDiDAAAwCDEGQAAgEGIMwAAAIMQZwAAAAYhzn7Fz89PQUFBcjgcCgkJ0csv\n",
              "v3zFj5Gbmytvb+8rvl8AAHBtcHf1AKZZu3atHA6Hjh8/LrvdrgEDBshut7t6LAAA0Exw5awOvr6+\n",
              "CgoK0pgxY/T44487709OTtbDDz8sSVqxYoViY2P1wAMPqFevXurdu7e+/fZb57bLly+Xw+FQaGio\n",
              "evfurdzcXOdjiYmJioiIUGBgoDZu3HiVXhUAADAdcVaH/fv3Kzs7W6GhoRfdbs+ePVqwYIH279+v\n",
              "2NhY/eMf/5AkpaWlad68edq0aZOysrK0Y8cO+fj4SJIKCwtlt9u1d+9eJScna+bMmXXuv6ysTOfO\n",
              "natxq6q+cq8TAACYhTj7H/Hx8XI4HJo8ebLeeustde3a9aLbR0dH67bbbnN+nZOTI0n66KOPNG7c\n",
              "OHXq1EmS1KZNG7Vp00aS1KpVK8XFxdV6zoUsXLhQXl5eNW77/u9lv0wAAGAoPnP2P375zNkvsrOz\n",
              "VVVV5fy+tLS0xvatWrVyfu3m5qbKysrfPIaHh4dsNpvzOb/e//+aPXu2nnjiiRr3PRbl9ZvHAAAA\n",
              "TRNXzn5DYGCg0tPTVVVVpeLiYq1bt65ez7vrrru0atUq5eXlSZKKi4tVXFzc4ON7eHjI09Ozxs2N\n",
              "PzUAAK5ZXDn7DXFxcXrnnXfUvXt3de7cWWFhYfWKrIEDByoxMVFDhw6VzWbTddddp3ffffcqTAwA\n",
              "AJoym2VZlquHQMNM6GHT7EgunwEAcCV1W1H3x4yuJv4LDwAAYBDiDAAAwCDEGQAAgEGIMwAAAIMQ\n",
              "ZwAAAAYhzgAAAAxCnAEAABiEOAMAADAIcQYAAGAQ4gwAAMAgxBkAAIBBiDMAAACDEGcAAAAGIc4A\n",
              "AAAMQpwBAAAYhDgDAAAwCHEGAABgEOIMAADAIO6uHgAN137oTHVbssTVYwAAgEbAlTMAAACDEGcA\n",
              "AAAGIc4AAAAMQpwBAAAYhDgDAAAwCHEGAABgEOIMAADAIMQZAACAQYgzAAAAgxBnAAAABiHOAAAA\n",
              "DEKcAQAAGIQ4AwAAMAhxBgAAYBDiDAAAwCDEGQAAgEGIMwAAAIMQZwAAAAYhzgAAAAxCnAEAABiE\n",
              "OAMAADAIcQYAAGAQ4gwAAMAgxBkAAIBBiDMAAACDEGcAAAAGIc4AAAAMQpwBAAAYhDgDAAAwCHEG\n",
              "AABgEOIMAADAIMQZAACAQYgzAAAAgxBnAAAABiHOAAAADEKcAQAAGIQ4AwAAMAhxBgAAYBDiDAAA\n",
              "wCDEGQAAgEGIMwAAAIMQZwAAAAYhzgAAAAxCnAEAABiEOAMAADCIzbIsy9VDoGHaDo2U9+g7XD0G\n",
              "AADXlO8mPOfqESRx5QwAAMAoxBkAAIBBiDMAAACDEGcAAAAGIc4AAAAMQpwBAAAYhDgDAAAwCHEG\n",
              "AABgEOIMAADAIMQZAACAQYgzAAAAgxBnAAAABiHOAAAADEKcAQAAGIQ4AwAAMAhxBgAAYBDiDAAA\n",
              "wCDEGQAAgEFcHmd+fn4KCgqSw+FQSEiIXn75ZaWlpcnhcFzWfv/2t79p9erVlz3f6dOnNWHCBPn7\n",
              "+yssLEzh4eFasGDBbz7v4Ycf1gsvvCBJmjt3rh5//PHLngUAAFz73F09gCStXbtWDodDx48fl91u\n",
              "17PPPnvZ+5w3b95l76OkpESDBg1SfHy8jhw5Ijc3NxUXF+tf//rXZe8bAADgQlx+5ezXfH19FRQU\n",
              "pJtvvtl5X2VlpYYOHarevXurR48eGjNmjM6fPy9JGjFihFJTU53bfvrpp4qKipJU+8pVfHy87rrr\n",
              "LoWEhCgmJkZnz56VJFVUVGjq1Knq1q2b+vbtqz//+c+6/fbbJUmpqalq166d5s6dKzc3N0lSmzZt\n",
              "NGPGDOdz//KXv6hPnz5yOBwaNWqU8vPzL/oaq6qq9NRTT6lnz57q2bOnpk2bpvLy8stfPAAAcE0w\n",
              "Ks7279+v7OzsGoHj5uam1NRUpaen68CBA/Ly8lJSUpIkacaMGUpOTnZu+/LLL+uxxx674L7/85//\n",
              "aMWKFTp06JB8fHz0+uuvS5KWLVumI0eO6ODBg/r888+1b98+53P27t2r6OjoOuddtGiRrr/+eu3e\n",
              "vVuZmZnq1auXnnnmmYu+xmXLlmnPnj3au3evMjMzlZOTo6VLl9a5fVlZmc6dO1fjpirroscAAABN\n",
              "lxFxFh8fL4fDocmTJ+utt95S165dnY9ZlqWlS5cqLCxMdrtdH330kTIzMyVJgwcPVmFhoTIyMnT8\n",
              "+HHt3r1bo0aNuuAxhg0bphtuuEGSFB0drZycHEnS1q1bNXbsWLVs2VItW7bU+PHj6z33+++/r1Wr\n",
              "VsnhcMjhcGjNmjU6duzYRZ+zZcsWPfzww/Lw8JC7u7smTpyozZs317n9woUL5eXlVeNWfiyv3jMC\n",
              "AICmxajPnP0iLS3N+XVqaqq2bdumzz77TJ6ennrppZe0bds25+PTp09XUlKSbrzxRiUkJMjDw+OC\n",
              "x2jVqpXzazc3N1VWVl5wO5vN5vw6IiJCy5Ytq3Nuy7KUlJSkIUOG/NZLrNOvj3chs2fP1hNPPFHj\n",
              "vpvjYi75eAAAwGxGXDm7mPz8fHXs2FGenp4qKirSihUrajw+btw4ffLJJ1q+fLmmTJnS4P3HxMQo\n",
              "NTVVFRUVqqioUEpKivOxBx54QAUFBXr22WdVVVUl6edfEnjppZckSffee6+WLl2q4uJiSVJxcbEO\n",
              "Hjx40ePFxsYqJSVF5eXlqqys1BtvvHHRuPPw8JCnp2eNm9wuHnQAAKDpMj7OHnroIRUXFysoKEh3\n",
              "3nmnBgwYUOPxNm3aKC4uTv369dOtt97a4P1PnjxZfn5+CgkJUb9+/RQQECBvb2/nvj/77DPl5OQo\n",
              "MDBQvXr1UlRUlDPGZs2apcjISEVFRclut6tv377Ot1zrMmnSJIWHhys8PFwOh0N+fn78NRsAAMDJ\n",
              "ZllWk/50eVVVlSIiIpSUlFQr3OqrqKhI7dq1U0VFhR588EFFRERo1qxZV3jSK6ft0Eh5j77D1WMA\n",
              "AHBN+W7Cc64eQVITuHJ2MR9++KECAgIUHR19yWEm/fxWo8PhUK9eveTp6anp06dfwSkBAADqr8lf\n",
              "OWuOuHIGAMCVx5UzAAAA1EKcAQAAGIQ4AwAAMAhxBgAAYBDiDAAAwCDEGQAAgEGIMwAAAIMQZwAA\n",
              "AAYhzgAAAAxCnAEAABiEOAMAADAIcQYAAGAQ4gwAAMAgxBkAAIBBiDMAAACDEGcAAAAGcXf1AGi4\n",
              "ST0GaMmE51w9BgAAaARcOQMAADAIcQYAAGAQ4gwAAMAgxBkAAIBBiDMAAACDEGcAAAAGIc4AAAAM\n",
              "QpwBAAAYhDgDAAAwCHEGAABgEOIMAADAIMQZAACAQYgzAAAAgxBnAAAABiHOAAAADEKcAQAAGIQ4\n",
              "AwAAMAhxBgAAYBDiDAAAwCDEGQAAgEGIMwAAAIMQZwAAAAZxd/UAaJiysjJt2rRJVVVVcnNzc/U4\n",
              "TUpVVZV2796tPn36sHYNxNpdGtbt0rF2l461uzRXY918fX01Y8aM39zOZlmW1SgToFGcO3dOXl5e\n",
              "KiwslKenp6vHaVJYu0vH2l0a1u3SsXaXjrW7NCatG29rAgAAGIQ4AwAAMAhxBgAAYBDirInx8PBQ\n",
              "YmKiPDw8XD1Kk8PaXTrW7tKwbpeOtbt0rN2lMWnd+IUAAAAAg3DlDAAAwCDEGQAAgEGIMwAAAIMQ\n",
              "Z4Y6cuSIfve736lbt26KjIzUwYMHL7jdm2++qa5duyogIEATJ05URUXFVZ7UPPVZu7S0NLVu3VoO\n",
              "h8N5KykpccG05pg+fbr8/Pxks9mUmZlZ53acc7XVZ+0452orLS3Vvffeq27duik0NFSDBw/W0aNH\n",
              "L7jthg0bFBwcrK5duyouLk7nzp27ytOapb5rl5ubKzc3txrnXU5OjgsmNseQIUNkt9vlcDg0YMAA\n",
              "ZWRkXHA7l/6ss2Ck3//+99by5csty7Ksd955x+rdu3etbb799lurU6dOVl5enlVdXW3dddddVnJy\n",
              "8lWe1Dz1Wbvt27dboaGhV3cww3322WfWyZMnLV9fXysjI+OC23DOXVh91o5zrraSkhLro48+sqqr\n",
              "qy3LsqykpCRr0KBBtbYrKiqyfHx8rK+//tqyLMt69NFHrSeffPJqjmqc+q7dsWPHLC8vr6s7nOHy\n",
              "8/OdX69fv96y2+21tnH1zzqunBno9OnTSk9P19ixYyVJI0eO1MmTJ2v9X9G7776ru+++WzfddJNs\n",
              "NpumTJmiNWvWuGJkY9R37VDbwIED1blz54tuwzl3YfVZO9TWqlUrDR8+XDabTZLUt29f5ebm1tpu\n",
              "06ZNCgsLU3BwsCRp6tSpzf68q+/aoTZvb2/n14WFhc41/DVX/6wjzgx08uRJderUSe7uP/+79Dab\n",
              "TV26dNGJEydqbHfixAn5+vo6v/fz86u1TXNT37WTpJycHIWHhysyMlKvvPLK1R61SeKcuzyccxf3\n",
              "4osv6p577ql1/4XOu7y8PFVWVl7N8YxW19pJ0vnz5xUZGanw8HDNmzdPVVVVV3k68zz00EO69dZb\n",
              "NWfOHL399tu1Hnf1zzr3q3YkwCDh4eH67rvv5OXlpe+++07Dhw9Xx44dNWrUKFePhmsU59zFLViw\n",
              "QEePHtXWrVtdPUqTc7G169Spk06dOiUfHx+dPXtW8fHx+uc//6mnn37aBZOaIyUlRZK0cuVKzZo1\n",
              "Sxs3bnTxRDVx5cxAt956a43/K7QsSydOnFCXLl1qbNelSxcdP37c+X1ubm6tbZqb+q6dp6envLy8\n",
              "JEmdO3fWAw88oM8///yqz9vUcM5dOs65ui1evFjr16/Xpk2b1KZNm1qPX+i8+/UV8ubst9bOw8ND\n",
              "Pj4+kqQOHTooISGB8+5Xxo8fr+3bt+vMmTM17nf1zzrizEA+Pj4KDw/XqlWrJEnr1q1T586dFRgY\n",
              "WGO7kSNH6sMPP9T3338vy7L02muvafTo0a4Y2Rj1Xbu8vDxVV1dLkoqKirRhwwaFhYVd9XmbGs65\n",
              "S8c5d2FLlizRmjVrtHnz5hqfBfq1YcOG6auvvlJ2drYk6ZVXXuG8U/3W7vTp087fMiwrK9P69eub\n",
              "9XlXUFCg//73v87v33//fd1www3q0KFDje1c/rPuqv3qARokOzvb6tu3r9W1a1crIiLC2rdvn2VZ\n",
              "lvXHP/7R+uCDD5zbLVu2zPL397f8/f2thIQEq7y83FUjG6M+a5eUlGSFhIRYdrvdCgkJsRITE52/\n",
              "9dRcTZo0ybrlllssNzc3y8fHxwoICLAsi3OuPuqzdpxztZ08edKSZPn7+1uhoaFWaGio1adPH8uy\n",
              "LGvOnDnWq6++6tz2gw8+sIKCgqyAgADrnnvusQoKClw1thHqu3br1q2zevTo4TzvHnvsMau0tNSV\n",
              "o7tUbm6uFRkZafXs2dOy2+3WHXfc4fwNa5N+1vFvawIAABiEtzUBAAAMQpwBAAAYhDgDAAAwCHEG\n",
              "AABgEOIMAADAIMQZAACAQYgzAAAAgxBnAAAABiHOAAAADEKcAQAAGIQ4AwAAMMj/A53WcfSQeL05\n",
              "AAAAAElFTkSuQmCC\n",
              "\">\n",
              "      </div>\n",
              "      <script type=\"text/javascript\">\n",
              "        (() => {\n",
              "          const chartElement = document.getElementById(\"chart-853ad560-af82-401c-a914-6753b314eae1\");\n",
              "          async function getCodeForChartHandler(event) {\n",
              "            const chartCodeResponse =  await google.colab.kernel.invokeFunction(\n",
              "                'getCodeForChart', [\"chart-853ad560-af82-401c-a914-6753b314eae1\"], {});\n",
              "            const responseJson = chartCodeResponse.data['application/json'];\n",
              "            await google.colab.notebook.addCell(responseJson.code, 'code');\n",
              "          }\n",
              "          chartElement.onclick = getCodeForChartHandler;\n",
              "        })();\n",
              "      </script>\n",
              "      <style>\n",
              "        .colab-quickchart-chart-with-code  {\n",
              "            display: block;\n",
              "            float: left;\n",
              "            border: 1px solid transparent;\n",
              "        }\n",
              "\n",
              "        .colab-quickchart-chart-with-code:hover {\n",
              "            cursor: pointer;\n",
              "            border: 1px solid #aaa;\n",
              "        }\n",
              "      </style>"
            ]
          },
          "metadata": {}
        }
      ],
      "source": [
        "train_df = pd.read_csv(\"train.csv\")\n",
        "test_df = pd.read_csv(\"test.csv\")\n",
        "print(f\"Total videos for training: {len(train_df)}\")\n",
        "print(f\"Total videos for testing: {len(test_df)}\")\n",
        "\n",
        "train_df.sample(10)"
      ]
    },
    {
      "cell_type": "markdown",
      "metadata": {
        "id": "sAYWpMKkZuNS"
      },
      "source": [
        "One of the many challenges of training video classifiers is figuring out a way to feed\n",
        "the videos to a network. [This blog post](https://blog.coast.ai/five-video-classification-methods-implemented-in-keras-and-tensorflow-99cad29cc0b5)\n",
        "discusses five such methods. Since a video is an ordered sequence of frames, we could\n",
        "just extract the frames and put them in a 3D tensor. But the number of frames may differ\n",
        "from video to video which would prevent us from stacking them into batches\n",
        "(unless we use padding). As an alternative, we can **save video frames at a fixed\n",
        "interval until a maximum frame count is reached**. In this example we will do\n",
        "the following:\n",
        "\n",
        "1. Capture the frames of a video.\n",
        "2. Extract frames from the videos until a maximum frame count is reached.\n",
        "3. In the case, where a video's frame count is lesser than the maximum frame count we\n",
        "will pad the video with zeros.\n",
        "\n",
        "Note that this workflow is identical to [problems involving texts sequences](https://developers.google.com/machine-learning/guides/text-classification/). Videos of the UCF101 dataset is [known](https://www.crcv.ucf.edu/papers/UCF101_CRCV-TR-12-01.pdf)\n",
        "to not contain extreme variations in objects and actions across frames. Because of this,\n",
        "it may be okay to only consider a few frames for the learning task. But this approach may\n",
        "not generalize well to other video classification problems. We will be using\n",
        "[OpenCV's `VideoCapture()` method](https://docs.opencv.org/master/dd/d43/tutorial_py_video_display.html)\n",
        "to read frames from videos."
      ]
    },
    {
      "cell_type": "code",
      "execution_count": 35,
      "metadata": {
        "id": "9n6v2SteZuNT"
      },
      "outputs": [],
      "source": [
        "# The following two methods are taken from this tutorial:\n",
        "# https://www.tensorflow.org/hub/tutorials/action_recognition_with_tf_hub\n",
        "\n",
        "\n",
        "def crop_center_square(frame):\n",
        "    y, x = frame.shape[0:2]\n",
        "    min_dim = min(y, x)\n",
        "    start_x = (x // 2) - (min_dim // 2)\n",
        "    start_y = (y // 2) - (min_dim // 2)\n",
        "    return frame[start_y : start_y + min_dim, start_x : start_x + min_dim]\n",
        "\n",
        "\n",
        "def load_video(path, max_frames=0, resize=(IMG_SIZE, IMG_SIZE)):\n",
        "    cap = cv2.VideoCapture(path)\n",
        "    frames = []\n",
        "    try:\n",
        "        while True:\n",
        "            ret, frame = cap.read()\n",
        "            if not ret:\n",
        "                break\n",
        "            frame = crop_center_square(frame)\n",
        "            frame = cv2.resize(frame, resize)\n",
        "            frame = frame[:, :, [2, 1, 0]]\n",
        "            frames.append(frame)\n",
        "\n",
        "            if len(frames) == max_frames:\n",
        "                break\n",
        "    finally:\n",
        "        cap.release()\n",
        "    return np.array(frames)\n"
      ]
    },
    {
      "cell_type": "markdown",
      "metadata": {
        "id": "LLeQIcQ_ZuNT"
      },
      "source": [
        "We can use a pre-trained network to extract meaningful features from the extracted\n",
        "frames. The [`Keras Applications`](https://keras.io/api/applications/) module provides\n",
        "a number of state-of-the-art models pre-trained on the [ImageNet-1k dataset](http://image-net.org/).\n",
        "We will be using the [InceptionV3 model](https://arxiv.org/abs/1512.00567) for this purpose."
      ]
    },
    {
      "cell_type": "code",
      "execution_count": 36,
      "metadata": {
        "id": "Kkf9V9WfZuNU"
      },
      "outputs": [],
      "source": [
        "\n",
        "def build_feature_extractor():\n",
        "    feature_extractor = keras.applications.InceptionV3(\n",
        "        weights=\"imagenet\",\n",
        "        include_top=False,\n",
        "        pooling=\"avg\",\n",
        "        input_shape=(IMG_SIZE, IMG_SIZE, 3),\n",
        "    )\n",
        "    preprocess_input = keras.applications.inception_v3.preprocess_input\n",
        "\n",
        "    inputs = keras.Input((IMG_SIZE, IMG_SIZE, 3))\n",
        "    preprocessed = preprocess_input(inputs)\n",
        "\n",
        "    outputs = feature_extractor(preprocessed)\n",
        "    return keras.Model(inputs, outputs, name=\"feature_extractor\")\n",
        "\n",
        "\n",
        "feature_extractor = build_feature_extractor()"
      ]
    },
    {
      "cell_type": "markdown",
      "metadata": {
        "id": "jHBphAAjZuNU"
      },
      "source": [
        "The labels of the videos are strings. Neural networks do not understand string values,\n",
        "so they must be converted to some numerical form before they are fed to the model. Here\n",
        "we will use the [`StringLookup`](https://keras.io/api/layers/preprocessing_layers/categorical/string_lookup)\n",
        "layer encode the class labels as integers."
      ]
    },
    {
      "cell_type": "code",
      "execution_count": 37,
      "metadata": {
        "colab": {
          "base_uri": "https://localhost:8080/"
        },
        "id": "PApGyOOrZuNV",
        "outputId": "3cf0019f-190e-4b83-924a-83021a5f9db9"
      },
      "outputs": [
        {
          "output_type": "stream",
          "name": "stdout",
          "text": [
            "['CricketShot', 'PlayingCello', 'Punch', 'ShavingBeard', 'TennisSwing']\n"
          ]
        }
      ],
      "source": [
        "label_processor = keras.layers.StringLookup(\n",
        "    num_oov_indices=0, vocabulary=np.unique(train_df[\"tag\"])\n",
        ")\n",
        "print(label_processor.get_vocabulary())"
      ]
    },
    {
      "cell_type": "markdown",
      "metadata": {
        "id": "n1oubFN9ZuNW"
      },
      "source": [
        "Finally, we can put all the pieces together to create our data processing utility."
      ]
    },
    {
      "cell_type": "code",
      "execution_count": 38,
      "metadata": {
        "colab": {
          "base_uri": "https://localhost:8080/",
          "height": 348
        },
        "id": "nPwtM4RLZuNW",
        "outputId": "4eee20ca-c0ab-41d8-b9a0-1b2316efb201"
      },
      "outputs": [
        {
          "output_type": "error",
          "ename": "AttributeError",
          "evalue": "module 'keras' has no attribute 'ops'",
          "traceback": [
            "\u001b[0;31m---------------------------------------------------------------------------\u001b[0m",
            "\u001b[0;31mAttributeError\u001b[0m                            Traceback (most recent call last)",
            "\u001b[0;32m<ipython-input-38-04bafee5bfe0>\u001b[0m in \u001b[0;36m<cell line: 49>\u001b[0;34m()\u001b[0m\n\u001b[1;32m     47\u001b[0m \u001b[0;34m\u001b[0m\u001b[0m\n\u001b[1;32m     48\u001b[0m \u001b[0;34m\u001b[0m\u001b[0m\n\u001b[0;32m---> 49\u001b[0;31m \u001b[0mtrain_data\u001b[0m\u001b[0;34m,\u001b[0m \u001b[0mtrain_labels\u001b[0m \u001b[0;34m=\u001b[0m \u001b[0mprepare_all_videos\u001b[0m\u001b[0;34m(\u001b[0m\u001b[0mtrain_df\u001b[0m\u001b[0;34m,\u001b[0m \u001b[0;34m\"train\"\u001b[0m\u001b[0;34m)\u001b[0m\u001b[0;34m\u001b[0m\u001b[0;34m\u001b[0m\u001b[0m\n\u001b[0m\u001b[1;32m     50\u001b[0m \u001b[0mtest_data\u001b[0m\u001b[0;34m,\u001b[0m \u001b[0mtest_labels\u001b[0m \u001b[0;34m=\u001b[0m \u001b[0mprepare_all_videos\u001b[0m\u001b[0;34m(\u001b[0m\u001b[0mtest_df\u001b[0m\u001b[0;34m,\u001b[0m \u001b[0;34m\"test\"\u001b[0m\u001b[0;34m)\u001b[0m\u001b[0;34m\u001b[0m\u001b[0;34m\u001b[0m\u001b[0m\n\u001b[1;32m     51\u001b[0m \u001b[0;34m\u001b[0m\u001b[0m\n",
            "\u001b[0;32m<ipython-input-38-04bafee5bfe0>\u001b[0m in \u001b[0;36mprepare_all_videos\u001b[0;34m(df, root_dir)\u001b[0m\n\u001b[1;32m      3\u001b[0m     \u001b[0mvideo_paths\u001b[0m \u001b[0;34m=\u001b[0m \u001b[0mdf\u001b[0m\u001b[0;34m[\u001b[0m\u001b[0;34m\"video_name\"\u001b[0m\u001b[0;34m]\u001b[0m\u001b[0;34m.\u001b[0m\u001b[0mvalues\u001b[0m\u001b[0;34m.\u001b[0m\u001b[0mtolist\u001b[0m\u001b[0;34m(\u001b[0m\u001b[0;34m)\u001b[0m\u001b[0;34m\u001b[0m\u001b[0;34m\u001b[0m\u001b[0m\n\u001b[1;32m      4\u001b[0m     \u001b[0mlabels\u001b[0m \u001b[0;34m=\u001b[0m \u001b[0mdf\u001b[0m\u001b[0;34m[\u001b[0m\u001b[0;34m\"tag\"\u001b[0m\u001b[0;34m]\u001b[0m\u001b[0;34m.\u001b[0m\u001b[0mvalues\u001b[0m\u001b[0;34m\u001b[0m\u001b[0;34m\u001b[0m\u001b[0m\n\u001b[0;32m----> 5\u001b[0;31m     \u001b[0mlabels\u001b[0m \u001b[0;34m=\u001b[0m \u001b[0mkeras\u001b[0m\u001b[0;34m.\u001b[0m\u001b[0mops\u001b[0m\u001b[0;34m.\u001b[0m\u001b[0mconvert_to_numpy\u001b[0m\u001b[0;34m(\u001b[0m\u001b[0mlabel_processor\u001b[0m\u001b[0;34m(\u001b[0m\u001b[0mlabels\u001b[0m\u001b[0;34m[\u001b[0m\u001b[0;34m...\u001b[0m\u001b[0;34m,\u001b[0m \u001b[0;32mNone\u001b[0m\u001b[0;34m]\u001b[0m\u001b[0;34m)\u001b[0m\u001b[0;34m)\u001b[0m\u001b[0;34m\u001b[0m\u001b[0;34m\u001b[0m\u001b[0m\n\u001b[0m\u001b[1;32m      6\u001b[0m \u001b[0;34m\u001b[0m\u001b[0m\n\u001b[1;32m      7\u001b[0m     \u001b[0;31m# `frame_masks` and `frame_features` are what we will feed to our sequence model.\u001b[0m\u001b[0;34m\u001b[0m\u001b[0;34m\u001b[0m\u001b[0m\n",
            "\u001b[0;31mAttributeError\u001b[0m: module 'keras' has no attribute 'ops'"
          ]
        }
      ],
      "source": [
        "\n",
        "def prepare_all_videos(df, root_dir):\n",
        "    num_samples = len(df)\n",
        "    video_paths = df[\"video_name\"].values.tolist()\n",
        "    labels = df[\"tag\"].values\n",
        "    labels = keras.ops.convert_to_numpy(label_processor(labels[..., None]))\n",
        "\n",
        "    # `frame_masks` and `frame_features` are what we will feed to our sequence model.\n",
        "    # `frame_masks` will contain a bunch of booleans denoting if a timestep is\n",
        "    # masked with padding or not.\n",
        "    frame_masks = np.zeros(shape=(num_samples, MAX_SEQ_LENGTH), dtype=\"bool\")\n",
        "    frame_features = np.zeros(\n",
        "        shape=(num_samples, MAX_SEQ_LENGTH, NUM_FEATURES), dtype=\"float32\"\n",
        "    )\n",
        "\n",
        "    # For each video.\n",
        "    for idx, path in enumerate(video_paths):\n",
        "        # Gather all its frames and add a batch dimension.\n",
        "        frames = load_video(os.path.join(root_dir, path))\n",
        "        frames = frames[None, ...]\n",
        "\n",
        "        # Initialize placeholders to store the masks and features of the current video.\n",
        "        temp_frame_mask = np.zeros(\n",
        "            shape=(\n",
        "                1,\n",
        "                MAX_SEQ_LENGTH,\n",
        "            ),\n",
        "            dtype=\"bool\",\n",
        "        )\n",
        "        temp_frame_features = np.zeros(\n",
        "            shape=(1, MAX_SEQ_LENGTH, NUM_FEATURES), dtype=\"float32\"\n",
        "        )\n",
        "\n",
        "        # Extract features from the frames of the current video.\n",
        "        for i, batch in enumerate(frames):\n",
        "            video_length = batch.shape[0]\n",
        "            length = min(MAX_SEQ_LENGTH, video_length)\n",
        "            for j in range(length):\n",
        "                temp_frame_features[i, j, :] = feature_extractor.predict(\n",
        "                    batch[None, j, :], verbose=0,\n",
        "                )\n",
        "            temp_frame_mask[i, :length] = 1  # 1 = not masked, 0 = masked\n",
        "\n",
        "        frame_features[idx,] = temp_frame_features.squeeze()\n",
        "        frame_masks[idx,] = temp_frame_mask.squeeze()\n",
        "\n",
        "    return (frame_features, frame_masks), labels\n",
        "\n",
        "\n",
        "train_data, train_labels = prepare_all_videos(train_df, \"train\")\n",
        "test_data, test_labels = prepare_all_videos(test_df, \"test\")\n",
        "\n",
        "print(f\"Frame features in train set: {train_data[0].shape}\")\n",
        "print(f\"Frame masks in train set: {train_data[1].shape}\")"
      ]
    },
    {
      "cell_type": "markdown",
      "metadata": {
        "id": "Cr2GGoi0ZuNX"
      },
      "source": [
        "The above code block will take ~20 minutes to execute depending on the machine it's being\n",
        "executed."
      ]
    },
    {
      "cell_type": "code",
      "source": [
        "!pip uninstall keras"
      ],
      "metadata": {
        "colab": {
          "base_uri": "https://localhost:8080/"
        },
        "id": "Lwk9CEgLcoJZ",
        "outputId": "fdf2cca2-7b7e-4e38-8260-6c11a8059c20"
      },
      "execution_count": 42,
      "outputs": [
        {
          "output_type": "stream",
          "name": "stdout",
          "text": [
            "Found existing installation: keras 2.15.0\n",
            "Uninstalling keras-2.15.0:\n",
            "  Would remove:\n",
            "    /usr/local/lib/python3.10/dist-packages/keras-2.15.0.dist-info/*\n",
            "    /usr/local/lib/python3.10/dist-packages/keras/*\n",
            "Proceed (Y/n)? y\n",
            "  Successfully uninstalled keras-2.15.0\n"
          ]
        }
      ]
    },
    {
      "cell_type": "code",
      "source": [
        "pip install tensorflow\n"
      ],
      "metadata": {
        "colab": {
          "base_uri": "https://localhost:8080/",
          "height": 959
        },
        "id": "tgfYj-iqeNfu",
        "outputId": "cb02046c-5560-47c7-f66a-22df3e68dd8a"
      },
      "execution_count": 43,
      "outputs": [
        {
          "output_type": "stream",
          "name": "stdout",
          "text": [
            "Requirement already satisfied: tensorflow in /usr/local/lib/python3.10/dist-packages (2.15.0)\n",
            "Requirement already satisfied: absl-py>=1.0.0 in /usr/local/lib/python3.10/dist-packages (from tensorflow) (1.4.0)\n",
            "Requirement already satisfied: astunparse>=1.6.0 in /usr/local/lib/python3.10/dist-packages (from tensorflow) (1.6.3)\n",
            "Requirement already satisfied: flatbuffers>=23.5.26 in /usr/local/lib/python3.10/dist-packages (from tensorflow) (24.3.25)\n",
            "Requirement already satisfied: gast!=0.5.0,!=0.5.1,!=0.5.2,>=0.2.1 in /usr/local/lib/python3.10/dist-packages (from tensorflow) (0.5.4)\n",
            "Requirement already satisfied: google-pasta>=0.1.1 in /usr/local/lib/python3.10/dist-packages (from tensorflow) (0.2.0)\n",
            "Requirement already satisfied: h5py>=2.9.0 in /usr/local/lib/python3.10/dist-packages (from tensorflow) (3.9.0)\n",
            "Requirement already satisfied: libclang>=13.0.0 in /usr/local/lib/python3.10/dist-packages (from tensorflow) (18.1.1)\n",
            "Requirement already satisfied: ml-dtypes~=0.2.0 in /usr/local/lib/python3.10/dist-packages (from tensorflow) (0.2.0)\n",
            "Requirement already satisfied: numpy<2.0.0,>=1.23.5 in /usr/local/lib/python3.10/dist-packages (from tensorflow) (1.25.2)\n",
            "Requirement already satisfied: opt-einsum>=2.3.2 in /usr/local/lib/python3.10/dist-packages (from tensorflow) (3.3.0)\n",
            "Requirement already satisfied: packaging in /usr/local/lib/python3.10/dist-packages (from tensorflow) (24.1)\n",
            "Requirement already satisfied: protobuf!=4.21.0,!=4.21.1,!=4.21.2,!=4.21.3,!=4.21.4,!=4.21.5,<5.0.0dev,>=3.20.3 in /usr/local/lib/python3.10/dist-packages (from tensorflow) (3.20.3)\n",
            "Requirement already satisfied: setuptools in /usr/local/lib/python3.10/dist-packages (from tensorflow) (67.7.2)\n",
            "Requirement already satisfied: six>=1.12.0 in /usr/local/lib/python3.10/dist-packages (from tensorflow) (1.16.0)\n",
            "Requirement already satisfied: termcolor>=1.1.0 in /usr/local/lib/python3.10/dist-packages (from tensorflow) (2.4.0)\n",
            "Requirement already satisfied: typing-extensions>=3.6.6 in /usr/local/lib/python3.10/dist-packages (from tensorflow) (4.12.2)\n",
            "Requirement already satisfied: wrapt<1.15,>=1.11.0 in /usr/local/lib/python3.10/dist-packages (from tensorflow) (1.14.1)\n",
            "Requirement already satisfied: tensorflow-io-gcs-filesystem>=0.23.1 in /usr/local/lib/python3.10/dist-packages (from tensorflow) (0.37.0)\n",
            "Requirement already satisfied: grpcio<2.0,>=1.24.3 in /usr/local/lib/python3.10/dist-packages (from tensorflow) (1.64.1)\n",
            "Requirement already satisfied: tensorboard<2.16,>=2.15 in /usr/local/lib/python3.10/dist-packages (from tensorflow) (2.15.2)\n",
            "Requirement already satisfied: tensorflow-estimator<2.16,>=2.15.0 in /usr/local/lib/python3.10/dist-packages (from tensorflow) (2.15.0)\n",
            "Collecting keras<2.16,>=2.15.0 (from tensorflow)\n",
            "  Downloading keras-2.15.0-py3-none-any.whl (1.7 MB)\n",
            "\u001b[2K     \u001b[90m━━━━━━━━━━━━━━━━━━━━━━━━━━━━━━━━━━━━━━━━\u001b[0m \u001b[32m1.7/1.7 MB\u001b[0m \u001b[31m8.7 MB/s\u001b[0m eta \u001b[36m0:00:00\u001b[0m\n",
            "\u001b[?25hRequirement already satisfied: wheel<1.0,>=0.23.0 in /usr/local/lib/python3.10/dist-packages (from astunparse>=1.6.0->tensorflow) (0.43.0)\n",
            "Requirement already satisfied: google-auth<3,>=1.6.3 in /usr/local/lib/python3.10/dist-packages (from tensorboard<2.16,>=2.15->tensorflow) (2.27.0)\n",
            "Requirement already satisfied: google-auth-oauthlib<2,>=0.5 in /usr/local/lib/python3.10/dist-packages (from tensorboard<2.16,>=2.15->tensorflow) (1.2.0)\n",
            "Requirement already satisfied: markdown>=2.6.8 in /usr/local/lib/python3.10/dist-packages (from tensorboard<2.16,>=2.15->tensorflow) (3.6)\n",
            "Requirement already satisfied: requests<3,>=2.21.0 in /usr/local/lib/python3.10/dist-packages (from tensorboard<2.16,>=2.15->tensorflow) (2.31.0)\n",
            "Requirement already satisfied: tensorboard-data-server<0.8.0,>=0.7.0 in /usr/local/lib/python3.10/dist-packages (from tensorboard<2.16,>=2.15->tensorflow) (0.7.2)\n",
            "Requirement already satisfied: werkzeug>=1.0.1 in /usr/local/lib/python3.10/dist-packages (from tensorboard<2.16,>=2.15->tensorflow) (3.0.3)\n",
            "Requirement already satisfied: cachetools<6.0,>=2.0.0 in /usr/local/lib/python3.10/dist-packages (from google-auth<3,>=1.6.3->tensorboard<2.16,>=2.15->tensorflow) (5.3.3)\n",
            "Requirement already satisfied: pyasn1-modules>=0.2.1 in /usr/local/lib/python3.10/dist-packages (from google-auth<3,>=1.6.3->tensorboard<2.16,>=2.15->tensorflow) (0.4.0)\n",
            "Requirement already satisfied: rsa<5,>=3.1.4 in /usr/local/lib/python3.10/dist-packages (from google-auth<3,>=1.6.3->tensorboard<2.16,>=2.15->tensorflow) (4.9)\n",
            "Requirement already satisfied: requests-oauthlib>=0.7.0 in /usr/local/lib/python3.10/dist-packages (from google-auth-oauthlib<2,>=0.5->tensorboard<2.16,>=2.15->tensorflow) (1.3.1)\n",
            "Requirement already satisfied: charset-normalizer<4,>=2 in /usr/local/lib/python3.10/dist-packages (from requests<3,>=2.21.0->tensorboard<2.16,>=2.15->tensorflow) (3.3.2)\n",
            "Requirement already satisfied: idna<4,>=2.5 in /usr/local/lib/python3.10/dist-packages (from requests<3,>=2.21.0->tensorboard<2.16,>=2.15->tensorflow) (3.7)\n",
            "Requirement already satisfied: urllib3<3,>=1.21.1 in /usr/local/lib/python3.10/dist-packages (from requests<3,>=2.21.0->tensorboard<2.16,>=2.15->tensorflow) (2.0.7)\n",
            "Requirement already satisfied: certifi>=2017.4.17 in /usr/local/lib/python3.10/dist-packages (from requests<3,>=2.21.0->tensorboard<2.16,>=2.15->tensorflow) (2024.6.2)\n",
            "Requirement already satisfied: MarkupSafe>=2.1.1 in /usr/local/lib/python3.10/dist-packages (from werkzeug>=1.0.1->tensorboard<2.16,>=2.15->tensorflow) (2.1.5)\n",
            "Requirement already satisfied: pyasn1<0.7.0,>=0.4.6 in /usr/local/lib/python3.10/dist-packages (from pyasn1-modules>=0.2.1->google-auth<3,>=1.6.3->tensorboard<2.16,>=2.15->tensorflow) (0.6.0)\n",
            "Requirement already satisfied: oauthlib>=3.0.0 in /usr/local/lib/python3.10/dist-packages (from requests-oauthlib>=0.7.0->google-auth-oauthlib<2,>=0.5->tensorboard<2.16,>=2.15->tensorflow) (3.2.2)\n",
            "Installing collected packages: keras\n",
            "Successfully installed keras-2.15.0\n"
          ]
        },
        {
          "output_type": "display_data",
          "data": {
            "application/vnd.colab-display-data+json": {
              "pip_warning": {
                "packages": [
                  "keras"
                ]
              },
              "id": "75697b925baf4fd8bf45bd0dce2efafd"
            }
          },
          "metadata": {}
        }
      ]
    },
    {
      "cell_type": "code",
      "source": [
        "import pandas as pd\n",
        "import numpy as np\n",
        "import os\n",
        "import tensorflow as tf\n",
        "from tensorflow import keras\n",
        "\n",
        "# Define constants used in the script\n",
        "MAX_SEQ_LENGTH = 100  # Example value, adjust according to your needs\n",
        "NUM_FEATURES = 2048  # Example value, adjust according to your needs\n",
        "\n",
        "# Define the feature extractor function (replace this with your actual function)\n",
        "def feature_extractor(batch):\n",
        "    # This is a placeholder. Replace with your actual feature extraction logic.\n",
        "    return np.random.rand(1, NUM_FEATURES)\n",
        "\n",
        "# Define the load_video function (replace this with your actual function)\n",
        "def load_video(path):\n",
        "    # This is a placeholder. Replace with your actual video loading logic.\n",
        "    return np.random.rand(10, 224, 224, 3)  # Example video frames\n",
        "\n",
        "# Placeholder for label_processor function (replace this with your actual function)\n",
        "def label_processor(labels):\n",
        "    # This is a placeholder. Replace with your actual label processing logic.\n",
        "    return np.random.rand(len(labels), 1)\n",
        "\n",
        "# Load data into DataFrames\n",
        "train_df = pd.read_csv(r'train.csv')\n",
        "test_df = pd.read_csv(r'test.csv')\n",
        "\n",
        "def prepare_all_videos(df, root_dir):\n",
        "    num_samples = len(df)\n",
        "    video_paths = df[\"video_name\"].values.tolist()\n",
        "    labels = df[\"tag\"].values\n",
        "    labels = tf.convert_to_tensor(label_processor(labels[..., None]))\n",
        "\n",
        "    # `frame_masks` and `frame_features` are what we will feed to our sequence model.\n",
        "    frame_masks = np.zeros(shape=(num_samples, MAX_SEQ_LENGTH), dtype=bool)\n",
        "    frame_features = np.zeros(shape=(num_samples, MAX_SEQ_LENGTH, NUM_FEATURES), dtype=np.float32)\n",
        "\n",
        "    # For each video.\n",
        "    for idx, path in enumerate(video_paths):\n",
        "        # Gather all its frames and add a batch dimension.\n",
        "        frames = load_video(os.path.join(root_dir, path))\n",
        "        frames = frames[None, ...]\n",
        "\n",
        "        # Initialize placeholders to store the masks and features of the current video.\n",
        "        temp_frame_mask = np.zeros(shape=(1, MAX_SEQ_LENGTH), dtype=bool)\n",
        "        temp_frame_features = np.zeros(shape=(1, MAX_SEQ_LENGTH, NUM_FEATURES), dtype=np.float32)\n",
        "\n",
        "        # Extract features from the frames of the current video.\n",
        "        for i, batch in enumerate(frames):\n",
        "            video_length = batch.shape[0]\n",
        "            length = min(MAX_SEQ_LENGTH, video_length)\n",
        "            for j in range(length):\n",
        "                temp_frame_features[i, j, :] = feature_extractor(batch[None, j, :])\n",
        "            temp_frame_mask[i, :length] = 1  # 1 = not masked, 0 = masked\n",
        "\n",
        "        frame_features[idx] = temp_frame_features.squeeze()\n",
        "        frame_masks[idx] = temp_frame_mask.squeeze()\n",
        "\n",
        "    return (frame_features, frame_masks), labels\n",
        "\n",
        "# Prepare training and testing data\n",
        "train_data, train_labels = prepare_all_videos(train_df, \"train\")\n",
        "test_data, test_labels = prepare_all_videos(test_df, \"test\")\n",
        "\n",
        "print(f\"Frame features in train set: {train_data[0].shape}\")\n",
        "print(f\"Frame masks in train set: {train_data[1].shape}\")\n"
      ],
      "metadata": {
        "colab": {
          "base_uri": "https://localhost:8080/"
        },
        "id": "Oh1W4Tz_efvP",
        "outputId": "fc6c2af5-877b-4dc4-c977-25a0f0dd4106"
      },
      "execution_count": 5,
      "outputs": [
        {
          "output_type": "stream",
          "name": "stdout",
          "text": [
            "Frame features in train set: (594, 100, 2048)\n",
            "Frame masks in train set: (594, 100)\n"
          ]
        }
      ]
    },
    {
      "cell_type": "markdown",
      "metadata": {
        "id": "pSbh6CLSZuNX"
      },
      "source": [
        "## The sequence model\n",
        "\n",
        "Now, we can feed this data to a sequence model consisting of recurrent layers like `GRU`."
      ]
    },
    {
      "cell_type": "code",
      "execution_count": 7,
      "metadata": {
        "colab": {
          "base_uri": "https://localhost:8080/",
          "height": 335
        },
        "id": "1EvMwkdeZuNY",
        "outputId": "677c8834-7437-4b65-9211-dee038e436b1"
      },
      "outputs": [
        {
          "output_type": "error",
          "ename": "AttributeError",
          "evalue": "'function' object has no attribute 'get_vocabulary'",
          "traceback": [
            "\u001b[0;31m---------------------------------------------------------------------------\u001b[0m",
            "\u001b[0;31mAttributeError\u001b[0m                            Traceback (most recent call last)",
            "\u001b[0;32m<ipython-input-7-91e13564d431>\u001b[0m in \u001b[0;36m<cell line: 49>\u001b[0;34m()\u001b[0m\n\u001b[1;32m     47\u001b[0m \u001b[0;34m\u001b[0m\u001b[0m\n\u001b[1;32m     48\u001b[0m \u001b[0;34m\u001b[0m\u001b[0m\n\u001b[0;32m---> 49\u001b[0;31m \u001b[0m_\u001b[0m\u001b[0;34m,\u001b[0m \u001b[0msequence_model\u001b[0m \u001b[0;34m=\u001b[0m \u001b[0mrun_experiment\u001b[0m\u001b[0;34m(\u001b[0m\u001b[0;34m)\u001b[0m\u001b[0;34m\u001b[0m\u001b[0;34m\u001b[0m\u001b[0m\n\u001b[0m",
            "\u001b[0;32m<ipython-input-7-91e13564d431>\u001b[0m in \u001b[0;36mrun_experiment\u001b[0;34m()\u001b[0m\n\u001b[1;32m     31\u001b[0m     )\n\u001b[1;32m     32\u001b[0m \u001b[0;34m\u001b[0m\u001b[0m\n\u001b[0;32m---> 33\u001b[0;31m     \u001b[0mseq_model\u001b[0m \u001b[0;34m=\u001b[0m \u001b[0mget_sequence_model\u001b[0m\u001b[0;34m(\u001b[0m\u001b[0;34m)\u001b[0m\u001b[0;34m\u001b[0m\u001b[0;34m\u001b[0m\u001b[0m\n\u001b[0m\u001b[1;32m     34\u001b[0m     history = seq_model.fit(\n\u001b[1;32m     35\u001b[0m         \u001b[0;34m[\u001b[0m\u001b[0mtrain_data\u001b[0m\u001b[0;34m[\u001b[0m\u001b[0;36m0\u001b[0m\u001b[0;34m]\u001b[0m\u001b[0;34m,\u001b[0m \u001b[0mtrain_data\u001b[0m\u001b[0;34m[\u001b[0m\u001b[0;36m1\u001b[0m\u001b[0;34m]\u001b[0m\u001b[0;34m]\u001b[0m\u001b[0;34m,\u001b[0m\u001b[0;34m\u001b[0m\u001b[0;34m\u001b[0m\u001b[0m\n",
            "\u001b[0;32m<ipython-input-7-91e13564d431>\u001b[0m in \u001b[0;36mget_sequence_model\u001b[0;34m()\u001b[0m\n\u001b[1;32m      1\u001b[0m \u001b[0;31m# Utility for our sequence model.\u001b[0m\u001b[0;34m\u001b[0m\u001b[0;34m\u001b[0m\u001b[0m\n\u001b[1;32m      2\u001b[0m \u001b[0;32mdef\u001b[0m \u001b[0mget_sequence_model\u001b[0m\u001b[0;34m(\u001b[0m\u001b[0;34m)\u001b[0m\u001b[0;34m:\u001b[0m\u001b[0;34m\u001b[0m\u001b[0;34m\u001b[0m\u001b[0m\n\u001b[0;32m----> 3\u001b[0;31m     \u001b[0mclass_vocab\u001b[0m \u001b[0;34m=\u001b[0m \u001b[0mlabel_processor\u001b[0m\u001b[0;34m.\u001b[0m\u001b[0mget_vocabulary\u001b[0m\u001b[0;34m(\u001b[0m\u001b[0;34m)\u001b[0m\u001b[0;34m\u001b[0m\u001b[0;34m\u001b[0m\u001b[0m\n\u001b[0m\u001b[1;32m      4\u001b[0m \u001b[0;34m\u001b[0m\u001b[0m\n\u001b[1;32m      5\u001b[0m     \u001b[0mframe_features_input\u001b[0m \u001b[0;34m=\u001b[0m \u001b[0mkeras\u001b[0m\u001b[0;34m.\u001b[0m\u001b[0mInput\u001b[0m\u001b[0;34m(\u001b[0m\u001b[0;34m(\u001b[0m\u001b[0mMAX_SEQ_LENGTH\u001b[0m\u001b[0;34m,\u001b[0m \u001b[0mNUM_FEATURES\u001b[0m\u001b[0;34m)\u001b[0m\u001b[0;34m)\u001b[0m\u001b[0;34m\u001b[0m\u001b[0;34m\u001b[0m\u001b[0m\n",
            "\u001b[0;31mAttributeError\u001b[0m: 'function' object has no attribute 'get_vocabulary'"
          ]
        }
      ],
      "source": [
        "\n",
        "# Utility for our sequence model.\n",
        "def get_sequence_model():\n",
        "    class_vocab = label_processor.get_vocabulary()\n",
        "\n",
        "    frame_features_input = keras.Input((MAX_SEQ_LENGTH, NUM_FEATURES))\n",
        "    mask_input = keras.Input((MAX_SEQ_LENGTH,), dtype=\"bool\")\n",
        "\n",
        "    # Refer to the following tutorial to understand the significance of using `mask`:\n",
        "    # https://keras.io/api/layers/recurrent_layers/gru/\n",
        "    x = keras.layers.GRU(16, return_sequences=True)(\n",
        "        frame_features_input, mask=mask_input\n",
        "    )\n",
        "    x = keras.layers.GRU(8)(x)\n",
        "    x = keras.layers.Dropout(0.4)(x)\n",
        "    x = keras.layers.Dense(8, activation=\"relu\")(x)\n",
        "    output = keras.layers.Dense(len(class_vocab), activation=\"softmax\")(x)\n",
        "\n",
        "    rnn_model = keras.Model([frame_features_input, mask_input], output)\n",
        "\n",
        "    rnn_model.compile(\n",
        "        loss=\"sparse_categorical_crossentropy\", optimizer=\"adam\", metrics=[\"accuracy\"]\n",
        "    )\n",
        "    return rnn_model\n",
        "\n",
        "\n",
        "# Utility for running experiments.\n",
        "def run_experiment():\n",
        "    filepath = \"/tmp/video_classifier/ckpt.weights.h5\"\n",
        "    checkpoint = keras.callbacks.ModelCheckpoint(\n",
        "        filepath, save_weights_only=True, save_best_only=True, verbose=1\n",
        "    )\n",
        "\n",
        "    seq_model = get_sequence_model()\n",
        "    history = seq_model.fit(\n",
        "        [train_data[0], train_data[1]],\n",
        "        train_labels,\n",
        "        validation_split=0.3,\n",
        "        epochs=EPOCHS,\n",
        "        callbacks=[checkpoint],\n",
        "    )\n",
        "\n",
        "    seq_model.load_weights(filepath)\n",
        "    _, accuracy = seq_model.evaluate([test_data[0], test_data[1]], test_labels)\n",
        "    print(f\"Test accuracy: {round(accuracy * 100, 2)}%\")\n",
        "\n",
        "    return history, seq_model\n",
        "\n",
        "\n",
        "_, sequence_model = run_experiment()"
      ]
    },
    {
      "cell_type": "markdown",
      "metadata": {
        "id": "wJBYU-DUZuNZ"
      },
      "source": [
        "**Note**: To keep the runtime of this example relatively short, we just used a few\n",
        "training examples. This number of training examples is low with respect to the sequence\n",
        "model being used that has 99,909 trainable parameters. You are encouraged to sample more\n",
        "data from the UCF101 dataset using [the notebook](https://colab.research.google.com/github/sayakpaul/Action-Recognition-in-TensorFlow/blob/main/Data_Preparation_UCF101.ipynb) mentioned above and train the same model."
      ]
    },
    {
      "cell_type": "code",
      "source": [
        "import pandas as pd\n",
        "import numpy as np\n",
        "import os\n",
        "import tensorflow as tf\n",
        "from tensorflow import keras\n",
        "from sklearn.preprocessing import LabelEncoder\n",
        "\n",
        "# Define constants used in the script\n",
        "MAX_SEQ_LENGTH = 100  # Example value, adjust according to your needs\n",
        "NUM_FEATURES = 2048  # Example value, adjust according to your needs\n",
        "EPOCHS = 10  # Number of epochs for training\n",
        "\n",
        "# Define the feature extractor function (replace this with your actual function)\n",
        "def feature_extractor(batch):\n",
        "    # This is a placeholder. Replace with your actual feature extraction logic.\n",
        "    return np.random.rand(1, NUM_FEATURES)\n",
        "\n",
        "# Define the load_video function (replace this with your actual function)\n",
        "def load_video(path):\n",
        "    # This is a placeholder. Replace with your actual video loading logic.\n",
        "    return np.random.rand(10, 224, 224, 3)  # Example video frames\n",
        "\n",
        "# Placeholder for\n"
      ],
      "metadata": {
        "id": "Rn81FE1FgVIY"
      },
      "execution_count": 8,
      "outputs": []
    },
    {
      "cell_type": "markdown",
      "metadata": {
        "id": "LkA4dwUUZuNc"
      },
      "source": [
        "## Inference"
      ]
    },
    {
      "cell_type": "code",
      "execution_count": 9,
      "metadata": {
        "colab": {
          "base_uri": "https://localhost:8080/",
          "height": 348
        },
        "id": "XPqMg9xBZuNc",
        "outputId": "d331453c-d506-4a6a-b7eb-9229bb1a3839"
      },
      "outputs": [
        {
          "output_type": "stream",
          "name": "stdout",
          "text": [
            "Test video path: v_CricketShot_g07_c07.avi\n"
          ]
        },
        {
          "output_type": "error",
          "ename": "AttributeError",
          "evalue": "'function' object has no attribute 'get_vocabulary'",
          "traceback": [
            "\u001b[0;31m---------------------------------------------------------------------------\u001b[0m",
            "\u001b[0;31mAttributeError\u001b[0m                            Traceback (most recent call last)",
            "\u001b[0;32m<ipython-input-9-d79c506cc053>\u001b[0m in \u001b[0;36m<cell line: 45>\u001b[0;34m()\u001b[0m\n\u001b[1;32m     43\u001b[0m \u001b[0mtest_video\u001b[0m \u001b[0;34m=\u001b[0m \u001b[0mnp\u001b[0m\u001b[0;34m.\u001b[0m\u001b[0mrandom\u001b[0m\u001b[0;34m.\u001b[0m\u001b[0mchoice\u001b[0m\u001b[0;34m(\u001b[0m\u001b[0mtest_df\u001b[0m\u001b[0;34m[\u001b[0m\u001b[0;34m\"video_name\"\u001b[0m\u001b[0;34m]\u001b[0m\u001b[0;34m.\u001b[0m\u001b[0mvalues\u001b[0m\u001b[0;34m.\u001b[0m\u001b[0mtolist\u001b[0m\u001b[0;34m(\u001b[0m\u001b[0;34m)\u001b[0m\u001b[0;34m)\u001b[0m\u001b[0;34m\u001b[0m\u001b[0;34m\u001b[0m\u001b[0m\n\u001b[1;32m     44\u001b[0m \u001b[0mprint\u001b[0m\u001b[0;34m(\u001b[0m\u001b[0;34mf\"Test video path: {test_video}\"\u001b[0m\u001b[0;34m)\u001b[0m\u001b[0;34m\u001b[0m\u001b[0;34m\u001b[0m\u001b[0m\n\u001b[0;32m---> 45\u001b[0;31m \u001b[0mtest_frames\u001b[0m \u001b[0;34m=\u001b[0m \u001b[0msequence_prediction\u001b[0m\u001b[0;34m(\u001b[0m\u001b[0mtest_video\u001b[0m\u001b[0;34m)\u001b[0m\u001b[0;34m\u001b[0m\u001b[0;34m\u001b[0m\u001b[0m\n\u001b[0m\u001b[1;32m     46\u001b[0m \u001b[0mto_gif\u001b[0m\u001b[0;34m(\u001b[0m\u001b[0mtest_frames\u001b[0m\u001b[0;34m[\u001b[0m\u001b[0;34m:\u001b[0m\u001b[0mMAX_SEQ_LENGTH\u001b[0m\u001b[0;34m]\u001b[0m\u001b[0;34m)\u001b[0m\u001b[0;34m\u001b[0m\u001b[0;34m\u001b[0m\u001b[0m\n",
            "\u001b[0;32m<ipython-input-9-d79c506cc053>\u001b[0m in \u001b[0;36msequence_prediction\u001b[0;34m(path)\u001b[0m\n\u001b[1;32m     21\u001b[0m \u001b[0;34m\u001b[0m\u001b[0m\n\u001b[1;32m     22\u001b[0m \u001b[0;32mdef\u001b[0m \u001b[0msequence_prediction\u001b[0m\u001b[0;34m(\u001b[0m\u001b[0mpath\u001b[0m\u001b[0;34m)\u001b[0m\u001b[0;34m:\u001b[0m\u001b[0;34m\u001b[0m\u001b[0;34m\u001b[0m\u001b[0m\n\u001b[0;32m---> 23\u001b[0;31m     \u001b[0mclass_vocab\u001b[0m \u001b[0;34m=\u001b[0m \u001b[0mlabel_processor\u001b[0m\u001b[0;34m.\u001b[0m\u001b[0mget_vocabulary\u001b[0m\u001b[0;34m(\u001b[0m\u001b[0;34m)\u001b[0m\u001b[0;34m\u001b[0m\u001b[0;34m\u001b[0m\u001b[0m\n\u001b[0m\u001b[1;32m     24\u001b[0m \u001b[0;34m\u001b[0m\u001b[0m\n\u001b[1;32m     25\u001b[0m     \u001b[0mframes\u001b[0m \u001b[0;34m=\u001b[0m \u001b[0mload_video\u001b[0m\u001b[0;34m(\u001b[0m\u001b[0mos\u001b[0m\u001b[0;34m.\u001b[0m\u001b[0mpath\u001b[0m\u001b[0;34m.\u001b[0m\u001b[0mjoin\u001b[0m\u001b[0;34m(\u001b[0m\u001b[0;34m\"test\"\u001b[0m\u001b[0;34m,\u001b[0m \u001b[0mpath\u001b[0m\u001b[0;34m)\u001b[0m\u001b[0;34m)\u001b[0m\u001b[0;34m\u001b[0m\u001b[0;34m\u001b[0m\u001b[0m\n",
            "\u001b[0;31mAttributeError\u001b[0m: 'function' object has no attribute 'get_vocabulary'"
          ]
        }
      ],
      "source": [
        "\n",
        "def prepare_single_video(frames):\n",
        "    frames = frames[None, ...]\n",
        "    frame_mask = np.zeros(\n",
        "        shape=(\n",
        "            1,\n",
        "            MAX_SEQ_LENGTH,\n",
        "        ),\n",
        "        dtype=\"bool\",\n",
        "    )\n",
        "    frame_features = np.zeros(shape=(1, MAX_SEQ_LENGTH, NUM_FEATURES), dtype=\"float32\")\n",
        "\n",
        "    for i, batch in enumerate(frames):\n",
        "        video_length = batch.shape[0]\n",
        "        length = min(MAX_SEQ_LENGTH, video_length)\n",
        "        for j in range(length):\n",
        "            frame_features[i, j, :] = feature_extractor.predict(batch[None, j, :])\n",
        "        frame_mask[i, :length] = 1  # 1 = not masked, 0 = masked\n",
        "\n",
        "    return frame_features, frame_mask\n",
        "\n",
        "\n",
        "def sequence_prediction(path):\n",
        "    class_vocab = label_processor.get_vocabulary()\n",
        "\n",
        "    frames = load_video(os.path.join(\"test\", path))\n",
        "    frame_features, frame_mask = prepare_single_video(frames)\n",
        "    probabilities = sequence_model.predict([frame_features, frame_mask])[0]\n",
        "\n",
        "    for i in np.argsort(probabilities)[::-1]:\n",
        "        print(f\"  {class_vocab[i]}: {probabilities[i] * 100:5.2f}%\")\n",
        "    return frames\n",
        "\n",
        "\n",
        "# This utility is for visualization.\n",
        "# Referenced from:\n",
        "# https://www.tensorflow.org/hub/tutorials/action_recognition_with_tf_hub\n",
        "def to_gif(images):\n",
        "    converted_images = images.astype(np.uint8)\n",
        "    imageio.mimsave(\"animation.gif\", converted_images, duration=100)\n",
        "    return Image(\"animation.gif\")\n",
        "\n",
        "\n",
        "test_video = np.random.choice(test_df[\"video_name\"].values.tolist())\n",
        "print(f\"Test video path: {test_video}\")\n",
        "test_frames = sequence_prediction(test_video)\n",
        "to_gif(test_frames[:MAX_SEQ_LENGTH])"
      ]
    },
    {
      "cell_type": "code",
      "source": [
        "import pandas as pd\n",
        "import numpy as np\n",
        "import os\n",
        "import tensorflow as tf\n",
        "from tensorflow import keras\n",
        "from sklearn.preprocessing import LabelEncoder\n",
        "import imageio\n",
        "from IPython.display import Image\n",
        "\n",
        "# Define constants used in the script\n",
        "MAX_SEQ_LENGTH = 100  # Example value, adjust according to your needs\n",
        "NUM_FEATURES = 2048  # Example value, adjust according to your needs\n",
        "EPOCHS = 10  # Number of epochs for training\n",
        "\n",
        "# Define the feature extractor function (replace this with your actual function)\n",
        "def feature_extractor(batch):\n",
        "    # This is a placeholder. Replace with your actual feature extraction logic.\n",
        "    return np.random.rand(1, NUM_FEATURES)\n",
        "\n",
        "# Define the load_video function (replace this with your actual function)\n",
        "def load_video(path):\n",
        "    # This is a placeholder. Replace with your actual video loading logic.\n",
        "    return np.random.rand(10, 224, 224, 3)  # Example video frames\n",
        "\n",
        "# Define the label processing function to use LabelEncoder\n",
        "def label_processor(labels):\n",
        "    le = LabelEncoder()\n",
        "    le.fit(labels)\n",
        "    return le\n",
        "\n",
        "# Load data into DataFrames\n",
        "train_df = pd.read_csv(r'train.csv')\n",
        "test_df = pd.read_csv(r'test.csv')\n",
        "\n",
        "# Initialize the label processor and get the class vocabulary\n",
        "label_encoder = label_processor(train_df[\"tag\"].values)\n",
        "class_vocab = label_encoder.classes_\n",
        "\n",
        "def prepare_all_videos(df, root_dir):\n",
        "    num_samples = len(df)\n",
        "    video_paths = df[\"video_name\"].values.tolist()\n",
        "    labels = df[\"tag\"].values\n",
        "    labels = tf.convert_to_tensor(label_encoder.transform(labels))\n",
        "\n",
        "    # `frame_masks` and `frame_features` are what we will feed to our sequence model.\n",
        "    frame_masks = np.zeros(shape=(num_samples, MAX_SEQ_LENGTH), dtype=bool)\n",
        "    frame_features = np.zeros(shape=(num_samples, MAX_SEQ_LENGTH, NUM_FEATURES), dtype=np.float32)\n",
        "\n",
        "    # For each video.\n",
        "    for idx, path in enumerate(video_paths):\n",
        "        # Gather all its frames and add a batch dimension.\n",
        "        frames = load_video(os.path.join(root_dir, path))\n",
        "        frames = frames[None, ...]\n",
        "\n",
        "        # Initialize placeholders to store the masks and features of the current video.\n",
        "        temp_frame_mask = np.zeros(shape=(1, MAX_SEQ_LENGTH), dtype=bool)\n",
        "        temp_frame_features = np.zeros(shape=(1, MAX_SEQ_LENGTH, NUM_FEATURES), dtype=np.float32)\n",
        "\n",
        "        # Extract features from the frames of the current video.\n",
        "        for i, batch in enumerate(frames):\n",
        "            video_length = batch.shape[0]\n",
        "            length = min(MAX_SEQ_LENGTH, video_length)\n",
        "            for j in range(length):\n",
        "                temp_frame_features[i, j, :] = feature_extractor(batch[None, j, :])\n",
        "            temp_frame_mask[i, :length] = 1  # 1 = not masked, 0 = masked\n",
        "\n",
        "        frame_features[idx] = temp_frame_features.squeeze()\n",
        "        frame_masks[idx] = temp_frame_mask.squeeze()\n",
        "\n",
        "    return (frame_features, frame_masks), labels\n",
        "\n",
        "# Prepare training and testing data\n",
        "train_data, train_labels = prepare_all_videos(train_df, \"train\")\n",
        "test_data, test_labels = prepare_all_videos(test_df, \"test\")\n",
        "\n",
        "def get_sequence_model(num_classes):\n",
        "    frame_features_input = keras.Inpu\n"
      ],
      "metadata": {
        "id": "KLJWNlXNgzLI"
      },
      "execution_count": 12,
      "outputs": []
    },
    {
      "cell_type": "markdown",
      "metadata": {
        "id": "9F5gcpVBZuNe"
      },
      "source": [
        "## Next steps\n",
        "\n",
        "* In this example, we made use of transfer learning for extracting meaningful features\n",
        "from video frames. You could also fine-tune the pre-trained network to notice how that\n",
        "affects the end results.\n",
        "* For speed-accuracy trade-offs, you can try out other models present inside\n",
        "`keras.applications`.\n",
        "* Try different combinations of `MAX_SEQ_LENGTH` to observe how that affects the\n",
        "performance.\n",
        "* Train on a higher number of classes and see if you are able to get good performance.\n",
        "* Following [this tutorial](https://www.tensorflow.org/hub/tutorials/action_recognition_with_tf_hub), try a\n",
        "[pre-trained action recognition model](https://arxiv.org/abs/1705.07750) from DeepMind.\n",
        "* Rolling-averaging can be useful technique for video classification and it can be\n",
        "combined with a standard image classification model to infer on videos.\n",
        "[This tutorial](https://www.pyimagesearch.com/2019/07/15/video-classification-with-keras-and-deep-learning/)\n",
        "will help understand how to use rolling-averaging with an image classifier.\n",
        "* When there are variations in between the frames of a video not all the frames might be\n",
        "equally important to decide its category. In those situations, putting a\n",
        "[self-attention layer](https://www.tensorflow.org/api_docs/python/tf/keras/layers/Attention) in the\n",
        "sequence model will likely yield better results.\n",
        "* Following [this book chapter](https://livebook.manning.com/book/deep-learning-with-python-second-edition/chapter-11),\n",
        "you can implement Transformers-based models for processing videos."
      ]
    }
  ],
  "metadata": {
    "accelerator": "GPU",
    "colab": {
      "name": "video_classification",
      "provenance": [],
      "toc_visible": true
    },
    "kernelspec": {
      "display_name": "Python 3",
      "language": "python",
      "name": "python3"
    },
    "language_info": {
      "codemirror_mode": {
        "name": "ipython",
        "version": 3
      },
      "file_extension": ".py",
      "mimetype": "text/x-python",
      "name": "python",
      "nbconvert_exporter": "python",
      "pygments_lexer": "ipython3",
      "version": "3.7.0"
    }
  },
  "nbformat": 4,
  "nbformat_minor": 0
}